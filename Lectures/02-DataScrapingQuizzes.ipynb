{
 "cells": [
  {
   "cell_type": "code",
   "execution_count": 1,
   "metadata": {
    "slideshow": {
     "slide_type": "skip"
    }
   },
   "outputs": [],
   "source": [
    "## all imports\n",
    "from IPython.display import HTML\n",
    "import numpy as np\n",
    "from urllib.request import urlopen\n",
    "import bs4 #this is beautiful soup\n",
    "import time\n",
    "import operator\n",
    "import socket\n",
    "import pickle\n",
    "import re # regular expressions\n",
    "\n",
    "from pandas import Series\n",
    "import pandas as pd\n",
    "from pandas import DataFrame\n",
    "\n",
    "import matplotlib\n",
    "import matplotlib.pyplot as plt\n",
    "%matplotlib inline\n",
    "\n",
    "import seaborn as sns\n",
    "sns.set_context(\"talk\")\n",
    "sns.set_style(\"white\")"
   ]
  },
  {
   "cell_type": "markdown",
   "metadata": {
    "slideshow": {
     "slide_type": "skip"
    }
   },
   "source": [
    "API registrations\n",
    "=================\n",
    "\n",
    "If you would like to run all the examples in this notebook, you need to register for the following APIs:\n",
    "\n",
    "* Rotten Tomatoes\n",
    "\n",
    "http://developer.rottentomatoes.com/member/register\n",
    "\n",
    "* Twitter\n",
    "\n",
    "https://apps.twitter.com/app/new\n",
    "\n",
    "* Twitter instructions\n",
    "\n",
    "https://twittercommunity.com/t/how-to-get-my-api-key/7033"
   ]
  },
  {
   "cell_type": "markdown",
   "metadata": {
    "slideshow": {
     "slide_type": "slide"
    }
   },
   "source": [
    "CS109\n",
    "=====\n",
    "\n",
    "Verena Kaynig-Fittkau, Joe Blitzstein, Hanspeter Pfister\n",
    "\n",
    "* vkaynig@seas.harvard.edu\n",
    "* staff@cs109.org"
   ]
  },
  {
   "cell_type": "markdown",
   "metadata": {
    "slideshow": {
     "slide_type": "slide"
    }
   },
   "source": [
    "Announcements\n",
    "==============\n",
    "\n",
    "* Over 400 sign ups on github!\n",
    "* If you are still missing, fill out the survey, time is running out!\n",
    "* Make sure you are on Piazza!\n",
    "\n",
    "\n",
    "* More [git help](https://www.youtube.com/channel/UC0-KaiZFXBlGOFN71YsEV8g/videos)\n",
    "\n",
    "\n",
    "* HW0 is due on Thursday \n",
    "* HW1 is coming out on Thursday\n"
   ]
  },
  {
   "cell_type": "markdown",
   "metadata": {
    "slideshow": {
     "slide_type": "slide"
    }
   },
   "source": [
    "Todays lecture:\n",
    "===============\n",
    "\n",
    "* introduction to pandas\n",
    "    - read a table\n",
    "    - do some plots\n",
    "\n",
    "* all about data scraping\n",
    "* ***What is it? ***\n",
    "* How to do it:\n",
    "    - from a website\n",
    "    - with an API"
   ]
  },
  {
   "cell_type": "markdown",
   "metadata": {
    "slideshow": {
     "slide_type": "slide"
    }
   },
   "source": [
    "IPython Notebooks:\n",
    "===================\n",
    "\n",
    "![IPython](images/ipython.png \"IPython\")"
   ]
  },
  {
   "cell_type": "markdown",
   "metadata": {
    "collapsed": true,
    "slideshow": {
     "slide_type": "slide"
    }
   },
   "source": [
    "IPython Notebooks:\n",
    "===================\n",
    "\n",
    "* These slides are an IPython notebook!\n",
    "* https://github.com/damianavila/live_reveal"
   ]
  },
  {
   "cell_type": "code",
   "execution_count": 2,
   "metadata": {},
   "outputs": [
    {
     "name": "stdout",
     "output_type": "stream",
     "text": [
      "Hello CS109\n",
      "I love IPython\n"
     ]
    }
   ],
   "source": [
    "print(\"Hello CS109\")\n",
    "\n",
    "print(\"I love IPython\")\n",
    "\n",
    "# Ipython notebook have tab completion!\n",
    "# and inbuild help\n",
    "  \n",
    "a = np.zeros(3)"
   ]
  },
  {
   "cell_type": "markdown",
   "metadata": {
    "slideshow": {
     "slide_type": "slide"
    }
   },
   "source": [
    "General advice about programming\n",
    "==================================\n",
    "\n",
    "* You will find nearly everything on google\n",
    "* Try: length of a list in python\n",
    "* A programmer is someone who can turn stack overflow snippets into running code\n",
    "* Use tab completion\n",
    "* Make your variable names meaningful\n"
   ]
  },
  {
   "cell_type": "markdown",
   "metadata": {
    "slideshow": {
     "slide_type": "slide"
    }
   },
   "source": [
    "How to load a table\n",
    "===================\n",
    "\n",
    "* we use Pandas for this\n",
    "* Pandas can do a __lot__ more\n",
    "* more about it later"
   ]
  },
  {
   "cell_type": "markdown",
   "metadata": {
    "slideshow": {
     "slide_type": "slide"
    }
   },
   "source": [
    "The MovieLens data\n",
    "===================\n",
    "\n",
    "http://grouplens.org/datasets/movielens/\n",
    "\n",
    "![Grouplens](images/grouplens.jpg \"Grouplens\")\n",
    "\n",
    "Example inspired by [Greg Reda](http://www.gregreda.com/2013/10/26/using-pandas-on-the-movielens-dataset/)"
   ]
  },
  {
   "cell_type": "markdown",
   "metadata": {
    "slideshow": {
     "slide_type": "slide"
    }
   },
   "source": [
    "Read the user data\n",
    "=================="
   ]
  },
  {
   "cell_type": "code",
   "execution_count": 3,
   "metadata": {
    "slideshow": {
     "slide_type": "-"
    }
   },
   "outputs": [
    {
     "data": {
      "text/html": [
       "<div>\n",
       "<style scoped>\n",
       "    .dataframe tbody tr th:only-of-type {\n",
       "        vertical-align: middle;\n",
       "    }\n",
       "\n",
       "    .dataframe tbody tr th {\n",
       "        vertical-align: top;\n",
       "    }\n",
       "\n",
       "    .dataframe thead th {\n",
       "        text-align: right;\n",
       "    }\n",
       "</style>\n",
       "<table border=\"1\" class=\"dataframe\">\n",
       "  <thead>\n",
       "    <tr style=\"text-align: right;\">\n",
       "      <th></th>\n",
       "      <th>user_id</th>\n",
       "      <th>age</th>\n",
       "      <th>sex</th>\n",
       "      <th>occupation</th>\n",
       "      <th>zip_code</th>\n",
       "    </tr>\n",
       "  </thead>\n",
       "  <tbody>\n",
       "    <tr>\n",
       "      <th>0</th>\n",
       "      <td>1</td>\n",
       "      <td>24</td>\n",
       "      <td>M</td>\n",
       "      <td>technician</td>\n",
       "      <td>85711</td>\n",
       "    </tr>\n",
       "    <tr>\n",
       "      <th>1</th>\n",
       "      <td>2</td>\n",
       "      <td>53</td>\n",
       "      <td>F</td>\n",
       "      <td>other</td>\n",
       "      <td>94043</td>\n",
       "    </tr>\n",
       "    <tr>\n",
       "      <th>2</th>\n",
       "      <td>3</td>\n",
       "      <td>23</td>\n",
       "      <td>M</td>\n",
       "      <td>writer</td>\n",
       "      <td>32067</td>\n",
       "    </tr>\n",
       "    <tr>\n",
       "      <th>3</th>\n",
       "      <td>4</td>\n",
       "      <td>24</td>\n",
       "      <td>M</td>\n",
       "      <td>technician</td>\n",
       "      <td>43537</td>\n",
       "    </tr>\n",
       "    <tr>\n",
       "      <th>4</th>\n",
       "      <td>5</td>\n",
       "      <td>33</td>\n",
       "      <td>F</td>\n",
       "      <td>other</td>\n",
       "      <td>15213</td>\n",
       "    </tr>\n",
       "  </tbody>\n",
       "</table>\n",
       "</div>"
      ],
      "text/plain": [
       "   user_id  age sex  occupation zip_code\n",
       "0        1   24   M  technician    85711\n",
       "1        2   53   F       other    94043\n",
       "2        3   23   M      writer    32067\n",
       "3        4   24   M  technician    43537\n",
       "4        5   33   F       other    15213"
      ]
     },
     "execution_count": 3,
     "metadata": {},
     "output_type": "execute_result"
    }
   ],
   "source": [
    "# pass in column names for each CSV\n",
    "u_cols = ['user_id', 'age', 'sex', 'occupation', 'zip_code']\n",
    "\n",
    "users = pd.read_csv(\n",
    "    'http://files.grouplens.org/datasets/movielens/ml-100k/u.user', \n",
    "    sep='|', names=u_cols)\n",
    "\n",
    "users.head()"
   ]
  },
  {
   "cell_type": "markdown",
   "metadata": {
    "slideshow": {
     "slide_type": "slide"
    }
   },
   "source": [
    "Read the ratings\n",
    "============"
   ]
  },
  {
   "cell_type": "code",
   "execution_count": 4,
   "metadata": {},
   "outputs": [
    {
     "data": {
      "text/html": [
       "<div>\n",
       "<style scoped>\n",
       "    .dataframe tbody tr th:only-of-type {\n",
       "        vertical-align: middle;\n",
       "    }\n",
       "\n",
       "    .dataframe tbody tr th {\n",
       "        vertical-align: top;\n",
       "    }\n",
       "\n",
       "    .dataframe thead th {\n",
       "        text-align: right;\n",
       "    }\n",
       "</style>\n",
       "<table border=\"1\" class=\"dataframe\">\n",
       "  <thead>\n",
       "    <tr style=\"text-align: right;\">\n",
       "      <th></th>\n",
       "      <th>user_id</th>\n",
       "      <th>movie_id</th>\n",
       "      <th>rating</th>\n",
       "      <th>unix_timestamp</th>\n",
       "    </tr>\n",
       "  </thead>\n",
       "  <tbody>\n",
       "    <tr>\n",
       "      <th>0</th>\n",
       "      <td>196</td>\n",
       "      <td>242</td>\n",
       "      <td>3</td>\n",
       "      <td>881250949</td>\n",
       "    </tr>\n",
       "    <tr>\n",
       "      <th>1</th>\n",
       "      <td>186</td>\n",
       "      <td>302</td>\n",
       "      <td>3</td>\n",
       "      <td>891717742</td>\n",
       "    </tr>\n",
       "    <tr>\n",
       "      <th>2</th>\n",
       "      <td>22</td>\n",
       "      <td>377</td>\n",
       "      <td>1</td>\n",
       "      <td>878887116</td>\n",
       "    </tr>\n",
       "    <tr>\n",
       "      <th>3</th>\n",
       "      <td>244</td>\n",
       "      <td>51</td>\n",
       "      <td>2</td>\n",
       "      <td>880606923</td>\n",
       "    </tr>\n",
       "    <tr>\n",
       "      <th>4</th>\n",
       "      <td>166</td>\n",
       "      <td>346</td>\n",
       "      <td>1</td>\n",
       "      <td>886397596</td>\n",
       "    </tr>\n",
       "  </tbody>\n",
       "</table>\n",
       "</div>"
      ],
      "text/plain": [
       "   user_id  movie_id  rating  unix_timestamp\n",
       "0      196       242       3       881250949\n",
       "1      186       302       3       891717742\n",
       "2       22       377       1       878887116\n",
       "3      244        51       2       880606923\n",
       "4      166       346       1       886397596"
      ]
     },
     "execution_count": 4,
     "metadata": {},
     "output_type": "execute_result"
    }
   ],
   "source": [
    "r_cols = ['user_id', 'movie_id', 'rating', 'unix_timestamp']\n",
    "ratings = pd.read_csv(\n",
    "    'http://files.grouplens.org/datasets/movielens/ml-100k/u.data', \n",
    "    sep='\\t', names=r_cols)\n",
    "\n",
    "ratings.head() "
   ]
  },
  {
   "cell_type": "markdown",
   "metadata": {
    "slideshow": {
     "slide_type": "slide"
    }
   },
   "source": [
    "Now data about the movies\n",
    "========================="
   ]
  },
  {
   "cell_type": "code",
   "execution_count": 6,
   "metadata": {},
   "outputs": [
    {
     "data": {
      "text/html": [
       "<div>\n",
       "<style scoped>\n",
       "    .dataframe tbody tr th:only-of-type {\n",
       "        vertical-align: middle;\n",
       "    }\n",
       "\n",
       "    .dataframe tbody tr th {\n",
       "        vertical-align: top;\n",
       "    }\n",
       "\n",
       "    .dataframe thead th {\n",
       "        text-align: right;\n",
       "    }\n",
       "</style>\n",
       "<table border=\"1\" class=\"dataframe\">\n",
       "  <thead>\n",
       "    <tr style=\"text-align: right;\">\n",
       "      <th></th>\n",
       "      <th>movie_id</th>\n",
       "      <th>title</th>\n",
       "      <th>release_date</th>\n",
       "      <th>video_release_date</th>\n",
       "      <th>imdb_url</th>\n",
       "    </tr>\n",
       "  </thead>\n",
       "  <tbody>\n",
       "    <tr>\n",
       "      <th>0</th>\n",
       "      <td>1</td>\n",
       "      <td>Toy Story (1995)</td>\n",
       "      <td>01-Jan-1995</td>\n",
       "      <td>NaN</td>\n",
       "      <td>http://us.imdb.com/M/title-exact?Toy%20Story%2...</td>\n",
       "    </tr>\n",
       "    <tr>\n",
       "      <th>1</th>\n",
       "      <td>2</td>\n",
       "      <td>GoldenEye (1995)</td>\n",
       "      <td>01-Jan-1995</td>\n",
       "      <td>NaN</td>\n",
       "      <td>http://us.imdb.com/M/title-exact?GoldenEye%20(...</td>\n",
       "    </tr>\n",
       "    <tr>\n",
       "      <th>2</th>\n",
       "      <td>3</td>\n",
       "      <td>Four Rooms (1995)</td>\n",
       "      <td>01-Jan-1995</td>\n",
       "      <td>NaN</td>\n",
       "      <td>http://us.imdb.com/M/title-exact?Four%20Rooms%...</td>\n",
       "    </tr>\n",
       "    <tr>\n",
       "      <th>3</th>\n",
       "      <td>4</td>\n",
       "      <td>Get Shorty (1995)</td>\n",
       "      <td>01-Jan-1995</td>\n",
       "      <td>NaN</td>\n",
       "      <td>http://us.imdb.com/M/title-exact?Get%20Shorty%...</td>\n",
       "    </tr>\n",
       "    <tr>\n",
       "      <th>4</th>\n",
       "      <td>5</td>\n",
       "      <td>Copycat (1995)</td>\n",
       "      <td>01-Jan-1995</td>\n",
       "      <td>NaN</td>\n",
       "      <td>http://us.imdb.com/M/title-exact?Copycat%20(1995)</td>\n",
       "    </tr>\n",
       "  </tbody>\n",
       "</table>\n",
       "</div>"
      ],
      "text/plain": [
       "   movie_id              title release_date  video_release_date  \\\n",
       "0         1   Toy Story (1995)  01-Jan-1995                 NaN   \n",
       "1         2   GoldenEye (1995)  01-Jan-1995                 NaN   \n",
       "2         3  Four Rooms (1995)  01-Jan-1995                 NaN   \n",
       "3         4  Get Shorty (1995)  01-Jan-1995                 NaN   \n",
       "4         5     Copycat (1995)  01-Jan-1995                 NaN   \n",
       "\n",
       "                                            imdb_url  \n",
       "0  http://us.imdb.com/M/title-exact?Toy%20Story%2...  \n",
       "1  http://us.imdb.com/M/title-exact?GoldenEye%20(...  \n",
       "2  http://us.imdb.com/M/title-exact?Four%20Rooms%...  \n",
       "3  http://us.imdb.com/M/title-exact?Get%20Shorty%...  \n",
       "4  http://us.imdb.com/M/title-exact?Copycat%20(1995)  "
      ]
     },
     "execution_count": 6,
     "metadata": {},
     "output_type": "execute_result"
    }
   ],
   "source": [
    "# the movies file contains columns indicating the movie's genres\n",
    "# let's only load the first five columns of the file with usecols\n",
    "m_cols = ['movie_id', 'title', 'release_date', \n",
    "            'video_release_date', 'imdb_url']\n",
    "\n",
    "movies = pd.read_csv(\n",
    "    'http://files.grouplens.org/datasets/movielens/ml-100k/u.item', \n",
    "    sep='|', names=m_cols, usecols=range(5), encoding='latin-1')\n",
    "\n",
    "movies.head()"
   ]
  },
  {
   "cell_type": "code",
   "execution_count": 8,
   "metadata": {},
   "outputs": [
    {
     "data": {
      "text/html": [
       "<div>\n",
       "<style scoped>\n",
       "    .dataframe tbody tr th:only-of-type {\n",
       "        vertical-align: middle;\n",
       "    }\n",
       "\n",
       "    .dataframe tbody tr th {\n",
       "        vertical-align: top;\n",
       "    }\n",
       "\n",
       "    .dataframe thead th {\n",
       "        text-align: right;\n",
       "    }\n",
       "</style>\n",
       "<table border=\"1\" class=\"dataframe\">\n",
       "  <thead>\n",
       "    <tr style=\"text-align: right;\">\n",
       "      <th></th>\n",
       "      <th>movie_id</th>\n",
       "      <th>title</th>\n",
       "      <th>release_date</th>\n",
       "      <th>video_release_date</th>\n",
       "      <th>imdb_url</th>\n",
       "    </tr>\n",
       "  </thead>\n",
       "  <tbody>\n",
       "  </tbody>\n",
       "</table>\n",
       "</div>"
      ],
      "text/plain": [
       "Empty DataFrame\n",
       "Columns: [movie_id, title, release_date, video_release_date, imdb_url]\n",
       "Index: []"
      ]
     },
     "execution_count": 8,
     "metadata": {},
     "output_type": "execute_result"
    }
   ],
   "source": [
    "movies[movies.video_release_date.notnull()]"
   ]
  },
  {
   "cell_type": "markdown",
   "metadata": {
    "slideshow": {
     "slide_type": "slide"
    }
   },
   "source": [
    "Get information about data\n",
    "======================="
   ]
  },
  {
   "cell_type": "code",
   "execution_count": 9,
   "metadata": {},
   "outputs": [
    {
     "name": "stdout",
     "output_type": "stream",
     "text": [
      "movie_id                int64\n",
      "title                  object\n",
      "release_date           object\n",
      "video_release_date    float64\n",
      "imdb_url               object\n",
      "dtype: object\n",
      "          movie_id  video_release_date\n",
      "count  1682.000000                 0.0\n",
      "mean    841.500000                 NaN\n",
      "std     485.695893                 NaN\n",
      "min       1.000000                 NaN\n",
      "25%     421.250000                 NaN\n",
      "50%     841.500000                 NaN\n",
      "75%    1261.750000                 NaN\n",
      "max    1682.000000                 NaN\n"
     ]
    }
   ],
   "source": [
    "print(movies.dtypes)\n",
    "print\n",
    "print(movies.describe())\n",
    "# *** Why only those two columns? ***"
   ]
  },
  {
   "cell_type": "markdown",
   "metadata": {
    "slideshow": {
     "slide_type": "slide"
    }
   },
   "source": [
    "Selecting data\n",
    "==============\n",
    "\n",
    "* DataFrame => group of Series with shared index\n",
    "* single DataFrame column => Series"
   ]
  },
  {
   "cell_type": "code",
   "execution_count": 10,
   "metadata": {
    "slideshow": {
     "slide_type": "slide"
    }
   },
   "outputs": [
    {
     "name": "stdout",
     "output_type": "stream",
     "text": [
      "   user_id  age sex  occupation zip_code\n",
      "0        1   24   M  technician    85711\n",
      "1        2   53   F       other    94043\n",
      "2        3   23   M      writer    32067\n",
      "3        4   24   M  technician    43537\n",
      "4        5   33   F       other    15213\n",
      "user_id                4\n",
      "age                   24\n",
      "sex                    M\n",
      "occupation    technician\n",
      "zip_code           43537\n",
      "Name: 3, dtype: object\n"
     ]
    }
   ],
   "source": [
    "users.head()\n",
    "users['occupation'].head()\n",
    "## *** Where did the nice design go? ***\n",
    "columns_you_want = ['occupation', 'sex'] \n",
    "users[columns_you_want].head()\n",
    "\n",
    "print(users.head())\n",
    "\n",
    "print(users.iloc[3])"
   ]
  },
  {
   "cell_type": "markdown",
   "metadata": {
    "slideshow": {
     "slide_type": "slide"
    }
   },
   "source": [
    "Filtering data\n",
    "==============\n",
    "\n",
    "Select users older than 25"
   ]
  },
  {
   "cell_type": "code",
   "execution_count": 11,
   "metadata": {},
   "outputs": [
    {
     "data": {
      "text/html": [
       "<div>\n",
       "<style scoped>\n",
       "    .dataframe tbody tr th:only-of-type {\n",
       "        vertical-align: middle;\n",
       "    }\n",
       "\n",
       "    .dataframe tbody tr th {\n",
       "        vertical-align: top;\n",
       "    }\n",
       "\n",
       "    .dataframe thead th {\n",
       "        text-align: right;\n",
       "    }\n",
       "</style>\n",
       "<table border=\"1\" class=\"dataframe\">\n",
       "  <thead>\n",
       "    <tr style=\"text-align: right;\">\n",
       "      <th></th>\n",
       "      <th>user_id</th>\n",
       "      <th>age</th>\n",
       "      <th>sex</th>\n",
       "      <th>occupation</th>\n",
       "      <th>zip_code</th>\n",
       "    </tr>\n",
       "  </thead>\n",
       "  <tbody>\n",
       "    <tr>\n",
       "      <th>1</th>\n",
       "      <td>2</td>\n",
       "      <td>53</td>\n",
       "      <td>F</td>\n",
       "      <td>other</td>\n",
       "      <td>94043</td>\n",
       "    </tr>\n",
       "    <tr>\n",
       "      <th>4</th>\n",
       "      <td>5</td>\n",
       "      <td>33</td>\n",
       "      <td>F</td>\n",
       "      <td>other</td>\n",
       "      <td>15213</td>\n",
       "    </tr>\n",
       "    <tr>\n",
       "      <th>5</th>\n",
       "      <td>6</td>\n",
       "      <td>42</td>\n",
       "      <td>M</td>\n",
       "      <td>executive</td>\n",
       "      <td>98101</td>\n",
       "    </tr>\n",
       "    <tr>\n",
       "      <th>6</th>\n",
       "      <td>7</td>\n",
       "      <td>57</td>\n",
       "      <td>M</td>\n",
       "      <td>administrator</td>\n",
       "      <td>91344</td>\n",
       "    </tr>\n",
       "    <tr>\n",
       "      <th>7</th>\n",
       "      <td>8</td>\n",
       "      <td>36</td>\n",
       "      <td>M</td>\n",
       "      <td>administrator</td>\n",
       "      <td>05201</td>\n",
       "    </tr>\n",
       "  </tbody>\n",
       "</table>\n",
       "</div>"
      ],
      "text/plain": [
       "   user_id  age sex     occupation zip_code\n",
       "1        2   53   F          other    94043\n",
       "4        5   33   F          other    15213\n",
       "5        6   42   M      executive    98101\n",
       "6        7   57   M  administrator    91344\n",
       "7        8   36   M  administrator    05201"
      ]
     },
     "execution_count": 11,
     "metadata": {},
     "output_type": "execute_result"
    }
   ],
   "source": [
    "oldUsers = users[users.age > 25]\n",
    "oldUsers.head()"
   ]
  },
  {
   "cell_type": "markdown",
   "metadata": {
    "slideshow": {
     "slide_type": "slide"
    }
   },
   "source": [
    "Quiz:\n",
    "=====\n",
    "\n",
    "* show users aged 40 and male\n",
    "\n",
    "* show the mean age of female programmers"
   ]
  },
  {
   "cell_type": "code",
   "execution_count": 12,
   "metadata": {
    "slideshow": {
     "slide_type": "slide"
    }
   },
   "outputs": [
    {
     "data": {
      "text/html": [
       "<div>\n",
       "<style scoped>\n",
       "    .dataframe tbody tr th:only-of-type {\n",
       "        vertical-align: middle;\n",
       "    }\n",
       "\n",
       "    .dataframe tbody tr th {\n",
       "        vertical-align: top;\n",
       "    }\n",
       "\n",
       "    .dataframe thead th {\n",
       "        text-align: right;\n",
       "    }\n",
       "</style>\n",
       "<table border=\"1\" class=\"dataframe\">\n",
       "  <thead>\n",
       "    <tr style=\"text-align: right;\">\n",
       "      <th></th>\n",
       "      <th>user_id</th>\n",
       "      <th>age</th>\n",
       "      <th>sex</th>\n",
       "      <th>occupation</th>\n",
       "      <th>zip_code</th>\n",
       "    </tr>\n",
       "  </thead>\n",
       "  <tbody>\n",
       "    <tr>\n",
       "      <th>18</th>\n",
       "      <td>19</td>\n",
       "      <td>40</td>\n",
       "      <td>M</td>\n",
       "      <td>librarian</td>\n",
       "      <td>02138</td>\n",
       "    </tr>\n",
       "    <tr>\n",
       "      <th>82</th>\n",
       "      <td>83</td>\n",
       "      <td>40</td>\n",
       "      <td>M</td>\n",
       "      <td>other</td>\n",
       "      <td>44133</td>\n",
       "    </tr>\n",
       "    <tr>\n",
       "      <th>115</th>\n",
       "      <td>116</td>\n",
       "      <td>40</td>\n",
       "      <td>M</td>\n",
       "      <td>healthcare</td>\n",
       "      <td>97232</td>\n",
       "    </tr>\n",
       "    <tr>\n",
       "      <th>199</th>\n",
       "      <td>200</td>\n",
       "      <td>40</td>\n",
       "      <td>M</td>\n",
       "      <td>programmer</td>\n",
       "      <td>93402</td>\n",
       "    </tr>\n",
       "    <tr>\n",
       "      <th>283</th>\n",
       "      <td>284</td>\n",
       "      <td>40</td>\n",
       "      <td>M</td>\n",
       "      <td>executive</td>\n",
       "      <td>92629</td>\n",
       "    </tr>\n",
       "    <tr>\n",
       "      <th>289</th>\n",
       "      <td>290</td>\n",
       "      <td>40</td>\n",
       "      <td>M</td>\n",
       "      <td>engineer</td>\n",
       "      <td>93550</td>\n",
       "    </tr>\n",
       "    <tr>\n",
       "      <th>308</th>\n",
       "      <td>309</td>\n",
       "      <td>40</td>\n",
       "      <td>M</td>\n",
       "      <td>scientist</td>\n",
       "      <td>70802</td>\n",
       "    </tr>\n",
       "    <tr>\n",
       "      <th>357</th>\n",
       "      <td>358</td>\n",
       "      <td>40</td>\n",
       "      <td>M</td>\n",
       "      <td>educator</td>\n",
       "      <td>10022</td>\n",
       "    </tr>\n",
       "    <tr>\n",
       "      <th>397</th>\n",
       "      <td>398</td>\n",
       "      <td>40</td>\n",
       "      <td>M</td>\n",
       "      <td>other</td>\n",
       "      <td>60008</td>\n",
       "    </tr>\n",
       "    <tr>\n",
       "      <th>564</th>\n",
       "      <td>565</td>\n",
       "      <td>40</td>\n",
       "      <td>M</td>\n",
       "      <td>student</td>\n",
       "      <td>55422</td>\n",
       "    </tr>\n",
       "    <tr>\n",
       "      <th>646</th>\n",
       "      <td>647</td>\n",
       "      <td>40</td>\n",
       "      <td>M</td>\n",
       "      <td>educator</td>\n",
       "      <td>45810</td>\n",
       "    </tr>\n",
       "    <tr>\n",
       "      <th>791</th>\n",
       "      <td>792</td>\n",
       "      <td>40</td>\n",
       "      <td>M</td>\n",
       "      <td>programmer</td>\n",
       "      <td>12205</td>\n",
       "    </tr>\n",
       "    <tr>\n",
       "      <th>841</th>\n",
       "      <td>842</td>\n",
       "      <td>40</td>\n",
       "      <td>M</td>\n",
       "      <td>writer</td>\n",
       "      <td>93055</td>\n",
       "    </tr>\n",
       "    <tr>\n",
       "      <th>917</th>\n",
       "      <td>918</td>\n",
       "      <td>40</td>\n",
       "      <td>M</td>\n",
       "      <td>scientist</td>\n",
       "      <td>70116</td>\n",
       "    </tr>\n",
       "  </tbody>\n",
       "</table>\n",
       "</div>"
      ],
      "text/plain": [
       "     user_id  age sex  occupation zip_code\n",
       "18        19   40   M   librarian    02138\n",
       "82        83   40   M       other    44133\n",
       "115      116   40   M  healthcare    97232\n",
       "199      200   40   M  programmer    93402\n",
       "283      284   40   M   executive    92629\n",
       "289      290   40   M    engineer    93550\n",
       "308      309   40   M   scientist    70802\n",
       "357      358   40   M    educator    10022\n",
       "397      398   40   M       other    60008\n",
       "564      565   40   M     student    55422\n",
       "646      647   40   M    educator    45810\n",
       "791      792   40   M  programmer    12205\n",
       "841      842   40   M      writer    93055\n",
       "917      918   40   M   scientist    70116"
      ]
     },
     "execution_count": 12,
     "metadata": {},
     "output_type": "execute_result"
    }
   ],
   "source": [
    "# users aged 40 AND male\n",
    "# your code here\n",
    "users[(users.age==40)&(users.sex=='M')]"
   ]
  },
  {
   "cell_type": "code",
   "execution_count": 17,
   "metadata": {
    "slideshow": {
     "slide_type": "slide"
    }
   },
   "outputs": [
    {
     "name": "stdout",
     "output_type": "stream",
     "text": [
      "     user_id  age sex  occupation zip_code\n",
      "291      292   35   F  programmer    94703\n",
      "299      300   26   F  programmer    55106\n",
      "351      352   37   F  programmer    55105\n",
      "403      404   29   F  programmer    55108\n",
      "420      421   38   F  programmer    55105\n",
      "697      698   28   F  programmer    06906\n"
     ]
    },
    {
     "data": {
      "text/plain": [
       "32.166666666666664"
      ]
     },
     "execution_count": 17,
     "metadata": {},
     "output_type": "execute_result"
    }
   ],
   "source": [
    "## users who are female and programmers\n",
    "# your code here\n",
    "sheTech = users[(users.sex==\"F\")&(users.occupation=='programmer')]\n",
    "\n",
    "## show statistic summary or compute mean\n",
    "# your code here\n",
    "print(sheTech)\n",
    "sheTech.age.mean()\n"
   ]
  },
  {
   "cell_type": "markdown",
   "metadata": {
    "slideshow": {
     "slide_type": "slide"
    }
   },
   "source": [
    "Split-apply-combine\n",
    "===================\n",
    "\n",
    "* splitting the data into groups based on some criteria\n",
    "* applying a function to each group independently\n",
    "* combining the results into a data structure"
   ]
  },
  {
   "cell_type": "markdown",
   "metadata": {
    "slideshow": {
     "slide_type": "slide"
    }
   },
   "source": [
    "Split-apply-combine\n",
    "===================\n",
    "\n",
    "<img src=http://i.imgur.com/yjNkiwL.png></img>"
   ]
  },
  {
   "cell_type": "markdown",
   "metadata": {
    "slideshow": {
     "slide_type": "slide"
    }
   },
   "source": [
    "Find Diligent Users\n",
    "===================\n",
    "\n",
    "* split data per user ID\n",
    "* count ratings\n",
    "* combine result"
   ]
  },
  {
   "cell_type": "code",
   "execution_count": 23,
   "metadata": {
    "slideshow": {
     "slide_type": "slide"
    }
   },
   "outputs": [
    {
     "name": "stdout",
     "output_type": "stream",
     "text": [
      "   user_id  movie_id  rating  unix_timestamp\n",
      "0      196       242       3       881250949\n",
      "1      186       302       3       891717742\n",
      "2       22       377       1       878887116\n",
      "3      244        51       2       880606923\n",
      "4      166       346       1       886397596\n"
     ]
    },
    {
     "data": {
      "text/plain": [
       "user_id\n",
       "1    272\n",
       "2     62\n",
       "3     54\n",
       "4     24\n",
       "5    175\n",
       "Name: movie_id, dtype: int64"
      ]
     },
     "execution_count": 23,
     "metadata": {},
     "output_type": "execute_result"
    }
   ],
   "source": [
    "print(ratings.head())\n",
    "## split data\n",
    "# grouped_data = ratings.groupby('user_id')\n",
    "grouped_data = ratings.movie_id.groupby(ratings['user_id'])\n",
    "\n",
    "## count and combine\n",
    "ratings_per_user = grouped_data.count()\n",
    "\n",
    "ratings_per_user.head(5)"
   ]
  },
  {
   "cell_type": "markdown",
   "metadata": {
    "slideshow": {
     "slide_type": "slide"
    }
   },
   "source": [
    "Quiz\n",
    "====\n",
    "\n",
    "* get the average rating per movie\n",
    "* advanced: get the movie titles with the highest average rating"
   ]
  },
  {
   "cell_type": "code",
   "execution_count": 37,
   "metadata": {
    "slideshow": {
     "slide_type": "slide"
    }
   },
   "outputs": [
    {
     "name": "stdout",
     "output_type": "stream",
     "text": [
      "5.0\n"
     ]
    },
    {
     "data": {
      "text/plain": [
       "813                         Great Day in Harlem, A (1994)\n",
       "1121                       They Made Me a Criminal (1939)\n",
       "1188                                   Prefontaine (1997)\n",
       "1200           Marlene Dietrich: Shadow and Light (1996) \n",
       "1292                                      Star Kid (1997)\n",
       "1466                 Saint of Fort Washington, The (1993)\n",
       "1499                            Santa with Muscles (1996)\n",
       "1535                                 Aiqing wansui (1994)\n",
       "1598                        Someone Else's America (1995)\n",
       "1652    Entertaining Angels: The Dorothy Day Story (1996)\n",
       "Name: title, dtype: object"
      ]
     },
     "execution_count": 37,
     "metadata": {},
     "output_type": "execute_result"
    }
   ],
   "source": [
    "## split data\n",
    "# your code here\n",
    "grouped_data = ratings.groupby('movie_id')\n",
    "\n",
    "## average and combine\n",
    "# your code here\n",
    "mean_ratings = grouped_data.rating.mean()\n",
    "\n",
    "# get the maximum rating\n",
    "# your code here\n",
    "print(mean_ratings.max())\n",
    "max_rating=mean_ratings.max()\n",
    "# get movie ids with that rating\n",
    "# your code here\n",
    "best_ids= mean_ratings[mean_ratings==max_rating].index\n",
    "movies[movies.movie_id.isin(best_ids)]['title']"
   ]
  },
  {
   "cell_type": "code",
   "execution_count": null,
   "metadata": {
    "slideshow": {
     "slide_type": "slide"
    }
   },
   "outputs": [],
   "source": [
    "print(\"Good movie ids:\")\n",
    "print #your code here\n",
    "print\n",
    "\n",
    "print(\"Best movie titles\")\n",
    "print # your code here\n",
    "print"
   ]
  },
  {
   "cell_type": "code",
   "execution_count": null,
   "metadata": {
    "slideshow": {
     "slide_type": "slide"
    }
   },
   "outputs": [],
   "source": [
    "# get number of ratings per movie\n",
    "# your code here\n",
    "\n",
    "print(\"Number of ratings per movie\")\n",
    "print # your code here"
   ]
  },
  {
   "cell_type": "markdown",
   "metadata": {
    "slideshow": {
     "slide_type": "slide"
    }
   },
   "source": [
    "Passing a Function\n",
    "==================\n"
   ]
  },
  {
   "cell_type": "code",
   "execution_count": 38,
   "metadata": {},
   "outputs": [
    {
     "data": {
      "text/html": [
       "<div>\n",
       "<style scoped>\n",
       "    .dataframe tbody tr th:only-of-type {\n",
       "        vertical-align: middle;\n",
       "    }\n",
       "\n",
       "    .dataframe tbody tr th {\n",
       "        vertical-align: top;\n",
       "    }\n",
       "\n",
       "    .dataframe thead th {\n",
       "        text-align: right;\n",
       "    }\n",
       "</style>\n",
       "<table border=\"1\" class=\"dataframe\">\n",
       "  <thead>\n",
       "    <tr style=\"text-align: right;\">\n",
       "      <th></th>\n",
       "      <th>user_id</th>\n",
       "      <th>movie_id</th>\n",
       "      <th>rating</th>\n",
       "      <th>unix_timestamp</th>\n",
       "    </tr>\n",
       "    <tr>\n",
       "      <th>movie_id</th>\n",
       "      <th></th>\n",
       "      <th></th>\n",
       "      <th></th>\n",
       "      <th></th>\n",
       "    </tr>\n",
       "  </thead>\n",
       "  <tbody>\n",
       "    <tr>\n",
       "      <th>1</th>\n",
       "      <td>477.011062</td>\n",
       "      <td>1.0</td>\n",
       "      <td>3.878319</td>\n",
       "      <td>8.828054e+08</td>\n",
       "    </tr>\n",
       "    <tr>\n",
       "      <th>2</th>\n",
       "      <td>492.007634</td>\n",
       "      <td>2.0</td>\n",
       "      <td>3.206107</td>\n",
       "      <td>8.834174e+08</td>\n",
       "    </tr>\n",
       "    <tr>\n",
       "      <th>3</th>\n",
       "      <td>459.133333</td>\n",
       "      <td>3.0</td>\n",
       "      <td>3.033333</td>\n",
       "      <td>8.822269e+08</td>\n",
       "    </tr>\n",
       "    <tr>\n",
       "      <th>4</th>\n",
       "      <td>469.497608</td>\n",
       "      <td>4.0</td>\n",
       "      <td>3.550239</td>\n",
       "      <td>8.827175e+08</td>\n",
       "    </tr>\n",
       "    <tr>\n",
       "      <th>5</th>\n",
       "      <td>439.372093</td>\n",
       "      <td>5.0</td>\n",
       "      <td>3.302326</td>\n",
       "      <td>8.825882e+08</td>\n",
       "    </tr>\n",
       "  </tbody>\n",
       "</table>\n",
       "</div>"
      ],
      "text/plain": [
       "             user_id  movie_id    rating  unix_timestamp\n",
       "movie_id                                                \n",
       "1         477.011062       1.0  3.878319    8.828054e+08\n",
       "2         492.007634       2.0  3.206107    8.834174e+08\n",
       "3         459.133333       3.0  3.033333    8.822269e+08\n",
       "4         469.497608       4.0  3.550239    8.827175e+08\n",
       "5         439.372093       5.0  3.302326    8.825882e+08"
      ]
     },
     "execution_count": 38,
     "metadata": {},
     "output_type": "execute_result"
    }
   ],
   "source": [
    "average_ratings = grouped_data.apply(lambda f: f.mean())\n",
    "average_ratings.head()"
   ]
  },
  {
   "cell_type": "markdown",
   "metadata": {
    "slideshow": {
     "slide_type": "slide"
    }
   },
   "source": [
    "Quiz\n",
    "====\n",
    "\n",
    "* get the average rating per user\n",
    "* advanced: list all occupations and if they are male or female dominant"
   ]
  },
  {
   "cell_type": "code",
   "execution_count": 43,
   "metadata": {
    "slideshow": {
     "slide_type": "slide"
    }
   },
   "outputs": [
    {
     "data": {
      "text/plain": [
       "3.5881911071848003"
      ]
     },
     "execution_count": 43,
     "metadata": {},
     "output_type": "execute_result"
    }
   ],
   "source": [
    "# get the average rating per user\n",
    "# your code here\n",
    "grouped_data=ratings.rating.groupby(ratings['user_id'])\n",
    "average_u_ratings= grouped_data.mean()\n",
    "average_u_ratings.mean()"
   ]
  },
  {
   "cell_type": "code",
   "execution_count": 46,
   "metadata": {
    "slideshow": {
     "slide_type": "slide"
    }
   },
   "outputs": [
    {
     "data": {
      "text/plain": [
       "occupation\n",
       "administrator     True\n",
       "artist            True\n",
       "doctor            True\n",
       "educator          True\n",
       "engineer          True\n",
       "entertainment     True\n",
       "executive         True\n",
       "healthcare       False\n",
       "homemaker        False\n",
       "lawyer            True\n",
       "librarian        False\n",
       "marketing         True\n",
       "none              True\n",
       "other             True\n",
       "programmer        True\n",
       "retired           True\n",
       "salesman          True\n",
       "scientist         True\n",
       "student           True\n",
       "technician        True\n",
       "writer            True\n",
       "Name: sex, dtype: bool"
      ]
     },
     "execution_count": 46,
     "metadata": {},
     "output_type": "execute_result"
    }
   ],
   "source": [
    "# list all occupations and if they are male or female dominant\n",
    "# your code here\n",
    "grouped_data=users.sex.groupby(users['occupation'])\n",
    "male_dom = grouped_data.apply(lambda sexes: \n",
    "                             sum(sexes == 'M')> sum(sexes=='F'))\n",
    "\n",
    "male_dom"
   ]
  },
  {
   "cell_type": "code",
   "execution_count": null,
   "metadata": {
    "slideshow": {
     "slide_type": "slide"
    }
   },
   "outputs": [],
   "source": [
    "print 'number of male users: '\n",
    "print sum(users['sex'] == 'M')\n",
    "\n",
    "print 'number of female users: '\n",
    "print sum(users['sex'] == 'F')"
   ]
  },
  {
   "cell_type": "markdown",
   "metadata": {
    "slideshow": {
     "slide_type": "slide"
    }
   },
   "source": [
    "Pandas \"wrapup\"\n",
    "==========\n",
    "\n",
    "- create data frames\n",
    "- get sub-frames\n",
    "- filter data \n",
    "- use group-by\n",
    "- apply a user defined function\n",
    "\n",
    "\n",
    "![cute panda](images/cute_panda.jpg)"
   ]
  },
  {
   "cell_type": "markdown",
   "metadata": {
    "slideshow": {
     "slide_type": "slide"
    }
   },
   "source": [
    "Python data scraping\n",
    "====================\n",
    "\n",
    "* Why scrape the web?\n",
    "    - vast source of information\n",
    "    - automate tasks\n",
    "    - keep up with sites\n",
    "    - fun!\n",
    "\n",
    "** Can you think of examples ? **"
   ]
  },
  {
   "cell_type": "markdown",
   "metadata": {
    "slideshow": {
     "slide_type": "slide"
    }
   },
   "source": [
    "Read and Tweet!\n",
    "=================\n",
    "\n",
    "![ReadTweet](http://developer.nytimes.com/files/readtweet.jpg)\n",
    "\n",
    "* by Justin Blinder\n",
    "* http://projects.justinblinder.com/We-Read-We-Tweet"
   ]
  },
  {
   "cell_type": "markdown",
   "metadata": {
    "slideshow": {
     "slide_type": "skip"
    }
   },
   "source": [
    "“We Read, We Tweet” geographically visualizes the dissemination of New York Times articles through Twitter. Each line connects the location of a tweet to the contextual location of the New York Times article it referenced. The lines are generated in a sequence based on the time in which a tweet occurs. The project explores digital news distribution in a temporal and spatial context through the social space of Twitter."
   ]
  },
  {
   "cell_type": "markdown",
   "metadata": {
    "slideshow": {
     "slide_type": "slide"
    }
   },
   "source": [
    "Twitter Sentiments\n",
    "=================\n",
    "\n",
    "![TwitterSentiments](http://www.csc.ncsu.edu/faculty/healey/tweet_viz/figs/tweet-viz-ex.png\n",
    " \"Twitter Sentiments\")\n",
    "\n",
    "* by Healey and Ramaswamy\n",
    "* http://www.csc.ncsu.edu/faculty/healey/tweet_viz/tweet_app/"
   ]
  },
  {
   "cell_type": "markdown",
   "metadata": {
    "slideshow": {
     "slide_type": "skip"
    }
   },
   "source": [
    "Type a keyword into the input field, then click the Query button. Recent tweets that contain your keyword are pulled from Twitter and visualized in the Sentiment tab as circles. Hover your mouse over a tweet or click on it to see its text."
   ]
  },
  {
   "cell_type": "markdown",
   "metadata": {
    "slideshow": {
     "slide_type": "slide"
    }
   },
   "source": [
    "Python data scraping\n",
    "====================\n",
    "\n",
    "* copyrights and permission:\n",
    "    - be careful and polite\n",
    "    - give credit\n",
    "    - care about media law\n",
    "    - don't be evil (no spam, overloading sites, etc.)"
   ]
  },
  {
   "cell_type": "markdown",
   "metadata": {
    "slideshow": {
     "slide_type": "slide"
    }
   },
   "source": [
    "Robots.txt\n",
    "==========\n",
    "\n",
    "![Robots.txt](images/robots_txt.jpg \"Robots.txt\")"
   ]
  },
  {
   "cell_type": "markdown",
   "metadata": {
    "slideshow": {
     "slide_type": "slide"
    }
   },
   "source": [
    "Robots.txt\n",
    "==========\n",
    "\n",
    "* specified by web site owner\n",
    "* gives instructions to web robots (aka your script)\n",
    "* is located at the top-level directory of the web server\n",
    "\n",
    "http://www.example.com/robots.txt\n",
    "\n",
    "If you want you can also have a look at\n",
    "\n",
    "http://google.com/robots.txt"
   ]
  },
  {
   "cell_type": "markdown",
   "metadata": {
    "slideshow": {
     "slide_type": "slide"
    }
   },
   "source": [
    "Robots.txt\n",
    "==========\n",
    "\n",
    "*** What does this one do? ***"
   ]
  },
  {
   "cell_type": "raw",
   "metadata": {},
   "source": [
    "\n",
    "User-agent: Google\n",
    "Disallow:\n",
    "\n",
    "User-agent: *\n",
    "Disallow: /"
   ]
  },
  {
   "cell_type": "markdown",
   "metadata": {
    "slideshow": {
     "slide_type": "slide"
    }
   },
   "source": [
    "Things to consider:\n",
    "-------------------\n",
    "\n",
    "* can be just ignored\n",
    "* can be a security risk - *** Why? ***"
   ]
  },
  {
   "cell_type": "markdown",
   "metadata": {
    "slideshow": {
     "slide_type": "slide"
    }
   },
   "source": [
    "Scraping with Python:\n",
    "=====================\n",
    "\n",
    "* scraping is all about HTML tags\n",
    "* bad news: \n",
    "    - need to learn about tags\n",
    "    - websites can be ugly"
   ]
  },
  {
   "cell_type": "markdown",
   "metadata": {
    "slideshow": {
     "slide_type": "slide"
    }
   },
   "source": [
    "HTML\n",
    "=====\n",
    "\n",
    "* HyperText Markup Language\n",
    "\n",
    "* standard for creating webpages\n",
    "\n",
    "* HTML tags \n",
    "    - have angle brackets\n",
    "    - typically come in pairs"
   ]
  },
  {
   "cell_type": "markdown",
   "metadata": {
    "slideshow": {
     "slide_type": "skip"
    }
   },
   "source": [
    "This is an example for a minimal webpage defined in HTML tags. The root tag is `<html>` and then you have the `<head>` tag. This part of the page typically includes the title of the page and might also have other meta information like the author or keywords that are important for search engines. The `<body>` tag marks the actual content of the page. You can play around with the `<h2>` tag trying different header levels. They range from 1 to 6. "
   ]
  },
  {
   "cell_type": "code",
   "execution_count": 47,
   "metadata": {
    "slideshow": {
     "slide_type": "slide"
    }
   },
   "outputs": [
    {
     "data": {
      "text/html": [
       "<!DOCTYPE html>\n",
       "<html>\n",
       "  <head>\n",
       "    <title>This is a title</title>\n",
       "  </head>\n",
       "  <body>\n",
       "    <h2> Test </h2>\n",
       "    <p>Hello world!</p>\n",
       "  </body>\n",
       "</html>"
      ],
      "text/plain": [
       "<IPython.core.display.HTML object>"
      ]
     },
     "execution_count": 47,
     "metadata": {},
     "output_type": "execute_result"
    }
   ],
   "source": [
    "htmlString = \"\"\"<!DOCTYPE html>\n",
    "<html>\n",
    "  <head>\n",
    "    <title>This is a title</title>\n",
    "  </head>\n",
    "  <body>\n",
    "    <h2> Test </h2>\n",
    "    <p>Hello world!</p>\n",
    "  </body>\n",
    "</html>\"\"\"\n",
    "\n",
    "htmlOutput = HTML(htmlString)\n",
    "htmlOutput"
   ]
  },
  {
   "cell_type": "markdown",
   "metadata": {
    "slideshow": {
     "slide_type": "slide"
    }
   },
   "source": [
    "Useful Tags\n",
    "===========\n",
    "\n",
    "* heading\n",
    "`<h1></h1> ... <h6></h6>`\n",
    "\n",
    "* paragraph\n",
    "`<p></p>` \n",
    "\n",
    "* line break\n",
    "`<br>` \n",
    "\n",
    "* link with attribute\n",
    "\n",
    "`<a href=\"http://www.example.com/\">An example link</a>`\n"
   ]
  },
  {
   "cell_type": "markdown",
   "metadata": {
    "slideshow": {
     "slide_type": "slide"
    }
   },
   "source": [
    "Scraping with Python:\n",
    "=====================\n",
    "\n",
    "* example of a beautifully simple webpage:\n",
    "\n",
    "http://www.crummy.com/software/BeautifulSoup"
   ]
  },
  {
   "cell_type": "markdown",
   "metadata": {
    "slideshow": {
     "slide_type": "slide"
    }
   },
   "source": [
    "Scraping with Python:\n",
    "=====================\n",
    "\n",
    "* good news: \n",
    "    - some browsers help\n",
    "    - look for: inspect element\n",
    "    - need only basic html\n",
    "    \n",
    "** Try 'Ctrl-Shift I' in Chrome **\n",
    "\n",
    "** Try 'Command-Option I' in Safari **\n"
   ]
  },
  {
   "cell_type": "markdown",
   "metadata": {
    "slideshow": {
     "slide_type": "slide"
    }
   },
   "source": [
    "Scraping with Python\n",
    "==================\n",
    "\n",
    "* different useful libraries:\n",
    "    - urllib\n",
    "    - beautifulsoup\n",
    "    - pattern\n",
    "    - soupy\n",
    "    - LXML\n",
    "    - ...\n",
    "    "
   ]
  },
  {
   "cell_type": "markdown",
   "metadata": {
    "slideshow": {
     "slide_type": "skip"
    }
   },
   "source": [
    "The following cell just defines a url as a string and then reads the data from that url using the `urllib` library. If you uncomment the print command you see that we got the whole HTML content of the page into the string variable source."
   ]
  },
  {
   "cell_type": "code",
   "execution_count": 61,
   "metadata": {
    "slideshow": {
     "slide_type": "slide"
    }
   },
   "outputs": [
    {
     "name": "stdout",
     "output_type": "stream",
     "text": [
      "b'<!DOCTYPE HTML PUBLIC \"-//W3C//DTD HTML 4.0 Transitional//EN\"\\n\"http://www.w3.org/TR/REC-html40/transitional.dtd\">\\n<html>\\n<head>\\n<meta http-equiv=\"Content-Type\" content=\"text/html; charset=utf-8\">\\n<title>Beautiful Soup: We called him Tortoise because he taught us.</title>\\n<link rev=\"made\" href=\"mailto:leonardr@segfault.org\">\\n<link rel=\"stylesheet\" type=\"text/css\" href=\"/nb/themes/Default/nb.css\">\\n<meta name=\"Description\" content=\"Beautiful Soup: a library designed for screen-scraping HTML and XML.\">\\n<meta name=\"generator\" content=\"Markov Approximation 1.4 (module: leonardr)\">\\n<meta name=\"author\" content=\"Leonard Richardson\">\\n</head>\\n<body bgcolor=\"white\" text=\"black\" link=\"blue\" vlink=\"660066\" alink=\"red\">\\n<img align=\"right\" src=\"10.1.jpg\" width=\"250\"><br />\\n\\n<p>You didn\\'t write that awful page. You\\'re just trying to get some\\ndata out of it. Beautiful Soup is here to help. Since 2004, it\\'s been\\nsaving programmers hours or days of work on quick-turnaround\\nscreen scraping projects.</p>\\n\\n<div align=\"center\">\\n\\n<a href=\"bs4/download/\"><h1>Beautiful Soup</h1></a>\\n\\n<p>\"A tremendous boon.\" -- Python411 Podcast</p>\\n\\n<p>[ <a href=\"#Download\">Download</a> | <a\\nhref=\"bs4/doc/\">Documentation</a> | <a href=\"#HallOfFame\">Hall of Fame</a> | <a href=\"https://code.launchpad.net/beautifulsoup\">Source</a> | <a href=\"https://bazaar.launchpad.net/%7Eleonardr/beautifulsoup/bs4/view/head:/CHANGELOG\">Changelog</a> | <a href=\"https://groups.google.com/forum/?fromgroups#!forum/beautifulsoup\">Discussion group</a>  | <a href=\"zine/\">Zine</a> ]</p>\\n\\n<p><small>If you use Beautiful Soup as part of your work, please consider a <a href=\"https://tidelift.com/subscription/pkg/pypi-beautifulsoup4?utm_source=pypi-beautifulsoup4&utm_medium=referral&utm_campaign=website\">Tidelift subscription</a>. This will support many of the free software projects your organization depends on, not just Beautiful Soup.\\n<p>If Beautiful Soup is useful to you on a personal level, you might like to read <a href=\"zine/\"><i>Tool Safety</i></a>, a short zine I wrote about what I learned about software development from working on Beautiful Soup. Thanks!</small></p>\\n\\n\\n\\n</div>\\n\\n<p><i>If you have questions, send them to <a\\nhref=\"https://groups.google.com/forum/?fromgroups#!forum/beautifulsoup\">the discussion\\ngroup</a>. If you find a bug, <a href=\"https://bugs.launchpad.net/beautifulsoup/\">file it</a>.</i></p>\\n\\n<p>Beautiful Soup is a Python library designed for quick turnaround\\nprojects like screen-scraping. Three features make it powerful:\\n\\n<ol>\\n\\n<li>Beautiful Soup provides a few simple methods and Pythonic idioms\\nfor navigating, searching, and modifying a parse tree: a toolkit for\\ndissecting a document and extracting what you need. It doesn\\'t take\\nmuch code to write an application\\n\\n<li>Beautiful Soup automatically converts incoming documents to\\nUnicode and outgoing documents to UTF-8. You don\\'t have to think\\nabout encodings, unless the document doesn\\'t specify an encoding and\\nBeautiful Soup can\\'t detect one. Then you just have to specify the\\noriginal encoding.\\n\\n<li>Beautiful Soup sits on top of popular Python parsers like <a\\nhref=\"http://lxml.de/\">lxml</a> and <a\\nhref=\"http://code.google.com/p/html5lib/\">html5lib</a>, allowing you\\nto try out different parsing strategies or trade speed for\\nflexibility.\\n\\n</ol>\\n\\n<p>Beautiful Soup parses anything you give it, and does the tree\\ntraversal stuff for you. You can tell it \"Find all the links\", or\\n\"Find all the links of class <tt>externalLink</tt>\", or \"Find all the\\nlinks whose urls match \"foo.com\", or \"Find the table heading that\\'s\\ngot bold text, then give me that text.\"\\n\\n<p>Valuable data that was once locked up in poorly-designed websites\\nis now within your reach. Projects that would have taken hours take\\nonly minutes with Beautiful Soup.\\n\\n<p>Interested? <a href=\"bs4/doc/\">Read more.</a>\\n\\n<a name=\"Download\"><h2>Download Beautiful Soup</h2></a>\\n\\n<p>The current release is <a href=\"bs4/download/\">Beautiful Soup\\n4.8.0</a> (July 20, 2019). You can install Beautiful Soup 4 with\\n<code>pip install beautifulsoup4</code>.\\n\\n<p>In Debian and Ubuntu, Beautiful Soup is available as the\\n<code>python-bs4</code> package (for Python 2) or the\\n<code>python3-bs4</code> package (for Python 3). In Fedora it\\'s\\navailable as the <code>python-beautifulsoup4</code> package.\\n\\n<p>Beautiful Soup is licensed under the MIT license, so you can also\\ndownload the tarball, drop the <code>bs4/</code> directory into almost\\nany Python application (or into your library path) and start using it\\nimmediately. (If you want to do this under Python 3, you will need to\\nmanually convert the code using <code>2to3</code>.)\\n\\n<p>Beautiful Soup 4 works on both Python 2 (2.7+) and Python 3.\\n\\n<h3>Beautiful Soup 3</h3>\\n\\n<p>Beautiful Soup 3 was the official release line of Beautiful Soup\\nfrom May 2006 to March 2012. It is considered stable, and only\\ncritical security bugs will be fixed. <a\\nhref=\"http://www.crummy.com/software/BeautifulSoup/bs3/documentation.html\">Here\\'s\\nthe Beautiful Soup 3 documentation.</a>\\n\\n<p>Beautiful Soup 3 works only under Python 2.x. It is licensed under\\nthe same license as Python itself.\\n\\n<p>The current release of Beautiful Soup 3 is <a\\nhref=\"download/3.x/BeautifulSoup-3.2.1.tar.gz\">3.2.1</a> (February 16,\\n2012). You can install Beautiful Soup 3 with <code>pip install\\nBeautifulSoup</code>. It\\'s also available as\\n<code>python-beautifulsoup</code> in Debian and Ubuntu, and as\\n<code>python-BeautifulSoup</code> in Fedora.\\n\\n<p>You can also download the tarball and use\\n<code>BeautifulSoup.py</code> in your project directly.\\n\\n\\n<a name=\"HallOfFame\"><h2>Hall of Fame</h2></a>\\n\\n<p>Over the years, Beautiful Soup has been used in hundreds of\\ndifferent projects. There\\'s no way I can list them all, but I want to\\nhighlight a few high-profile projects. Beautiful Soup isn\\'t what makes\\nthese projects interesting, but it did make their completion easier:\\n\\n<ul>\\n\\n<li><a\\n href=\"http://www.nytimes.com/2007/10/25/arts/design/25vide.html\">\"Movable\\n Type\"</a>, a work of digital art on display in the lobby of the New\\n York Times building, uses Beautiful Soup to scrape news feeds.\\n\\n<li>Reddit uses Beautiful Soup to <a\\nhref=\"https://github.com/reddit/reddit/blob/85f9cff3e2ab9bb8f19b96acd8da4ebacc079f04/r2/r2/lib/media.py\">parse\\na page that\\'s been linked to and find a representative image</a>.\\n\\n<li>Alexander Harrowell uses Beautiful Soup to <a\\n href=\"http://www.harrowell.org.uk/viktormap.html\">track the business\\n activities</a> of an arms merchant.\\n\\n<li>The developers of Python itself used Beautiful Soup to <a\\nhref=\"http://svn.python.org/view/tracker/importer/\">migrate the Python\\nbug tracker from Sourceforge to Roundup</a>.\\n\\n<li>The <a href=\"http://www2.ljworld.com/\">Lawrence Journal-World</a>\\nuses Beautiful Soup to <A\\nhref=\"http://www.b-list.org/weblog/2010/nov/02/news-done-broke/\">gather\\nstatewide election results</a>.\\n\\n<li>The <a href=\"http://esrl.noaa.gov/gsd/fab/\">NOAA\\'s Forecast\\nApplications Branch</a> uses Beautiful Soup in <a\\nhref=\"http://laps.noaa.gov/topograbber/\">TopoGrabber</a>, a script for\\ndownloading \"high resolution USGS datasets.\"\\n\\n</ul>\\n\\n<p>If you\\'ve used Beautiful Soup in a project you\\'d like me to know\\nabout, please do send email to me or <a\\nhref=\"http://groups.google.com/group/beautifulsoup/\">the discussion\\ngroup</a>.\\n\\n<h2>Development</h2>\\n\\n<p>Development happens at <a\\nhref=\"https://launchpad.net/beautifulsoup\">Launchpad</a>. You can <a\\nhref=\"https://code.launchpad.net/beautifulsoup/\">get the source\\ncode</a> or <a href=\"https://bugs.launchpad.net/beautifulsoup/\">file\\nbugs</a>.<hr><table><tr><td valign=\"top\">\\n<p>This document (<a href=\"/source/software/BeautifulSoup/index.bhtml\">source</a>) is part of Crummy, the webspace of <a href=\"/self/\">Leonard Richardson</a> (<a href=\"/self/contact.html\">contact information</a>). It was last modified on Sunday, July 21 2019, 17:41:10 Nowhere Standard Time and last built on Saturday, August 10 2019, 02:00:01 Nowhere Standard Time.</p><p><table class=\"licenseText\"><tr><td><a href=\"http://creativecommons.org/licenses/by-sa/2.0/\"><img border=\"0\" src=\"/nb//resources/img/somerights20.jpg\"></a></td><td valign=\"top\">Crummy is &copy; 1996-2019 Leonard Richardson. Unless otherwise noted, all text licensed under a <a href=\"http://creativecommons.org/licenses/by-sa/2.0/\">Creative Commons License</a>.</td></tr></table></span><!--<rdf:RDF xmlns=\"http://web.resource.org/cc/\" xmlns:dc=\"http://purl.org/dc/elements/1.1/\" xmlns:rdf=\"http://www.w3.org/1999/02/22-rdf-syntax-ns#\"><Work rdf:about=\"http://www.crummy.com/\"><dc:title>Crummy: The Site</dc:title><dc:rights><Agent><dc:title>Crummy: the Site</dc:title></Agent></dc:rights><dc:format>text/html</dc:format><license rdf:resource=http://creativecommons.org/licenses/by-sa/2.0//></Work><License rdf:about=\"http://creativecommons.org/licenses/by-sa/2.0/\"></License></rdf:RDF>--></p></td><td valign=top><p><b>Document tree:</b>\\n<dl><dd><a href=\"http://www.crummy.com/\">http://www.crummy.com/</a><dl><dd><a href=\"http://www.crummy.com/software/\">software/</a><dl><dd><a href=\"http://www.crummy.com/software/BeautifulSoup/\">BeautifulSoup/</a></dl>\\n</dl>\\n</dl>\\n\\n\\nSite Search:\\n\\n<form method=\"get\" action=\"/search/\">\\n        <input type=\"text\" name=\"q\" maxlength=\"255\" value=\"\"></input>\\n        </form>\\n        </td>\\n\\n</tr>\\n\\n</table>\\n</body>\\n</html>\\n'\n"
     ]
    }
   ],
   "source": [
    "url = 'http://www.crummy.com/software/BeautifulSoup'\n",
    "source = urlopen(url).read()\n",
    "source = str(source)\n",
    "print(source)"
   ]
  },
  {
   "cell_type": "markdown",
   "metadata": {
    "slideshow": {
     "slide_type": "slide"
    }
   },
   "source": [
    "Quiz :\n",
    "======\n",
    "\n",
    "* Is the word 'Alice' mentioned on the beautiful soup homepage?\n",
    "* How often does the word 'Soup' occur on the site?\n",
    "    - hint: use `.count()`\n",
    "* At what index occurs the substring 'alien video games' ?\n",
    "    - hint: use `.find()`"
   ]
  },
  {
   "cell_type": "code",
   "execution_count": 63,
   "metadata": {
    "slideshow": {
     "slide_type": "slide"
    }
   },
   "outputs": [
    {
     "name": "stdout",
     "output_type": "stream",
     "text": [
      "False\n",
      "45\n",
      "-1\n"
     ]
    }
   ],
   "source": [
    "## is 'Alice' in source?\n",
    "print('Alice' in source)\n",
    "## count occurences of 'Soup'\n",
    "print(source.count('Soup'))\n",
    "\n",
    "## find index of 'alien video games'\n",
    "print(source.find('alien video games'))"
   ]
  },
  {
   "cell_type": "markdown",
   "metadata": {
    "slideshow": {
     "slide_type": "slide"
    }
   },
   "source": [
    "Beautiful Soup\n",
    "==============\n",
    "\n",
    "* designed to make your life easier\n",
    "* many good functions for parsing html code"
   ]
  },
  {
   "cell_type": "markdown",
   "metadata": {
    "slideshow": {
     "slide_type": "slide"
    }
   },
   "source": [
    "Some examples\n",
    "=============\n"
   ]
  },
  {
   "cell_type": "code",
   "execution_count": 79,
   "metadata": {},
   "outputs": [
    {
     "data": {
      "text/plain": [
       "[<a href=\"bs4/download/\"><h1>Beautiful Soup</h1></a>,\n",
       " <a href=\"#Download\">Download</a>,\n",
       " <a>Documentation</a>,\n",
       " <a href=\"#HallOfFame\">Hall of Fame</a>,\n",
       " <a href=\"https://code.launchpad.net/beautifulsoup\">Source</a>,\n",
       " <a href=\"https://bazaar.launchpad.net/%7Eleonardr/beautifulsoup/bs4/view/head:/CHANGELOG\">Changelog</a>,\n",
       " <a href=\"https://groups.google.com/forum/?fromgroups#!forum/beautifulsoup\">Discussion group</a>,\n",
       " <a href=\"zine/\">Zine</a>,\n",
       " <a href=\"https://tidelift.com/subscription/pkg/pypi-beautifulsoup4?utm_source=pypi-beautifulsoup4&amp;utm_medium=referral&amp;utm_campaign=website\">Tidelift subscription</a>,\n",
       " <a href=\"zine/\"><i>Tool Safety</i></a>,\n",
       " <a>the discussion\\ngroup</a>,\n",
       " <a href=\"https://bugs.launchpad.net/beautifulsoup/\">file it</a>,\n",
       " <a>lxml</a>,\n",
       " <a>html5lib</a>,\n",
       " <a href=\"bs4/doc/\">Read more.</a>,\n",
       " <a name=\"Download\"><h2>Download Beautiful Soup</h2></a>,\n",
       " <a href=\"bs4/download/\">Beautiful Soup\\n4.8.0</a>,\n",
       " <a>Here\\'s\\nthe Beautiful Soup 3 documentation.</a>,\n",
       " <a>3.2.1</a>,\n",
       " <a name=\"HallOfFame\"><h2>Hall of Fame</h2></a>,\n",
       " <a href=\"http://www.nytimes.com/2007/10/25/arts/design/25vide.html\">\"Movable\\n Type\"</a>,\n",
       " <a>parse\\na page that\\'s been linked to and find a representative image</a>,\n",
       " <a href=\"http://www.harrowell.org.uk/viktormap.html\">track the business\\n activities</a>,\n",
       " <a>migrate the Python\\nbug tracker from Sourceforge to Roundup</a>,\n",
       " <a href=\"http://www2.ljworld.com/\">Lawrence Journal-World</a>,\n",
       " <a>gather\\nstatewide election results</a>,\n",
       " <a href=\"http://esrl.noaa.gov/gsd/fab/\">NOAA\\'s Forecast\\nApplications Branch</a>,\n",
       " <a>TopoGrabber</a>,\n",
       " <a>the discussion\\ngroup</a>,\n",
       " <a>Launchpad</a>,\n",
       " <a>get the source\\ncode</a>,\n",
       " <a href=\"https://bugs.launchpad.net/beautifulsoup/\">file\\nbugs</a>,\n",
       " <a href=\"/source/software/BeautifulSoup/index.bhtml\">source</a>,\n",
       " <a href=\"/self/\">Leonard Richardson</a>,\n",
       " <a href=\"/self/contact.html\">contact information</a>,\n",
       " <a href=\"http://creativecommons.org/licenses/by-sa/2.0/\"><img border=\"0\" src=\"/nb//resources/img/somerights20.jpg\"/></a>,\n",
       " <a href=\"http://creativecommons.org/licenses/by-sa/2.0/\">Creative Commons License</a>,\n",
       " <a href=\"http://www.crummy.com/\">http://www.crummy.com/</a>,\n",
       " <a href=\"http://www.crummy.com/software/\">software/</a>,\n",
       " <a href=\"http://www.crummy.com/software/BeautifulSoup/\">BeautifulSoup/</a>]"
      ]
     },
     "execution_count": 79,
     "metadata": {},
     "output_type": "execute_result"
    }
   ],
   "source": [
    "## get bs4 object\n",
    "soup = bs4.BeautifulSoup(source)\n",
    " \n",
    "## compare the two print statements\n",
    "# print(soup)\n",
    "# print(soup.prettify())\n",
    "\n",
    "## show how to find all a tags\n",
    "soup.findAll('a')\n",
    "\n",
    "## ***Why does this not work? ***\n",
    "#soup.findAll('Soup')"
   ]
  },
  {
   "cell_type": "markdown",
   "metadata": {
    "slideshow": {
     "slide_type": "slide"
    }
   },
   "source": [
    "Some examples\n",
    "============="
   ]
  },
  {
   "cell_type": "code",
   "execution_count": 80,
   "metadata": {},
   "outputs": [
    {
     "data": {
      "text/plain": [
       "['bs4/download/',\n",
       " '#Download',\n",
       " None,\n",
       " '#HallOfFame',\n",
       " 'https://code.launchpad.net/beautifulsoup',\n",
       " 'https://bazaar.launchpad.net/%7Eleonardr/beautifulsoup/bs4/view/head:/CHANGELOG',\n",
       " 'https://groups.google.com/forum/?fromgroups#!forum/beautifulsoup',\n",
       " 'zine/',\n",
       " 'https://tidelift.com/subscription/pkg/pypi-beautifulsoup4?utm_source=pypi-beautifulsoup4&utm_medium=referral&utm_campaign=website',\n",
       " 'zine/',\n",
       " None,\n",
       " 'https://bugs.launchpad.net/beautifulsoup/',\n",
       " None,\n",
       " None,\n",
       " 'bs4/doc/',\n",
       " None,\n",
       " 'bs4/download/',\n",
       " None,\n",
       " None,\n",
       " None,\n",
       " 'http://www.nytimes.com/2007/10/25/arts/design/25vide.html',\n",
       " None,\n",
       " 'http://www.harrowell.org.uk/viktormap.html',\n",
       " None,\n",
       " 'http://www2.ljworld.com/',\n",
       " None,\n",
       " 'http://esrl.noaa.gov/gsd/fab/',\n",
       " None,\n",
       " None,\n",
       " None,\n",
       " None,\n",
       " 'https://bugs.launchpad.net/beautifulsoup/',\n",
       " '/source/software/BeautifulSoup/index.bhtml',\n",
       " '/self/',\n",
       " '/self/contact.html',\n",
       " 'http://creativecommons.org/licenses/by-sa/2.0/',\n",
       " 'http://creativecommons.org/licenses/by-sa/2.0/',\n",
       " 'http://www.crummy.com/',\n",
       " 'http://www.crummy.com/software/',\n",
       " 'http://www.crummy.com/software/BeautifulSoup/']"
      ]
     },
     "execution_count": 80,
     "metadata": {},
     "output_type": "execute_result"
    }
   ],
   "source": [
    "## get attribute value from an element:\n",
    "## find tag: this only returns the first occurrence, not all tags in the string\n",
    "first_tag = soup.find('a')\n",
    "\n",
    "## get attribute `href`\n",
    "first_tag.get('href')\n",
    "\n",
    "## get all links in the page\n",
    "link_list = [l.get('href') for l in soup.findAll('a')]\n",
    "link_list"
   ]
  },
  {
   "cell_type": "code",
   "execution_count": 81,
   "metadata": {
    "slideshow": {
     "slide_type": "slide"
    }
   },
   "outputs": [
    {
     "ename": "TypeError",
     "evalue": "'NoneType' object is not subscriptable",
     "output_type": "error",
     "traceback": [
      "\u001b[0;31m---------------------------------------------------------------------------\u001b[0m",
      "\u001b[0;31mTypeError\u001b[0m                                 Traceback (most recent call last)",
      "\u001b[0;32m<ipython-input-81-0aee102cbae1>\u001b[0m in \u001b[0;36m<module>\u001b[0;34m\u001b[0m\n\u001b[1;32m      6\u001b[0m \u001b[0;31m# if it starts with 'http' we are happy\u001b[0m\u001b[0;34m\u001b[0m\u001b[0;34m\u001b[0m\u001b[0m\n\u001b[1;32m      7\u001b[0m \u001b[0;32mfor\u001b[0m \u001b[0ml\u001b[0m \u001b[0;32min\u001b[0m \u001b[0mlink_list\u001b[0m\u001b[0;34m:\u001b[0m\u001b[0;34m\u001b[0m\u001b[0m\n\u001b[0;32m----> 8\u001b[0;31m     \u001b[0;32mif\u001b[0m \u001b[0ml\u001b[0m\u001b[0;34m[\u001b[0m\u001b[0;34m:\u001b[0m\u001b[0;36m4\u001b[0m\u001b[0;34m]\u001b[0m \u001b[0;34m==\u001b[0m \u001b[0;34m'http'\u001b[0m\u001b[0;34m:\u001b[0m\u001b[0;34m\u001b[0m\u001b[0m\n\u001b[0m\u001b[1;32m      9\u001b[0m         \u001b[0mexternal_links\u001b[0m\u001b[0;34m.\u001b[0m\u001b[0mappend\u001b[0m\u001b[0;34m(\u001b[0m\u001b[0ml\u001b[0m\u001b[0;34m)\u001b[0m\u001b[0;34m\u001b[0m\u001b[0m\n\u001b[1;32m     10\u001b[0m \u001b[0;34m\u001b[0m\u001b[0m\n",
      "\u001b[0;31mTypeError\u001b[0m: 'NoneType' object is not subscriptable"
     ]
    }
   ],
   "source": [
    "## filter all external links\n",
    "# create an empty list to collect the valid links\n",
    "external_links = []\n",
    "\n",
    "# write a loop to filter the links\n",
    "# if it starts with 'http' we are happy\n",
    "for l in link_list:\n",
    "    if l[:4] == 'http':\n",
    "        external_links.append(l)\n",
    "\n",
    "# this throws an error! It says something about 'NoneType'"
   ]
  },
  {
   "cell_type": "code",
   "execution_count": 84,
   "metadata": {
    "slideshow": {
     "slide_type": "slide"
    }
   },
   "outputs": [
    {
     "name": "stdout",
     "output_type": "stream",
     "text": [
      "15\n"
     ]
    }
   ],
   "source": [
    "# lets investigate. Have a close look at the link_list:\n",
    "link_list\n",
    "\n",
    "# Seems that there are None elements!\n",
    "# Let's verify\n",
    "print(sum([l is None for l in link_list]))\n",
    "\n",
    "# So there are two elements in the list that are None!"
   ]
  },
  {
   "cell_type": "code",
   "execution_count": 85,
   "metadata": {
    "slideshow": {
     "slide_type": "slide"
    }
   },
   "outputs": [
    {
     "data": {
      "text/plain": [
       "['https://code.launchpad.net/beautifulsoup',\n",
       " 'https://bazaar.launchpad.net/%7Eleonardr/beautifulsoup/bs4/view/head:/CHANGELOG',\n",
       " 'https://groups.google.com/forum/?fromgroups#!forum/beautifulsoup',\n",
       " 'https://tidelift.com/subscription/pkg/pypi-beautifulsoup4?utm_source=pypi-beautifulsoup4&utm_medium=referral&utm_campaign=website',\n",
       " 'https://bugs.launchpad.net/beautifulsoup/',\n",
       " 'http://www.nytimes.com/2007/10/25/arts/design/25vide.html',\n",
       " 'http://www.harrowell.org.uk/viktormap.html',\n",
       " 'http://www2.ljworld.com/',\n",
       " 'http://esrl.noaa.gov/gsd/fab/',\n",
       " 'https://bugs.launchpad.net/beautifulsoup/',\n",
       " 'http://creativecommons.org/licenses/by-sa/2.0/',\n",
       " 'http://creativecommons.org/licenses/by-sa/2.0/',\n",
       " 'http://www.crummy.com/',\n",
       " 'http://www.crummy.com/software/',\n",
       " 'http://www.crummy.com/software/BeautifulSoup/']"
      ]
     },
     "execution_count": 85,
     "metadata": {},
     "output_type": "execute_result"
    }
   ],
   "source": [
    "# Let's filter those objects out in the for loop\n",
    "external_links = []\n",
    "\n",
    "# write a loop to filter the links\n",
    "# if it is not None and starts with 'http' we are happy\n",
    "for l in link_list:\n",
    "    if l is not None and l[:4] == 'http':\n",
    "        external_links.append(l)\n",
    "        \n",
    "external_links"
   ]
  },
  {
   "cell_type": "markdown",
   "metadata": {
    "slideshow": {
     "slide_type": "skip"
    }
   },
   "source": [
    "Note: The above `if` condition works because of lazy evaluation in Python. The `and` statement becomes `False` if the first part is `False`, so there is no need to ever evaluate the second part. Thus a `None` entry in the list gets never asked about its first four characters. "
   ]
  },
  {
   "cell_type": "code",
   "execution_count": 86,
   "metadata": {
    "slideshow": {
     "slide_type": "slide"
    }
   },
   "outputs": [
    {
     "data": {
      "text/plain": [
       "['https://code.launchpad.net/beautifulsoup',\n",
       " 'https://bazaar.launchpad.net/%7Eleonardr/beautifulsoup/bs4/view/head:/CHANGELOG',\n",
       " 'https://groups.google.com/forum/?fromgroups#!forum/beautifulsoup',\n",
       " 'https://tidelift.com/subscription/pkg/pypi-beautifulsoup4?utm_source=pypi-beautifulsoup4&utm_medium=referral&utm_campaign=website',\n",
       " 'https://bugs.launchpad.net/beautifulsoup/',\n",
       " 'http://www.nytimes.com/2007/10/25/arts/design/25vide.html',\n",
       " 'http://www.harrowell.org.uk/viktormap.html',\n",
       " 'http://www2.ljworld.com/',\n",
       " 'http://esrl.noaa.gov/gsd/fab/',\n",
       " 'https://bugs.launchpad.net/beautifulsoup/',\n",
       " 'http://creativecommons.org/licenses/by-sa/2.0/',\n",
       " 'http://creativecommons.org/licenses/by-sa/2.0/',\n",
       " 'http://www.crummy.com/',\n",
       " 'http://www.crummy.com/software/',\n",
       " 'http://www.crummy.com/software/BeautifulSoup/']"
      ]
     },
     "execution_count": 86,
     "metadata": {},
     "output_type": "execute_result"
    }
   ],
   "source": [
    "# and we can put this in a list comprehension as well, it almost reads like \n",
    "# a sentence.\n",
    "\n",
    "[l for l in link_list if l is not None and l.startswith('http')]"
   ]
  },
  {
   "cell_type": "markdown",
   "metadata": {
    "slideshow": {
     "slide_type": "slide"
    }
   },
   "source": [
    "Parsing the Tree\n",
    "================\n",
    "\n"
   ]
  },
  {
   "cell_type": "code",
   "execution_count": 90,
   "metadata": {},
   "outputs": [
    {
     "name": "stdout",
     "output_type": "stream",
     "text": [
      "<class 'bs4.element.Tag'>\n",
      "<html><head><title>This is a title</title></head><body><h3> Test </h3><p>Hello world!</p></body></html>\n",
      "<head><title>This is a title</title></head>\n",
      "<body><h3> Test </h3><p>Hello world!</p></body>\n"
     ]
    },
    {
     "data": {
      "text/plain": [
       "<body><h3> Test </h3><p>Hello world!</p></body>"
      ]
     },
     "execution_count": 90,
     "metadata": {},
     "output_type": "execute_result"
    }
   ],
   "source": [
    "# redifining `s` without any line breaks\n",
    "s = \"\"\"<!DOCTYPE html><html><head><title>This is a title</title></head><body><h3> Test </h3><p>Hello world!</p></body></html>\"\"\"\n",
    "## get bs4 object\n",
    "tree = bs4.BeautifulSoup(s)\n",
    "print(type(tree.html))\n",
    "\n",
    "## get html root node\n",
    "root_node = tree.html\n",
    "print(root_node)\n",
    "## get head from root using contents\n",
    "head = root_node.contents[0]\n",
    "print(head)\n",
    "## get body from root\n",
    "body = root_node.contents[1]\n",
    "print(body)\n",
    "## could directly access body\n",
    "tree.body\n"
   ]
  },
  {
   "cell_type": "markdown",
   "metadata": {
    "slideshow": {
     "slide_type": "slide"
    }
   },
   "source": [
    "Quiz:\n",
    "=====\n",
    "\n",
    "* Find the `h3` tag by parsing the tree starting at `body`\n",
    "* Create a list of all __Hall of Fame__ entries listed on the Beautiful Soup webpage\n",
    "    - hint: it is the only unordered list in the page (tag `ul`)\n"
   ]
  },
  {
   "cell_type": "code",
   "execution_count": 92,
   "metadata": {
    "slideshow": {
     "slide_type": "slide"
    }
   },
   "outputs": [
    {
     "data": {
      "text/plain": [
       "<h3> Test </h3>"
      ]
     },
     "execution_count": 92,
     "metadata": {},
     "output_type": "execute_result"
    }
   ],
   "source": [
    "## get h3 tag from body\n",
    "body.contents[0]"
   ]
  },
  {
   "cell_type": "code",
   "execution_count": 110,
   "metadata": {
    "slideshow": {
     "slide_type": "slide"
    }
   },
   "outputs": [
    {
     "data": {
      "text/plain": [
       "[[<a href=\"http://www.nytimes.com/2007/10/25/arts/design/25vide.html\">\"Movable\\n Type\"</a>,\n",
       "  ', a work of digital art on display in the lobby of the New\\\\n York Times building, uses Beautiful Soup to scrape news feeds.\\\\n\\\\n'],\n",
       " ['Reddit uses Beautiful Soup to ',\n",
       "  <a>parse\\na page that\\'s been linked to and find a representative image</a>,\n",
       "  '.\\\\n\\\\n'],\n",
       " ['Alexander Harrowell uses Beautiful Soup to ',\n",
       "  <a href=\"http://www.harrowell.org.uk/viktormap.html\">track the business\\n activities</a>,\n",
       "  ' of an arms merchant.\\\\n\\\\n'],\n",
       " ['The developers of Python itself used Beautiful Soup to ',\n",
       "  <a>migrate the Python\\nbug tracker from Sourceforge to Roundup</a>,\n",
       "  '.\\\\n\\\\n'],\n",
       " ['The ',\n",
       "  <a href=\"http://www2.ljworld.com/\">Lawrence Journal-World</a>,\n",
       "  '\\\\nuses Beautiful Soup to ',\n",
       "  <a>gather\\nstatewide election results</a>,\n",
       "  '.\\\\n\\\\n'],\n",
       " ['The ',\n",
       "  <a href=\"http://esrl.noaa.gov/gsd/fab/\">NOAA\\'s Forecast\\nApplications Branch</a>,\n",
       "  ' uses Beautiful Soup in ',\n",
       "  <a>TopoGrabber</a>,\n",
       "  ', a script for\\\\ndownloading \"high resolution USGS datasets.\"\\\\n\\\\n']]"
      ]
     },
     "execution_count": 110,
     "metadata": {},
     "output_type": "execute_result"
    }
   ],
   "source": [
    "## use ul as entry point\n",
    "entry_point=soup.find('ul')\n",
    "\n",
    "## get hall of fame list from entry point\n",
    "## skip the first entry \n",
    "hfame_list=entry_point.contents[1:]\n",
    "\n",
    "## reformat into a list containing strings\n",
    "## it is ok to have a list of lists\n",
    "tmp=[]\n",
    "for li in hfame_list:\n",
    "    tmp.append(li.contents)\n",
    "tmp"
   ]
  },
  {
   "cell_type": "markdown",
   "metadata": {
    "slideshow": {
     "slide_type": "slide"
    }
   },
   "source": [
    "`tmp` now is actually a list of lists containing the hall of fame entries. \n",
    "Here is some advanced Python on how to print really just one entry per list item.\n",
    "\n",
    "The cool things about this are: \n",
    "* The use of `\"\"` to just access the `join` function of strings.\n",
    "* The `join` function itself\n",
    "* that you can actually have two nested for loops in a list comprehension"
   ]
  },
  {
   "cell_type": "code",
   "execution_count": 112,
   "metadata": {
    "slideshow": {
     "slide_type": "-"
    }
   },
   "outputs": [
    {
     "name": "stdout",
     "output_type": "stream",
     "text": [
      "<a href=\"http://www.nytimes.com/2007/10/25/arts/design/25vide.html\">\"Movable\\n Type\"</a>, a work of digital art on display in the lobby of the New\\n York Times building, uses Beautiful Soup to scrape news feeds.\\n\\n\n",
      "Reddit uses Beautiful Soup to <a>parse\\na page that\\'s been linked to and find a representative image</a>.\\n\\n\n",
      "Alexander Harrowell uses Beautiful Soup to <a href=\"http://www.harrowell.org.uk/viktormap.html\">track the business\\n activities</a> of an arms merchant.\\n\\n\n",
      "The developers of Python itself used Beautiful Soup to <a>migrate the Python\\nbug tracker from Sourceforge to Roundup</a>.\\n\\n\n",
      "The <a href=\"http://www2.ljworld.com/\">Lawrence Journal-World</a>\\nuses Beautiful Soup to <a>gather\\nstatewide election results</a>.\\n\\n\n",
      "The <a href=\"http://esrl.noaa.gov/gsd/fab/\">NOAA\\'s Forecast\\nApplications Branch</a> uses Beautiful Soup in <a>TopoGrabber</a>, a script for\\ndownloading \"high resolution USGS datasets.\"\\n\\n\n"
     ]
    }
   ],
   "source": [
    "test =  [\"\".join(str(a) for a in sublist) for sublist in tmp]\n",
    "print('\\n'.join(test))"
   ]
  },
  {
   "cell_type": "markdown",
   "metadata": {
    "slideshow": {
     "slide_type": "slide"
    }
   },
   "source": [
    "Advanced Example\n",
    "===============\n",
    "\n",
    "Idea by [Jesse Steinweg-Woods](https://jessesw.com/Data-Science-Skills/)\n",
    "--------------------------------------------------------------------------------"
   ]
  },
  {
   "cell_type": "markdown",
   "metadata": {
    "slideshow": {
     "slide_type": "slide"
    }
   },
   "source": [
    "Scraping data science skills\n",
    "=============================\n",
    "\n",
    "- What skills are in demand for data scientists?\n",
    "- Should we have a lecture on Spark or only on MapReduce?\n",
    "\n",
    "We want to scrape the information from job advertisements for data scientists from indeed.com\n",
    "Let's scrape and find out!"
   ]
  },
  {
   "cell_type": "code",
   "execution_count": 152,
   "metadata": {},
   "outputs": [],
   "source": [
    "from IPython.display import display, clear_output"
   ]
  },
  {
   "cell_type": "code",
   "execution_count": 228,
   "metadata": {},
   "outputs": [],
   "source": [
    "import _pickle as _pickle"
   ]
  },
  {
   "cell_type": "code",
   "execution_count": 209,
   "metadata": {},
   "outputs": [],
   "source": [
    "from urllib.request import HTTPError, URLError"
   ]
  },
  {
   "cell_type": "code",
   "execution_count": 119,
   "metadata": {
    "slideshow": {
     "slide_type": "slide"
    }
   },
   "outputs": [],
   "source": [
    "# Fixed url for job postings containing data scientist\n",
    "url = 'https://www.indeed.com/q-data-scientist-jobs.html'\n",
    "# read the website\n",
    "source = urlopen(url).read()\n",
    "# parse html code\n",
    "bs_tree = bs4.BeautifulSoup(source)"
   ]
  },
  {
   "cell_type": "code",
   "execution_count": 126,
   "metadata": {
    "slideshow": {
     "slide_type": "slide"
    }
   },
   "outputs": [
    {
     "name": "stdout",
     "output_type": "stream",
     "text": [
      "\n",
      "            Page 1 of 34,070 jobs\n",
      "Search yielded 34,070 hits.\n",
      "34070\n"
     ]
    }
   ],
   "source": [
    "# see how many job postings we found\n",
    "job_count_string = bs_tree.find(id = 'searchCount').contents[0]\n",
    "# print(job_count_string)\n",
    "job_count_string = job_count_string.split()[-2]\n",
    "print(\"Search yielded %s hits.\" % (job_count_string))\n",
    "\n",
    "# not that job_count so far is still a string, \n",
    "# not an integer, and the , separator prevents \n",
    "# us from just casting it to int\n",
    "\n",
    "job_count_digits = [int(d) for d in job_count_string if d.isdigit()]\n",
    "job_count = np.sum([digit*(10**exponent) for digit, exponent in \n",
    "                    zip(job_count_digits[::-1], range(len(job_count_digits)))])\n",
    "\n",
    "print(job_count)"
   ]
  },
  {
   "cell_type": "code",
   "execution_count": 173,
   "metadata": {
    "slideshow": {
     "slide_type": "slide"
    }
   },
   "outputs": [
    {
     "name": "stdout",
     "output_type": "stream",
     "text": [
      "We found a lot of jobs:  5306\n"
     ]
    },
    {
     "data": {
      "text/plain": [
       "['http://www.indeed.com/rc/clk?jk=267e7cf7de2959c7',\n",
       " 'http://www.indeed.com/rc/clk?jk=d42329beb6bc955d',\n",
       " 'http://www.indeed.com/rc/clk?jk=16d0efa1ce352781',\n",
       " 'http://www.indeed.com/rc/clk?jk=add7ddf95c0eff27',\n",
       " 'http://www.indeed.com/rc/clk?jk=2dd0b9a386801c05']"
      ]
     },
     "execution_count": 173,
     "metadata": {},
     "output_type": "execute_result"
    }
   ],
   "source": [
    "# The website is only listing 10 results per page, \n",
    "# so we need to scrape them page after page\n",
    "num_pages = int(np.ceil(job_count/10.0))\n",
    "num_pages = 300\n",
    "base_url = 'http://www.indeed.com'\n",
    "job_links = []\n",
    "for i in range(num_pages): #do range(num_pages) if you want them all\n",
    "    \n",
    "    print('Page: '+ str(i+1)+' of '+str(num_pages))\n",
    "    \n",
    "    url = 'http://www.indeed.com/jobs?q=data+scientist&start=' + str(i*10)\n",
    "    html_page = urlopen(url).read() \n",
    "    bs_tree = bs4.BeautifulSoup(html_page)\n",
    "    job_link_area = bs_tree.find(id = 'resultsCol')\n",
    "    job_postings = job_link_area.findAll(\"div\")\n",
    "#     print(job_postings[])\n",
    "    job_postings = [jp for jp in job_postings if not jp.get('class') is None \n",
    "                    and \"rowresult\" in ''.join(jp.get('class'))]\n",
    "#     print(len(job_postings))\n",
    "    job_ids = [jp.get('data-jk') for jp in job_postings]\n",
    "    \n",
    "    # go after each link\n",
    "    for id in job_ids:\n",
    "        job_links.append(base_url + '/rc/clk?jk=' + id)\n",
    "    \n",
    "    #styleing\n",
    "    clear_output(wait=True)\n",
    "#     display('Page: '+ str(i+1)+' of '+str(num_pages))\n",
    "    \n",
    "    time.sleep(1)\n",
    "    \n",
    "    \n",
    "\n",
    "print (\"We found a lot of jobs: \", len(job_links))\n",
    "job_links[0:5]"
   ]
  },
  {
   "cell_type": "code",
   "execution_count": 191,
   "metadata": {},
   "outputs": [
    {
     "name": "stdout",
     "output_type": "stream",
     "text": [
      "5306\n"
     ]
    },
    {
     "data": {
      "text/plain": [
       "'http://www.indeed.com/rc/clk?jk=9c533d1685d5385d'"
      ]
     },
     "execution_count": 191,
     "metadata": {},
     "output_type": "execute_result"
    }
   ],
   "source": [
    "# len(job_links)\n",
    "# # short_links = job_links\n",
    "# print(len(short_links))\n",
    "# # job_links=[]\n",
    "# print(len(short_links))\n",
    "print(len(job_links))\n",
    "job_links[5305]"
   ]
  },
  {
   "cell_type": "markdown",
   "metadata": {
    "slideshow": {
     "slide_type": "slide"
    }
   },
   "source": [
    "Some precautions to enable us to restart our search\n",
    "========================="
   ]
  },
  {
   "cell_type": "code",
   "execution_count": 254,
   "metadata": {},
   "outputs": [
    {
     "data": {
      "text/plain": [
       "[b'http://www.indeed.com/rc/clk?jk=267e7cf7de2959c7',\n",
       " b'http://www.indeed.com/rc/clk?jk=d42329beb6bc955d',\n",
       " b'http://www.indeed.com/rc/clk?jk=16d0efa1ce352781',\n",
       " b'http://www.indeed.com/rc/clk?jk=add7ddf95c0eff27',\n",
       " b'http://www.indeed.com/rc/clk?jk=2dd0b9a386801c05']"
      ]
     },
     "execution_count": 254,
     "metadata": {},
     "output_type": "execute_result"
    }
   ],
   "source": [
    "encoded_links=[x.encode() for x in job_links]\n",
    "encoded_links[:5]"
   ]
  },
  {
   "cell_type": "code",
   "execution_count": 266,
   "metadata": {
    "slideshow": {
     "slide_type": "-"
    }
   },
   "outputs": [
    {
     "data": {
      "text/plain": [
       "[b'http://www.indeed.com/rc/clk?jk=267e7cf7de2959c7',\n",
       " b'http://www.indeed.com/rc/clk?jk=d42329beb6bc955d',\n",
       " b'http://www.indeed.com/rc/clk?jk=16d0efa1ce352781',\n",
       " b'http://www.indeed.com/rc/clk?jk=add7ddf95c0eff27',\n",
       " b'http://www.indeed.com/rc/clk?jk=2dd0b9a386801c05']"
      ]
     },
     "execution_count": 266,
     "metadata": {},
     "output_type": "execute_result"
    }
   ],
   "source": [
    "# Save the scraped links\n",
    "with open('data/scraped_links_new.pkl', 'wb') as f:\n",
    "   _pickle.dump(encoded_links, f,1)\n",
    "\n",
    "job_links_pickled=[]\n",
    "# Read canned scraped links\n",
    "with open('data/scraped_links_new.pkl', 'rb') as f:\n",
    "    job_links_pickled = pickle.load(f)    \n",
    "len(job_links_pickled)\n",
    "job_links_pickled[0:5]"
   ]
  },
  {
   "cell_type": "code",
   "execution_count": 187,
   "metadata": {},
   "outputs": [
    {
     "data": {
      "text/plain": [
       "list"
      ]
     },
     "execution_count": 187,
     "metadata": {},
     "output_type": "execute_result"
    }
   ],
   "source": [
    "type(job_links)"
   ]
  },
  {
   "cell_type": "code",
   "execution_count": 292,
   "metadata": {
    "slideshow": {
     "slide_type": "slide"
    }
   },
   "outputs": [],
   "source": [
    "skill_set = {b'mapreduce': 0, b'spark': 0,b'python':0,b'r':0,b'javascript':0,b'sql':0}\n",
    "\n",
    "## write initialization into a file, so we can restart later\n",
    "with open('data/scraped_links_restart.pkl', 'wb') as f:\n",
    "   _pickle.dump((skill_set, 0),f,1)    "
   ]
  },
  {
   "cell_type": "markdown",
   "metadata": {
    "slideshow": {
     "slide_type": "slide"
    }
   },
   "source": [
    "Python Dictonaries\n",
    "==================\n",
    "\n",
    "* build in data type\n",
    "* uses key: value pairs"
   ]
  },
  {
   "cell_type": "code",
   "execution_count": 298,
   "metadata": {
    "slideshow": {
     "slide_type": "slide"
    }
   },
   "outputs": [
    {
     "name": "stdout",
     "output_type": "stream",
     "text": [
      "{'a': 1, 'b': 2}\n",
      "dict_keys(['a', 'b'])\n",
      "dict_values([1, 2])\n",
      "a 1\n",
      "b 2\n",
      "a 1\n",
      "b 2\n"
     ]
    }
   ],
   "source": [
    "a = {'a': 1, 'b':2}\n",
    "print(a)\n",
    "\n",
    "#show keys\n",
    "print(a.keys())\n",
    "\n",
    "#show values\n",
    "print(a.values())\n",
    "\n",
    "#show for loop over all entries\n",
    "# option 1 using zip\n",
    "# this works also for iterating over any\n",
    "# other two lists\n",
    "for k,v in zip(a.keys(), a.values()):\n",
    "    print(k,v)\n",
    "\n",
    "# option 2 using the dictionary `iteritems()` function\n",
    "for k,v in a.items():\n",
    "    print(k,v)"
   ]
  },
  {
   "cell_type": "code",
   "execution_count": 293,
   "metadata": {
    "slideshow": {
     "slide_type": "slide"
    }
   },
   "outputs": [
    {
     "name": "stdout",
     "output_type": "stream",
     "text": [
      "How many websites still to go?  0\n",
      "{b'mapreduce': 0, b'spark': 0, b'python': 0, b'r': 0, b'javascript': 0, b'sql': 0}\n"
     ]
    }
   ],
   "source": [
    "# This code below does the trick, but could be optimized for speed if necessary\n",
    "# e.g. skills are typically listed at the end of the webpage\n",
    "# might not need to split/join the whole webpage, as we already know\n",
    "# which words we are looking for \n",
    "# and could stop after the first occurance of each word\n",
    "\n",
    "with open('data/scraped_links_restart.pkl', 'rb') as f:\n",
    "    skill_set, index = pickle.load(f)\n",
    "    print (\"How many websites still to go? \",  index)\n",
    "    \n",
    "print(skill_set)"
   ]
  },
  {
   "cell_type": "code",
   "execution_count": 294,
   "metadata": {
    "scrolled": true,
    "slideshow": {
     "slide_type": "slide"
    }
   },
   "outputs": [
    {
     "name": "stdout",
     "output_type": "stream",
     "text": [
      "HTTPError:http://www.indeed.com/rc/clk?jk=2dd0b9a386801c05\n",
      "HTTPError:http://www.indeed.com/rc/clk?jk=40b49f64bd138fb6\n",
      "URLError:http://www.indeed.com/rc/clk?jk=ee69729a74dab7ec\n",
      "HTTPError:http://www.indeed.com/rc/clk?jk=c2fd9190b8a6067a\n",
      "5291pping 15 of 5306\n",
      "{b'mapreduce': 0, b'spark': 2, b'python': 8, b'r': 11, b'javascript': 9, b'sql': 3}\n",
      "HTTPError:http://www.indeed.com/rc/clk?jk=904539a49fca0f66\n",
      "5286pping 20 of 5306\n",
      "{b'mapreduce': 0, b'spark': 5, b'python': 12, b'r': 15, b'javascript': 13, b'sql': 5}\n",
      "5281pping 25 of 5306\n",
      "{b'mapreduce': 0, b'spark': 7, b'python': 16, b'r': 20, b'javascript': 17, b'sql': 7}\n",
      "5276pping 30 of 5306\n",
      "{b'mapreduce': 0, b'spark': 7, b'python': 19, b'r': 25, b'javascript': 22, b'sql': 9}\n",
      "HTTPError:http://www.indeed.com/rc/clk?jk=c8a51d2ac8c77379\n",
      "HTTPError:http://www.indeed.com/rc/clk?jk=c2fd9190b8a6067a\n",
      "5266pping 40 of 5306\n",
      "{b'mapreduce': 0, b'spark': 8, b'python': 22, b'r': 33, b'javascript': 28, b'sql': 10}\n",
      "5261pping 45 of 5306\n",
      "{b'mapreduce': 0, b'spark': 10, b'python': 25, b'r': 38, b'javascript': 33, b'sql': 11}\n",
      "HTTPError:http://www.indeed.com/rc/clk?jk=2b21f9773585d2a5\n",
      "5256pping 50 of 5306\n",
      "{b'mapreduce': 0, b'spark': 10, b'python': 28, b'r': 42, b'javascript': 37, b'sql': 13}\n",
      "HTTPError:http://www.indeed.com/rc/clk?jk=13d41bd759483d0f\n",
      "5246pping 60 of 5306\n",
      "{b'mapreduce': 1, b'spark': 12, b'python': 34, b'r': 51, b'javascript': 44, b'sql': 15}\n",
      "HTTPError:http://www.indeed.com/rc/clk?jk=7c0f23c7f78fc85f\n",
      "URLError:http://www.indeed.com/rc/clk?jk=e5d6cb2539b75d73\n",
      "HTTPError:http://www.indeed.com/rc/clk?jk=40b49f64bd138fb6\n",
      "5231pping 75 of 5306\n",
      "{b'mapreduce': 1, b'spark': 15, b'python': 40, b'r': 63, b'javascript': 54, b'sql': 19}\n",
      "HTTPError:http://www.indeed.com/rc/clk?jk=712e2070cc61f11d\n",
      "5226pping 80 of 5306\n",
      "{b'mapreduce': 1, b'spark': 16, b'python': 44, b'r': 67, b'javascript': 58, b'sql': 22}\n",
      "5221pping 85 of 5306\n",
      "{b'mapreduce': 1, b'spark': 19, b'python': 47, b'r': 72, b'javascript': 63, b'sql': 25}\n",
      "5216pping 90 of 5306\n",
      "{b'mapreduce': 1, b'spark': 20, b'python': 50, b'r': 77, b'javascript': 67, b'sql': 27}\n",
      "5211pping 95 of 5306\n",
      "{b'mapreduce': 1, b'spark': 21, b'python': 53, b'r': 82, b'javascript': 72, b'sql': 30}\n",
      "5206pping 100 of 5306\n",
      "{b'mapreduce': 1, b'spark': 21, b'python': 56, b'r': 87, b'javascript': 77, b'sql': 32}\n",
      "URLError:http://www.indeed.com/rc/clk?jk=45c7f8c9e819c9b4\n",
      "HTTPError:http://www.indeed.com/rc/clk?jk=13d41bd759483d0f\n",
      "5196pping 110 of 5306\n",
      "{b'mapreduce': 1, b'spark': 24, b'python': 62, b'r': 95, b'javascript': 84, b'sql': 35}\n",
      "HTTPError:http://www.indeed.com/rc/clk?jk=6e5793472821a9da\n",
      "5191pping 115 of 5306\n",
      "{b'mapreduce': 1, b'spark': 24, b'python': 64, b'r': 99, b'javascript': 88, b'sql': 37}\n",
      "HTTPError:http://www.indeed.com/rc/clk?jk=e2a8b9dcd774d6f2\n",
      "HTTPError:http://www.indeed.com/rc/clk?jk=4faedc5415fa9953\n",
      "HTTPError:http://www.indeed.com/rc/clk?jk=8ada31e549ce35ab\n",
      "5181pping 125 of 5306\n",
      "{b'mapreduce': 1, b'spark': 26, b'python': 69, b'r': 106, b'javascript': 95, b'sql': 37}\n",
      "5176pping 130 of 5306\n",
      "{b'mapreduce': 1, b'spark': 28, b'python': 73, b'r': 111, b'javascript': 100, b'sql': 40}\n",
      "5171pping 135 of 5306\n",
      "{b'mapreduce': 1, b'spark': 29, b'python': 77, b'r': 116, b'javascript': 104, b'sql': 44}\n",
      "HTTPError:http://www.indeed.com/rc/clk?jk=47a78d1a32cf7a1e\n",
      "HTTPError:http://www.indeed.com/rc/clk?jk=91b7db1219a7abcf\n",
      "5166pping 140 of 5306\n",
      "{b'mapreduce': 1, b'spark': 29, b'python': 79, b'r': 119, b'javascript': 106, b'sql': 46}\n",
      "HTTPError:http://www.indeed.com/rc/clk?jk=40b49f64bd138fb6\n",
      "5161pping 145 of 5306\n",
      "{b'mapreduce': 1, b'spark': 30, b'python': 80, b'r': 123, b'javascript': 109, b'sql': 46}\n",
      "5156pping 150 of 5306\n",
      "{b'mapreduce': 1, b'spark': 31, b'python': 85, b'r': 128, b'javascript': 114, b'sql': 48}\n",
      "HTTPError:http://www.indeed.com/rc/clk?jk=6d956311dbdbd6be\n",
      "5151pping 155 of 5306\n",
      "{b'mapreduce': 1, b'spark': 31, b'python': 87, b'r': 132, b'javascript': 118, b'sql': 50}\n",
      "HTTPError:http://www.indeed.com/rc/clk?jk=2b62df45beedad92\n",
      "5146pping 160 of 5306\n",
      "{b'mapreduce': 1, b'spark': 32, b'python': 89, b'r': 136, b'javascript': 122, b'sql': 50}\n",
      "5141pping 165 of 5306\n",
      "{b'mapreduce': 1, b'spark': 34, b'python': 92, b'r': 141, b'javascript': 127, b'sql': 52}\n",
      "URLError:http://www.indeed.com/rc/clk?jk=7a578b59b17acc55\n",
      "HTTPError:http://www.indeed.com/rc/clk?jk=2b21f9773585d2a5\n",
      "5136pping 170 of 5306\n",
      "{b'mapreduce': 1, b'spark': 36, b'python': 94, b'r': 144, b'javascript': 130, b'sql': 54}\n",
      "5131pping 175 of 5306\n",
      "{b'mapreduce': 1, b'spark': 39, b'python': 98, b'r': 149, b'javascript': 135, b'sql': 56}\n",
      "5126pping 180 of 5306\n",
      "{b'mapreduce': 1, b'spark': 40, b'python': 100, b'r': 154, b'javascript': 139, b'sql': 57}\n",
      "5121pping 185 of 5306\n",
      "{b'mapreduce': 1, b'spark': 42, b'python': 103, b'r': 159, b'javascript': 144, b'sql': 59}\n",
      "5116pping 190 of 5306\n",
      "{b'mapreduce': 1, b'spark': 42, b'python': 107, b'r': 164, b'javascript': 149, b'sql': 63}\n",
      "HTTPError:http://www.indeed.com/rc/clk?jk=0d06f35182f520d0\n",
      "5111pping 195 of 5306\n",
      "{b'mapreduce': 1, b'spark': 43, b'python': 110, b'r': 168, b'javascript': 153, b'sql': 65}\n",
      "5106pping 200 of 5306\n",
      "{b'mapreduce': 1, b'spark': 45, b'python': 114, b'r': 173, b'javascript': 158, b'sql': 67}\n",
      "HTTPError:http://www.indeed.com/rc/clk?jk=3198d75325142e0f\n",
      "5101pping 205 of 5306\n",
      "{b'mapreduce': 1, b'spark': 45, b'python': 118, b'r': 177, b'javascript': 162, b'sql': 70}\n",
      "HTTPError:http://www.indeed.com/rc/clk?jk=0dadbcd12988d4f1\n",
      "5096pping 210 of 5306\n",
      "{b'mapreduce': 1, b'spark': 45, b'python': 120, b'r': 181, b'javascript': 164, b'sql': 73}\n",
      "5091pping 215 of 5306\n",
      "{b'mapreduce': 1, b'spark': 46, b'python': 123, b'r': 186, b'javascript': 168, b'sql': 75}\n",
      "5086pping 220 of 5306\n",
      "{b'mapreduce': 1, b'spark': 47, b'python': 127, b'r': 191, b'javascript': 173, b'sql': 79}\n",
      "5081pping 225 of 5306\n",
      "{b'mapreduce': 1, b'spark': 47, b'python': 128, b'r': 196, b'javascript': 177, b'sql': 82}\n",
      "5076pping 230 of 5306\n",
      "{b'mapreduce': 1, b'spark': 49, b'python': 131, b'r': 201, b'javascript': 181, b'sql': 82}\n",
      "5071pping 235 of 5306\n",
      "{b'mapreduce': 1, b'spark': 51, b'python': 135, b'r': 206, b'javascript': 185, b'sql': 84}\n",
      "5066pping 240 of 5306\n",
      "{b'mapreduce': 1, b'spark': 54, b'python': 138, b'r': 211, b'javascript': 190, b'sql': 87}\n",
      "URLError:http://www.indeed.com/rc/clk?jk=9c3b29df4b0a7b67\n",
      "5061pping 245 of 5306\n",
      "{b'mapreduce': 1, b'spark': 54, b'python': 141, b'r': 215, b'javascript': 193, b'sql': 90}\n",
      "5056pping 250 of 5306\n",
      "{b'mapreduce': 1, b'spark': 56, b'python': 145, b'r': 220, b'javascript': 197, b'sql': 92}\n",
      "HTTPError:http://www.indeed.com/rc/clk?jk=89790e1319104f5f\n",
      "5051pping 255 of 5306\n",
      "{b'mapreduce': 1, b'spark': 56, b'python': 147, b'r': 224, b'javascript': 200, b'sql': 94}\n",
      "HTTPError:http://www.indeed.com/rc/clk?jk=481eb0c260890d8a\n",
      "HTTPError:http://www.indeed.com/rc/clk?jk=ae01aec66d7f3605\n",
      "5046pping 260 of 5306\n",
      "{b'mapreduce': 1, b'spark': 56, b'python': 150, b'r': 227, b'javascript': 203, b'sql': 96}\n",
      "HTTPError:http://www.indeed.com/rc/clk?jk=40b49f64bd138fb6\n",
      "5041pping 265 of 5306\n",
      "{b'mapreduce': 1, b'spark': 57, b'python': 153, b'r': 231, b'javascript': 206, b'sql': 97}\n",
      "HTTPError:http://www.indeed.com/rc/clk?jk=fc049eaad44cc3f6\n",
      "HTTPError:http://www.indeed.com/rc/clk?jk=92161197d13d1399\n",
      "5031pping 275 of 5306\n",
      "{b'mapreduce': 1, b'spark': 59, b'python': 159, b'r': 239, b'javascript': 214, b'sql': 102}\n",
      "5026pping 280 of 5306\n",
      "{b'mapreduce': 1, b'spark': 61, b'python': 162, b'r': 244, b'javascript': 219, b'sql': 104}\n",
      "5021pping 285 of 5306\n",
      "{b'mapreduce': 1, b'spark': 63, b'python': 165, b'r': 249, b'javascript': 224, b'sql': 106}\n",
      "5016pping 290 of 5306\n",
      "{b'mapreduce': 1, b'spark': 64, b'python': 166, b'r': 254, b'javascript': 228, b'sql': 107}\n",
      "HTTPError:http://www.indeed.com/rc/clk?jk=a8dd5d0c6e79e640\n",
      "5011pping 295 of 5306\n",
      "{b'mapreduce': 2, b'spark': 65, b'python': 169, b'r': 258, b'javascript': 232, b'sql': 109}\n",
      "HTTPError:http://www.indeed.com/rc/clk?jk=40b49f64bd138fb6\n",
      "5006pping 300 of 5306\n",
      "{b'mapreduce': 2, b'spark': 66, b'python': 172, b'r': 262, b'javascript': 234, b'sql': 112}\n",
      "URLError:http://www.indeed.com/rc/clk?jk=5b9a27ea0fb55a04\n",
      "5001pping 305 of 5306\n",
      "{b'mapreduce': 2, b'spark': 68, b'python': 175, b'r': 266, b'javascript': 238, b'sql': 113}\n",
      "HTTPError:http://www.indeed.com/rc/clk?jk=a5d2e3fa437fc345\n",
      "4996pping 310 of 5306\n",
      "{b'mapreduce': 2, b'spark': 68, b'python': 178, b'r': 270, b'javascript': 240, b'sql': 115}\n"
     ]
    },
    {
     "name": "stdout",
     "output_type": "stream",
     "text": [
      "4991pping 315 of 5306\n",
      "{b'mapreduce': 2, b'spark': 70, b'python': 182, b'r': 275, b'javascript': 244, b'sql': 117}\n",
      "4986pping 320 of 5306\n",
      "{b'mapreduce': 2, b'spark': 72, b'python': 185, b'r': 280, b'javascript': 249, b'sql': 120}\n",
      "URLError:http://www.indeed.com/rc/clk?jk=5b9a27ea0fb55a04\n",
      "4981pping 325 of 5306\n",
      "{b'mapreduce': 2, b'spark': 73, b'python': 188, b'r': 284, b'javascript': 253, b'sql': 122}\n",
      "HTTPError:http://www.indeed.com/rc/clk?jk=a5d2e3fa437fc345\n",
      "4976pping 330 of 5306\n",
      "{b'mapreduce': 2, b'spark': 74, b'python': 192, b'r': 288, b'javascript': 255, b'sql': 124}\n",
      "4971pping 335 of 5306\n",
      "{b'mapreduce': 3, b'spark': 76, b'python': 195, b'r': 293, b'javascript': 260, b'sql': 126}\n",
      "4966pping 340 of 5306\n",
      "{b'mapreduce': 3, b'spark': 77, b'python': 199, b'r': 298, b'javascript': 265, b'sql': 129}\n",
      "4961pping 345 of 5306\n",
      "{b'mapreduce': 3, b'spark': 78, b'python': 202, b'r': 303, b'javascript': 270, b'sql': 131}\n",
      "HTTPError:http://www.indeed.com/rc/clk?jk=8ada31e549ce35ab\n",
      "4956pping 350 of 5306\n",
      "{b'mapreduce': 3, b'spark': 78, b'python': 205, b'r': 307, b'javascript': 274, b'sql': 132}\n",
      "4951pping 355 of 5306\n",
      "{b'mapreduce': 3, b'spark': 79, b'python': 207, b'r': 312, b'javascript': 279, b'sql': 133}\n",
      "HTTPError:http://www.indeed.com/rc/clk?jk=31c33fbff7e05821\n",
      "4946pping 360 of 5306\n",
      "{b'mapreduce': 3, b'spark': 79, b'python': 210, b'r': 316, b'javascript': 283, b'sql': 134}\n",
      "4941pping 365 of 5306\n",
      "{b'mapreduce': 3, b'spark': 80, b'python': 213, b'r': 321, b'javascript': 287, b'sql': 135}\n",
      "4936pping 370 of 5306\n",
      "{b'mapreduce': 3, b'spark': 81, b'python': 215, b'r': 326, b'javascript': 291, b'sql': 136}\n",
      "4931pping 375 of 5306\n",
      "{b'mapreduce': 3, b'spark': 82, b'python': 218, b'r': 331, b'javascript': 296, b'sql': 138}\n",
      "4926pping 380 of 5306\n",
      "{b'mapreduce': 4, b'spark': 84, b'python': 223, b'r': 336, b'javascript': 301, b'sql': 141}\n",
      "4921pping 385 of 5306\n",
      "{b'mapreduce': 4, b'spark': 86, b'python': 226, b'r': 341, b'javascript': 304, b'sql': 143}\n",
      "4916pping 390 of 5306\n",
      "{b'mapreduce': 4, b'spark': 87, b'python': 227, b'r': 346, b'javascript': 308, b'sql': 143}\n",
      "4911pping 395 of 5306\n",
      "{b'mapreduce': 4, b'spark': 88, b'python': 230, b'r': 351, b'javascript': 311, b'sql': 145}\n",
      "4906pping 400 of 5306\n",
      "{b'mapreduce': 4, b'spark': 90, b'python': 234, b'r': 356, b'javascript': 316, b'sql': 148}\n",
      "HTTPError:http://www.indeed.com/rc/clk?jk=2ee9d7af89134fcf\n",
      "4901pping 405 of 5306\n",
      "{b'mapreduce': 4, b'spark': 93, b'python': 237, b'r': 360, b'javascript': 320, b'sql': 150}\n",
      "4896pping 410 of 5306\n",
      "{b'mapreduce': 4, b'spark': 94, b'python': 239, b'r': 365, b'javascript': 325, b'sql': 150}\n",
      "4891pping 415 of 5306\n",
      "{b'mapreduce': 4, b'spark': 96, b'python': 242, b'r': 370, b'javascript': 330, b'sql': 152}\n",
      "HTTPError:http://www.indeed.com/rc/clk?jk=7c0f23c7f78fc85f\n",
      "HTTPError:http://www.indeed.com/rc/clk?jk=83874374f1f02d3d\n",
      "HTTPError:http://www.indeed.com/rc/clk?jk=6fe85157f435e63f\n",
      "HTTPError:http://www.indeed.com/rc/clk?jk=97051e2cfcc6930f\n",
      "HTTPError:http://www.indeed.com/rc/clk?jk=8c08a2c760bed1e7\n",
      "HTTPError:http://www.indeed.com/rc/clk?jk=e2bbc6c65095ed1d\n",
      "HTTPError:http://www.indeed.com/rc/clk?jk=922edd8ebd0c4276\n",
      "4871pping 435 of 5306\n",
      "{b'mapreduce': 4, b'spark': 98, b'python': 250, b'r': 383, b'javascript': 342, b'sql': 157}\n",
      "4866pping 440 of 5306\n",
      "{b'mapreduce': 4, b'spark': 100, b'python': 253, b'r': 388, b'javascript': 347, b'sql': 158}\n",
      "4861pping 445 of 5306\n",
      "{b'mapreduce': 4, b'spark': 102, b'python': 257, b'r': 393, b'javascript': 352, b'sql': 160}\n",
      "HTTPError:http://www.indeed.com/rc/clk?jk=8e639aa9da58c80a\n",
      "HTTPError:http://www.indeed.com/rc/clk?jk=7a8c4054df2a145b\n",
      "4856pping 450 of 5306\n",
      "{b'mapreduce': 4, b'spark': 102, b'python': 259, b'r': 396, b'javascript': 355, b'sql': 162}\n",
      "HTTPError:http://www.indeed.com/rc/clk?jk=ae01aec66d7f3605\n",
      "4851pping 455 of 5306\n",
      "{b'mapreduce': 4, b'spark': 103, b'python': 261, b'r': 400, b'javascript': 358, b'sql': 163}\n",
      "4846pping 460 of 5306\n",
      "{b'mapreduce': 4, b'spark': 105, b'python': 264, b'r': 405, b'javascript': 363, b'sql': 164}\n",
      "HTTPError:http://www.indeed.com/rc/clk?jk=9cc7ca680a052e45\n",
      "4841pping 465 of 5306\n",
      "{b'mapreduce': 4, b'spark': 108, b'python': 267, b'r': 409, b'javascript': 367, b'sql': 165}\n",
      "HTTPError:http://www.indeed.com/rc/clk?jk=57e7dfa7eda17035\n",
      "4836pping 470 of 5306\n",
      "{b'mapreduce': 4, b'spark': 108, b'python': 270, b'r': 413, b'javascript': 370, b'sql': 168}\n",
      "4831pping 475 of 5306\n",
      "{b'mapreduce': 4, b'spark': 109, b'python': 273, b'r': 418, b'javascript': 374, b'sql': 171}\n",
      "4826pping 480 of 5306\n",
      "{b'mapreduce': 4, b'spark': 111, b'python': 276, b'r': 423, b'javascript': 379, b'sql': 172}\n",
      "4821pping 485 of 5306\n",
      "{b'mapreduce': 4, b'spark': 114, b'python': 281, b'r': 428, b'javascript': 384, b'sql': 174}\n",
      "HTTPError:http://www.indeed.com/rc/clk?jk=7d43d0daf44bb39a\n",
      "4816pping 490 of 5306\n",
      "{b'mapreduce': 4, b'spark': 115, b'python': 284, b'r': 432, b'javascript': 388, b'sql': 176}\n",
      "HTTPError:http://www.indeed.com/rc/clk?jk=b8fbdb63b950ccf1\n",
      "4811pping 495 of 5306\n",
      "{b'mapreduce': 4, b'spark': 116, b'python': 287, b'r': 436, b'javascript': 391, b'sql': 179}\n",
      "4806pping 500 of 5306\n",
      "{b'mapreduce': 4, b'spark': 118, b'python': 290, b'r': 441, b'javascript': 396, b'sql': 182}\n",
      "4801pping 505 of 5306\n",
      "{b'mapreduce': 4, b'spark': 119, b'python': 295, b'r': 446, b'javascript': 401, b'sql': 186}\n",
      "4796pping 510 of 5306\n",
      "{b'mapreduce': 5, b'spark': 122, b'python': 298, b'r': 451, b'javascript': 406, b'sql': 186}\n",
      "4791pping 515 of 5306\n",
      "{b'mapreduce': 5, b'spark': 124, b'python': 302, b'r': 456, b'javascript': 411, b'sql': 187}\n",
      "HTTPError:http://www.indeed.com/rc/clk?jk=851924f0d73de573\n",
      "HTTPError:http://www.indeed.com/rc/clk?jk=a5d2e3fa437fc345\n",
      "4786pping 520 of 5306\n",
      "{b'mapreduce': 5, b'spark': 124, b'python': 305, b'r': 459, b'javascript': 413, b'sql': 190}\n",
      "HTTPError:http://www.indeed.com/rc/clk?jk=d639e32ea6a2425d\n",
      "4781pping 525 of 5306\n",
      "{b'mapreduce': 6, b'spark': 125, b'python': 306, b'r': 463, b'javascript': 416, b'sql': 191}\n",
      "HTTPError:http://www.indeed.com/rc/clk?jk=40b49f64bd138fb6\n",
      "4776pping 530 of 5306\n",
      "{b'mapreduce': 6, b'spark': 126, b'python': 309, b'r': 467, b'javascript': 420, b'sql': 194}\n",
      "4771pping 535 of 5306\n",
      "{b'mapreduce': 6, b'spark': 128, b'python': 312, b'r': 472, b'javascript': 424, b'sql': 196}\n",
      "HTTPError:http://www.indeed.com/rc/clk?jk=18f27621c77da3ec\n",
      "URLError:http://www.indeed.com/rc/clk?jk=1d20219365eb80b5\n",
      "4761pping 545 of 5306\n",
      "{b'mapreduce': 6, b'spark': 130, b'python': 315, b'r': 480, b'javascript': 430, b'sql': 198}\n",
      "HTTPError:http://www.indeed.com/rc/clk?jk=eb1dacfcfcdce84d\n",
      "4756pping 550 of 5306\n",
      "{b'mapreduce': 6, b'spark': 132, b'python': 318, b'r': 484, b'javascript': 434, b'sql': 201}\n",
      "4751pping 555 of 5306\n",
      "{b'mapreduce': 6, b'spark': 133, b'python': 320, b'r': 489, b'javascript': 438, b'sql': 203}\n",
      "4746pping 560 of 5306\n",
      "{b'mapreduce': 6, b'spark': 134, b'python': 323, b'r': 494, b'javascript': 443, b'sql': 205}\n",
      "4741pping 565 of 5306\n",
      "{b'mapreduce': 6, b'spark': 135, b'python': 326, b'r': 499, b'javascript': 447, b'sql': 206}\n",
      "HTTPError:http://www.indeed.com/rc/clk?jk=358291edbadf8964\n",
      "HTTPError:http://www.indeed.com/rc/clk?jk=05b39a2db7676487\n",
      "4731pping 575 of 5306\n",
      "{b'mapreduce': 6, b'spark': 137, b'python': 332, b'r': 507, b'javascript': 454, b'sql': 210}\n",
      "4726pping 580 of 5306\n",
      "{b'mapreduce': 6, b'spark': 139, b'python': 336, b'r': 512, b'javascript': 459, b'sql': 211}\n",
      "4721pping 585 of 5306\n",
      "{b'mapreduce': 6, b'spark': 140, b'python': 339, b'r': 517, b'javascript': 463, b'sql': 213}\n",
      "HTTPError:http://www.indeed.com/rc/clk?jk=44b947a421c0af0a\n",
      "4711pping 595 of 5306\n",
      "{b'mapreduce': 6, b'spark': 144, b'python': 345, b'r': 526, b'javascript': 472, b'sql': 219}\n",
      "4706pping 600 of 5306\n",
      "{b'mapreduce': 6, b'spark': 146, b'python': 348, b'r': 531, b'javascript': 477, b'sql': 221}\n",
      "HTTPError:http://www.indeed.com/rc/clk?jk=491526d2132e0231\n",
      "4701pping 605 of 5306\n",
      "{b'mapreduce': 6, b'spark': 146, b'python': 351, b'r': 535, b'javascript': 481, b'sql': 223}\n",
      "HTTPError:http://www.indeed.com/rc/clk?jk=76b4ecc098652b44\n",
      "HTTPError:http://www.indeed.com/rc/clk?jk=901254314609e4b7\n",
      "4696pping 610 of 5306\n",
      "{b'mapreduce': 6, b'spark': 147, b'python': 353, b'r': 538, b'javascript': 484, b'sql': 225}\n",
      "4691pping 615 of 5306\n",
      "{b'mapreduce': 6, b'spark': 149, b'python': 356, b'r': 543, b'javascript': 489, b'sql': 227}\n"
     ]
    },
    {
     "name": "stdout",
     "output_type": "stream",
     "text": [
      "4686pping 620 of 5306\n",
      "{b'mapreduce': 6, b'spark': 149, b'python': 359, b'r': 548, b'javascript': 493, b'sql': 229}\n",
      "HTTPError:http://www.indeed.com/rc/clk?jk=93f28a9036b209eb\n",
      "HTTPError:http://www.indeed.com/rc/clk?jk=8935965e5d24f9a5\n",
      "HTTPError:http://www.indeed.com/rc/clk?jk=b5e90097973da2d3\n",
      "4681pping 625 of 5306\n",
      "{b'mapreduce': 6, b'spark': 150, b'python': 361, b'r': 550, b'javascript': 495, b'sql': 230}\n",
      "HTTPError:http://www.indeed.com/rc/clk?jk=4866e4ad649fd287\n",
      "4676pping 630 of 5306\n",
      "{b'mapreduce': 7, b'spark': 153, b'python': 364, b'r': 554, b'javascript': 498, b'sql': 232}\n",
      "4671pping 635 of 5306\n",
      "{b'mapreduce': 7, b'spark': 154, b'python': 368, b'r': 559, b'javascript': 503, b'sql': 235}\n",
      "HTTPError:http://www.indeed.com/rc/clk?jk=5debe5c76b827103\n",
      "4666pping 640 of 5306\n",
      "{b'mapreduce': 7, b'spark': 156, b'python': 369, b'r': 563, b'javascript': 506, b'sql': 235}\n",
      "4661pping 645 of 5306\n",
      "{b'mapreduce': 7, b'spark': 159, b'python': 374, b'r': 568, b'javascript': 510, b'sql': 238}\n",
      "4656pping 650 of 5306\n",
      "{b'mapreduce': 7, b'spark': 161, b'python': 378, b'r': 573, b'javascript': 515, b'sql': 242}\n",
      "4651pping 655 of 5306\n",
      "{b'mapreduce': 7, b'spark': 162, b'python': 381, b'r': 578, b'javascript': 519, b'sql': 243}\n",
      "HTTPError:http://www.indeed.com/rc/clk?jk=39f5259d7b192c1c\n",
      "4646pping 660 of 5306\n",
      "{b'mapreduce': 7, b'spark': 164, b'python': 383, b'r': 582, b'javascript': 522, b'sql': 244}\n",
      "HTTPError:http://www.indeed.com/rc/clk?jk=9134b37f9179b6f3\n",
      "4641pping 665 of 5306\n",
      "{b'mapreduce': 8, b'spark': 166, b'python': 386, b'r': 586, b'javascript': 526, b'sql': 246}\n",
      "4636pping 670 of 5306\n",
      "{b'mapreduce': 8, b'spark': 169, b'python': 389, b'r': 591, b'javascript': 531, b'sql': 248}\n",
      "HTTPError:http://www.indeed.com/rc/clk?jk=4866e4ad649fd287\n",
      "4631pping 675 of 5306\n",
      "{b'mapreduce': 8, b'spark': 173, b'python': 392, b'r': 595, b'javascript': 534, b'sql': 250}\n",
      "4626pping 680 of 5306\n",
      "{b'mapreduce': 8, b'spark': 175, b'python': 397, b'r': 600, b'javascript': 538, b'sql': 254}\n",
      "4621pping 685 of 5306\n",
      "{b'mapreduce': 8, b'spark': 176, b'python': 400, b'r': 605, b'javascript': 543, b'sql': 256}\n",
      "4616pping 690 of 5306\n",
      "{b'mapreduce': 8, b'spark': 179, b'python': 404, b'r': 610, b'javascript': 548, b'sql': 258}\n",
      "4611pping 695 of 5306\n",
      "{b'mapreduce': 8, b'spark': 181, b'python': 408, b'r': 615, b'javascript': 553, b'sql': 262}\n",
      "HTTPError:http://www.indeed.com/rc/clk?jk=08c21dc8991d87e2\n",
      "4606pping 700 of 5306\n",
      "{b'mapreduce': 8, b'spark': 183, b'python': 410, b'r': 619, b'javascript': 557, b'sql': 264}\n",
      "4601pping 705 of 5306\n",
      "{b'mapreduce': 8, b'spark': 185, b'python': 414, b'r': 624, b'javascript': 562, b'sql': 266}\n",
      "4596pping 710 of 5306\n",
      "{b'mapreduce': 8, b'spark': 185, b'python': 416, b'r': 629, b'javascript': 567, b'sql': 268}\n",
      "4591pping 715 of 5306\n",
      "{b'mapreduce': 8, b'spark': 186, b'python': 418, b'r': 634, b'javascript': 572, b'sql': 270}\n",
      "4586pping 720 of 5306\n",
      "{b'mapreduce': 9, b'spark': 189, b'python': 422, b'r': 639, b'javascript': 577, b'sql': 272}\n",
      "4581pping 725 of 5306\n",
      "{b'mapreduce': 9, b'spark': 191, b'python': 426, b'r': 644, b'javascript': 582, b'sql': 274}\n",
      "HTTPError:http://www.indeed.com/rc/clk?jk=97051e2cfcc6930f\n",
      "HTTPError:http://www.indeed.com/rc/clk?jk=9724447b01365612\n",
      "HTTPError:http://www.indeed.com/rc/clk?jk=39427de730cf1dd2\n",
      "URLError:http://www.indeed.com/rc/clk?jk=8a57ec38468f3689\n",
      "4566pping 740 of 5306\n",
      "{b'mapreduce': 9, b'spark': 194, b'python': 432, b'r': 655, b'javascript': 591, b'sql': 280}\n",
      "4561pping 745 of 5306\n",
      "{b'mapreduce': 9, b'spark': 196, b'python': 435, b'r': 660, b'javascript': 596, b'sql': 282}\n",
      "4556pping 750 of 5306\n",
      "{b'mapreduce': 9, b'spark': 198, b'python': 438, b'r': 665, b'javascript': 600, b'sql': 282}\n",
      "4551pping 755 of 5306\n",
      "{b'mapreduce': 9, b'spark': 200, b'python': 442, b'r': 670, b'javascript': 605, b'sql': 285}\n",
      "HTTPError:http://www.indeed.com/rc/clk?jk=affd40e16298d0b0\n",
      "4546pping 760 of 5306\n",
      "{b'mapreduce': 9, b'spark': 201, b'python': 444, b'r': 674, b'javascript': 608, b'sql': 287}\n",
      "4541pping 765 of 5306\n",
      "{b'mapreduce': 9, b'spark': 201, b'python': 446, b'r': 679, b'javascript': 611, b'sql': 287}\n",
      "4536pping 770 of 5306\n",
      "{b'mapreduce': 9, b'spark': 203, b'python': 449, b'r': 684, b'javascript': 616, b'sql': 290}\n",
      "HTTPError:http://www.indeed.com/rc/clk?jk=723ca208c4b19d58\n",
      "4531pping 775 of 5306\n",
      "{b'mapreduce': 9, b'spark': 205, b'python': 453, b'r': 688, b'javascript': 620, b'sql': 293}\n",
      "4526pping 780 of 5306\n",
      "{b'mapreduce': 9, b'spark': 208, b'python': 457, b'r': 693, b'javascript': 625, b'sql': 297}\n",
      "4521pping 785 of 5306\n",
      "{b'mapreduce': 9, b'spark': 210, b'python': 459, b'r': 698, b'javascript': 630, b'sql': 297}\n",
      "4516pping 790 of 5306\n",
      "{b'mapreduce': 9, b'spark': 213, b'python': 464, b'r': 703, b'javascript': 635, b'sql': 301}\n",
      "HTTPError:http://www.indeed.com/rc/clk?jk=9299caf48f8d957b\n",
      "4511pping 795 of 5306\n",
      "{b'mapreduce': 9, b'spark': 213, b'python': 464, b'r': 707, b'javascript': 638, b'sql': 303}\n",
      "4506pping 800 of 5306\n",
      "{b'mapreduce': 9, b'spark': 216, b'python': 468, b'r': 712, b'javascript': 642, b'sql': 306}\n",
      "4501pping 805 of 5306\n",
      "{b'mapreduce': 9, b'spark': 217, b'python': 471, b'r': 717, b'javascript': 647, b'sql': 308}\n",
      "4496pping 810 of 5306\n",
      "{b'mapreduce': 9, b'spark': 218, b'python': 475, b'r': 722, b'javascript': 651, b'sql': 310}\n",
      "4491pping 815 of 5306\n",
      "{b'mapreduce': 9, b'spark': 218, b'python': 477, b'r': 727, b'javascript': 653, b'sql': 312}\n",
      "4486pping 820 of 5306\n",
      "{b'mapreduce': 9, b'spark': 220, b'python': 479, b'r': 732, b'javascript': 658, b'sql': 313}\n",
      "HTTPError:http://www.indeed.com/rc/clk?jk=770edba0ee48a372\n",
      "4481pping 825 of 5306\n",
      "{b'mapreduce': 9, b'spark': 221, b'python': 483, b'r': 736, b'javascript': 662, b'sql': 316}\n",
      "HTTPError:http://www.indeed.com/rc/clk?jk=3fac6694d275b067\n",
      "4476pping 830 of 5306\n",
      "{b'mapreduce': 10, b'spark': 222, b'python': 484, b'r': 740, b'javascript': 665, b'sql': 317}\n",
      "4471pping 835 of 5306\n",
      "{b'mapreduce': 10, b'spark': 222, b'python': 485, b'r': 745, b'javascript': 669, b'sql': 317}\n",
      "4466pping 840 of 5306\n",
      "{b'mapreduce': 10, b'spark': 225, b'python': 489, b'r': 750, b'javascript': 674, b'sql': 320}\n",
      "4461pping 845 of 5306\n",
      "{b'mapreduce': 10, b'spark': 226, b'python': 494, b'r': 755, b'javascript': 679, b'sql': 323}\n",
      "HTTPError:http://www.indeed.com/rc/clk?jk=5870a29f0a3161f0\n",
      "HTTPError:http://www.indeed.com/rc/clk?jk=1699bce1afd2a313\n",
      "4451pping 855 of 5306\n",
      "{b'mapreduce': 10, b'spark': 227, b'python': 496, b'r': 763, b'javascript': 686, b'sql': 326}\n",
      "4446pping 860 of 5306\n",
      "{b'mapreduce': 10, b'spark': 228, b'python': 500, b'r': 768, b'javascript': 691, b'sql': 328}\n",
      "4441pping 865 of 5306\n",
      "{b'mapreduce': 10, b'spark': 228, b'python': 502, b'r': 773, b'javascript': 694, b'sql': 330}\n",
      "HTTPError:http://www.indeed.com/rc/clk?jk=3c2af2195ea6ed05\n",
      "HTTPError:http://www.indeed.com/rc/clk?jk=8b89c9ad3995931f\n",
      "HTTPError:http://www.indeed.com/rc/clk?jk=9299caf48f8d957b\n",
      "4436pping 870 of 5306\n",
      "{b'mapreduce': 10, b'spark': 228, b'python': 503, b'r': 775, b'javascript': 696, b'sql': 331}\n",
      "4431pping 875 of 5306\n",
      "{b'mapreduce': 10, b'spark': 230, b'python': 506, b'r': 780, b'javascript': 700, b'sql': 333}\n",
      "HTTPError:http://www.indeed.com/rc/clk?jk=1699bce1afd2a313\n",
      "4426pping 880 of 5306\n",
      "{b'mapreduce': 10, b'spark': 230, b'python': 507, b'r': 784, b'javascript': 704, b'sql': 333}\n",
      "4421pping 885 of 5306\n",
      "{b'mapreduce': 10, b'spark': 230, b'python': 508, b'r': 789, b'javascript': 709, b'sql': 335}\n",
      "4416pping 890 of 5306\n",
      "{b'mapreduce': 10, b'spark': 233, b'python': 511, b'r': 794, b'javascript': 714, b'sql': 336}\n",
      "4411pping 895 of 5306\n",
      "{b'mapreduce': 10, b'spark': 234, b'python': 515, b'r': 799, b'javascript': 719, b'sql': 339}\n",
      "4406pping 900 of 5306\n",
      "{b'mapreduce': 11, b'spark': 238, b'python': 519, b'r': 804, b'javascript': 722, b'sql': 343}\n",
      "HTTPError:http://www.indeed.com/rc/clk?jk=bf31366e07a15896\n",
      "HTTPError:http://www.indeed.com/rc/clk?jk=42ec6c5675ab23f2\n",
      "4401pping 905 of 5306\n",
      "{b'mapreduce': 11, b'spark': 240, b'python': 520, b'r': 807, b'javascript': 725, b'sql': 344}\n",
      "4396pping 910 of 5306\n",
      "{b'mapreduce': 11, b'spark': 242, b'python': 523, b'r': 812, b'javascript': 730, b'sql': 346}\n",
      "4391pping 915 of 5306\n",
      "{b'mapreduce': 11, b'spark': 243, b'python': 526, b'r': 817, b'javascript': 734, b'sql': 348}\n",
      "4386pping 920 of 5306\n",
      "{b'mapreduce': 11, b'spark': 243, b'python': 529, b'r': 822, b'javascript': 737, b'sql': 351}\n"
     ]
    },
    {
     "name": "stdout",
     "output_type": "stream",
     "text": [
      "HTTPError:http://www.indeed.com/rc/clk?jk=8b89c9ad3995931f\n",
      "HTTPError:http://www.indeed.com/rc/clk?jk=9299caf48f8d957b\n",
      "4381pping 925 of 5306\n",
      "{b'mapreduce': 11, b'spark': 244, b'python': 530, b'r': 825, b'javascript': 740, b'sql': 351}\n",
      "4376pping 930 of 5306\n",
      "{b'mapreduce': 11, b'spark': 245, b'python': 533, b'r': 830, b'javascript': 744, b'sql': 353}\n",
      "4371pping 935 of 5306\n",
      "{b'mapreduce': 11, b'spark': 246, b'python': 536, b'r': 835, b'javascript': 749, b'sql': 355}\n",
      "4366pping 940 of 5306\n",
      "{b'mapreduce': 11, b'spark': 247, b'python': 538, b'r': 840, b'javascript': 754, b'sql': 356}\n",
      "HTTPError:http://www.indeed.com/rc/clk?jk=358291edbadf8964\n",
      "4356pping 950 of 5306\n",
      "{b'mapreduce': 12, b'spark': 249, b'python': 545, b'r': 849, b'javascript': 762, b'sql': 360}\n",
      "4351pping 955 of 5306\n",
      "{b'mapreduce': 12, b'spark': 251, b'python': 548, b'r': 854, b'javascript': 766, b'sql': 363}\n",
      "HTTPError:http://www.indeed.com/rc/clk?jk=fc049eaad44cc3f6\n",
      "4346pping 960 of 5306\n",
      "{b'mapreduce': 12, b'spark': 254, b'python': 551, b'r': 858, b'javascript': 770, b'sql': 367}\n",
      "4341pping 965 of 5306\n",
      "{b'mapreduce': 12, b'spark': 255, b'python': 553, b'r': 863, b'javascript': 774, b'sql': 369}\n",
      "HTTPError:http://www.indeed.com/rc/clk?jk=a3e5c2d6deca6b48\n",
      "4336pping 970 of 5306\n",
      "{b'mapreduce': 12, b'spark': 256, b'python': 556, b'r': 867, b'javascript': 777, b'sql': 371}\n",
      "4331pping 975 of 5306\n",
      "{b'mapreduce': 12, b'spark': 258, b'python': 560, b'r': 872, b'javascript': 781, b'sql': 372}\n",
      "4326pping 980 of 5306\n",
      "{b'mapreduce': 12, b'spark': 260, b'python': 564, b'r': 877, b'javascript': 786, b'sql': 375}\n",
      "4321pping 985 of 5306\n",
      "{b'mapreduce': 12, b'spark': 262, b'python': 569, b'r': 882, b'javascript': 791, b'sql': 378}\n",
      "HTTPError:http://www.indeed.com/rc/clk?jk=1fe56ecdd15212ef\n",
      "4316pping 990 of 5306\n",
      "{b'mapreduce': 12, b'spark': 263, b'python': 572, b'r': 886, b'javascript': 794, b'sql': 380}\n",
      "HTTPError:http://www.indeed.com/rc/clk?jk=69fc5b5f869216f6\n",
      "4306pping 1000 of 5306\n",
      "{b'mapreduce': 13, b'spark': 268, b'python': 577, b'r': 895, b'javascript': 802, b'sql': 384}\n",
      "4301pping 1005 of 5306\n",
      "{b'mapreduce': 13, b'spark': 270, b'python': 580, b'r': 900, b'javascript': 806, b'sql': 387}\n",
      "4296pping 1010 of 5306\n",
      "{b'mapreduce': 13, b'spark': 273, b'python': 583, b'r': 905, b'javascript': 811, b'sql': 389}\n",
      "URLError:http://www.indeed.com/rc/clk?jk=8caf0401e5aa1907\n",
      "4291pping 1015 of 5306\n",
      "{b'mapreduce': 13, b'spark': 274, b'python': 586, b'r': 909, b'javascript': 815, b'sql': 392}\n",
      "4286pping 1020 of 5306\n",
      "{b'mapreduce': 13, b'spark': 276, b'python': 590, b'r': 914, b'javascript': 819, b'sql': 395}\n",
      "4281pping 1025 of 5306\n",
      "{b'mapreduce': 13, b'spark': 277, b'python': 590, b'r': 919, b'javascript': 823, b'sql': 396}\n",
      "4276pping 1030 of 5306\n",
      "{b'mapreduce': 13, b'spark': 279, b'python': 594, b'r': 924, b'javascript': 828, b'sql': 398}\n",
      "4271pping 1035 of 5306\n",
      "{b'mapreduce': 13, b'spark': 280, b'python': 599, b'r': 929, b'javascript': 833, b'sql': 402}\n",
      "HTTPError:http://www.indeed.com/rc/clk?jk=65707214c741eb9d\n",
      "4261pping 1045 of 5306\n",
      "{b'mapreduce': 13, b'spark': 282, b'python': 603, b'r': 938, b'javascript': 842, b'sql': 406}\n",
      "HTTPError:http://www.indeed.com/rc/clk?jk=5c93307da2868054\n",
      "4256pping 1050 of 5306\n",
      "{b'mapreduce': 13, b'spark': 283, b'python': 605, b'r': 942, b'javascript': 846, b'sql': 408}\n",
      "4251pping 1055 of 5306\n",
      "{b'mapreduce': 14, b'spark': 284, b'python': 609, b'r': 947, b'javascript': 850, b'sql': 411}\n",
      "4246pping 1060 of 5306\n",
      "{b'mapreduce': 14, b'spark': 285, b'python': 611, b'r': 952, b'javascript': 855, b'sql': 413}\n",
      "4241pping 1065 of 5306\n",
      "{b'mapreduce': 14, b'spark': 286, b'python': 614, b'r': 957, b'javascript': 860, b'sql': 416}\n",
      "4236pping 1070 of 5306\n",
      "{b'mapreduce': 14, b'spark': 286, b'python': 618, b'r': 962, b'javascript': 864, b'sql': 420}\n",
      "4231pping 1075 of 5306\n",
      "{b'mapreduce': 14, b'spark': 287, b'python': 621, b'r': 967, b'javascript': 869, b'sql': 422}\n",
      "4226pping 1080 of 5306\n",
      "{b'mapreduce': 14, b'spark': 288, b'python': 626, b'r': 972, b'javascript': 874, b'sql': 426}\n",
      "4221pping 1085 of 5306\n",
      "{b'mapreduce': 14, b'spark': 289, b'python': 629, b'r': 977, b'javascript': 879, b'sql': 428}\n",
      "URLError:http://www.indeed.com/rc/clk?jk=aff7998850a5228b\n",
      "4216pping 1090 of 5306\n",
      "{b'mapreduce': 14, b'spark': 290, b'python': 631, b'r': 981, b'javascript': 883, b'sql': 431}\n",
      "HTTPError:http://www.indeed.com/rc/clk?jk=e00378226255ba4a\n",
      "HTTPError:http://www.indeed.com/rc/clk?jk=13d025663a8d07cd\n",
      "HTTPError:http://www.indeed.com/rc/clk?jk=f588d08badf6350d\n",
      "4201pping 1105 of 5306\n",
      "{b'mapreduce': 14, b'spark': 298, b'python': 641, b'r': 993, b'javascript': 894, b'sql': 438}\n",
      "4196pping 1110 of 5306\n",
      "{b'mapreduce': 14, b'spark': 299, b'python': 644, b'r': 998, b'javascript': 899, b'sql': 441}\n",
      "4191pping 1115 of 5306\n",
      "{b'mapreduce': 14, b'spark': 301, b'python': 647, b'r': 1003, b'javascript': 903, b'sql': 442}\n",
      "4186pping 1120 of 5306\n",
      "{b'mapreduce': 15, b'spark': 303, b'python': 651, b'r': 1008, b'javascript': 908, b'sql': 446}\n",
      "4181pping 1125 of 5306\n",
      "{b'mapreduce': 15, b'spark': 305, b'python': 655, b'r': 1013, b'javascript': 913, b'sql': 448}\n",
      "4176pping 1130 of 5306\n",
      "{b'mapreduce': 15, b'spark': 306, b'python': 658, b'r': 1018, b'javascript': 918, b'sql': 451}\n",
      "HTTPError:http://www.indeed.com/rc/clk?jk=add7ddf95c0eff27\n",
      "4171pping 1135 of 5306\n",
      "{b'mapreduce': 15, b'spark': 308, b'python': 662, b'r': 1022, b'javascript': 922, b'sql': 452}\n",
      "URLError:http://www.indeed.com/rc/clk?jk=aff7998850a5228b\n",
      "4166pping 1140 of 5306\n",
      "{b'mapreduce': 15, b'spark': 310, b'python': 665, b'r': 1026, b'javascript': 926, b'sql': 454}\n",
      "HTTPError:http://www.indeed.com/rc/clk?jk=5d50ac2a53b718a0\n",
      "4161pping 1145 of 5306\n",
      "{b'mapreduce': 15, b'spark': 312, b'python': 668, b'r': 1030, b'javascript': 930, b'sql': 456}\n",
      "4156pping 1150 of 5306\n",
      "{b'mapreduce': 15, b'spark': 313, b'python': 671, b'r': 1035, b'javascript': 935, b'sql': 457}\n",
      "4151pping 1155 of 5306\n",
      "{b'mapreduce': 15, b'spark': 314, b'python': 674, b'r': 1040, b'javascript': 937, b'sql': 459}\n",
      "HTTPError:http://www.indeed.com/rc/clk?jk=87ff26c812014475\n",
      "HTTPError:http://www.indeed.com/rc/clk?jk=64cb72d8b01c0a12\n",
      "4141pping 1165 of 5306\n",
      "{b'mapreduce': 15, b'spark': 316, b'python': 678, b'r': 1048, b'javascript': 944, b'sql': 461}\n",
      "4136pping 1170 of 5306\n",
      "{b'mapreduce': 15, b'spark': 318, b'python': 682, b'r': 1053, b'javascript': 949, b'sql': 464}\n",
      "4131pping 1175 of 5306\n",
      "{b'mapreduce': 15, b'spark': 321, b'python': 685, b'r': 1058, b'javascript': 954, b'sql': 467}\n",
      "4126pping 1180 of 5306\n",
      "{b'mapreduce': 15, b'spark': 322, b'python': 688, b'r': 1063, b'javascript': 959, b'sql': 467}\n",
      "4121pping 1185 of 5306\n",
      "{b'mapreduce': 15, b'spark': 324, b'python': 691, b'r': 1068, b'javascript': 964, b'sql': 470}\n",
      "HTTPError:http://www.indeed.com/rc/clk?jk=5f4cf6bfb8c1f55a\n",
      "4116pping 1190 of 5306\n",
      "{b'mapreduce': 15, b'spark': 326, b'python': 693, b'r': 1072, b'javascript': 968, b'sql': 471}\n",
      "HTTPError:http://www.indeed.com/rc/clk?jk=2ee9d7af89134fcf\n",
      "4106pping 1200 of 5306\n",
      "{b'mapreduce': 15, b'spark': 327, b'python': 698, b'r': 1081, b'javascript': 977, b'sql': 477}\n",
      "4101pping 1205 of 5306\n",
      "{b'mapreduce': 15, b'spark': 328, b'python': 700, b'r': 1086, b'javascript': 980, b'sql': 478}\n",
      "HTTPError:http://www.indeed.com/rc/clk?jk=87ff26c812014475\n",
      "4096pping 1210 of 5306\n",
      "{b'mapreduce': 15, b'spark': 329, b'python': 702, b'r': 1090, b'javascript': 982, b'sql': 479}\n",
      "HTTPError:http://www.indeed.com/rc/clk?jk=64cb72d8b01c0a12\n",
      "4091pping 1215 of 5306\n",
      "{b'mapreduce': 15, b'spark': 330, b'python': 704, b'r': 1094, b'javascript': 986, b'sql': 479}\n",
      "4086pping 1220 of 5306\n",
      "{b'mapreduce': 15, b'spark': 331, b'python': 706, b'r': 1099, b'javascript': 990, b'sql': 482}\n",
      "HTTPError:http://www.indeed.com/rc/clk?jk=c9a40b4cdbd6a2d3\n",
      "HTTPError:http://www.indeed.com/rc/clk?jk=746799aa80cedbfe\n",
      "HTTPError:http://www.indeed.com/rc/clk?jk=75645ef5ced8c4bc\n",
      "4076pping 1230 of 5306\n",
      "{b'mapreduce': 15, b'spark': 334, b'python': 711, b'r': 1106, b'javascript': 996, b'sql': 486}\n",
      "HTTPError:http://www.indeed.com/rc/clk?jk=5f4cf6bfb8c1f55a\n",
      "4071pping 1235 of 5306\n",
      "{b'mapreduce': 15, b'spark': 336, b'python': 714, b'r': 1110, b'javascript': 1000, b'sql': 488}\n",
      "4066pping 1240 of 5306\n",
      "{b'mapreduce': 15, b'spark': 338, b'python': 717, b'r': 1115, b'javascript': 1005, b'sql': 490}\n",
      "4061pping 1245 of 5306\n",
      "{b'mapreduce': 15, b'spark': 339, b'python': 721, b'r': 1120, b'javascript': 1010, b'sql': 494}\n"
     ]
    },
    {
     "name": "stdout",
     "output_type": "stream",
     "text": [
      "HTTPError:http://www.indeed.com/rc/clk?jk=2ee9d7af89134fcf\n",
      "4056pping 1250 of 5306\n",
      "{b'mapreduce': 15, b'spark': 340, b'python': 722, b'r': 1124, b'javascript': 1013, b'sql': 495}\n",
      "4051pping 1255 of 5306\n",
      "{b'mapreduce': 15, b'spark': 341, b'python': 725, b'r': 1129, b'javascript': 1018, b'sql': 498}\n",
      "HTTPError:http://www.indeed.com/rc/clk?jk=6f5f8b2be20579b5\n",
      "4046pping 1260 of 5306\n",
      "{b'mapreduce': 16, b'spark': 344, b'python': 728, b'r': 1133, b'javascript': 1022, b'sql': 500}\n",
      "4041pping 1265 of 5306\n",
      "{b'mapreduce': 16, b'spark': 345, b'python': 733, b'r': 1138, b'javascript': 1027, b'sql': 502}\n",
      "4036pping 1270 of 5306\n",
      "{b'mapreduce': 16, b'spark': 346, b'python': 735, b'r': 1143, b'javascript': 1031, b'sql': 504}\n",
      "4031pping 1275 of 5306\n",
      "{b'mapreduce': 16, b'spark': 348, b'python': 737, b'r': 1148, b'javascript': 1036, b'sql': 505}\n",
      "4026pping 1280 of 5306\n",
      "{b'mapreduce': 16, b'spark': 351, b'python': 741, b'r': 1153, b'javascript': 1039, b'sql': 508}\n",
      "4021pping 1285 of 5306\n",
      "{b'mapreduce': 17, b'spark': 352, b'python': 744, b'r': 1158, b'javascript': 1043, b'sql': 510}\n",
      "4016pping 1290 of 5306\n",
      "{b'mapreduce': 17, b'spark': 354, b'python': 747, b'r': 1163, b'javascript': 1048, b'sql': 511}\n",
      "HTTPError:http://www.indeed.com/rc/clk?jk=8c08a2c760bed1e7\n",
      "4011pping 1295 of 5306\n",
      "{b'mapreduce': 18, b'spark': 355, b'python': 750, b'r': 1167, b'javascript': 1052, b'sql': 515}\n",
      "HTTPError:http://www.indeed.com/rc/clk?jk=2dcddaebc01a64fc\n",
      "4006pping 1300 of 5306\n",
      "{b'mapreduce': 18, b'spark': 355, b'python': 753, b'r': 1171, b'javascript': 1055, b'sql': 516}\n",
      "4001pping 1305 of 5306\n",
      "{b'mapreduce': 18, b'spark': 358, b'python': 756, b'r': 1176, b'javascript': 1060, b'sql': 517}\n",
      "3996pping 1310 of 5306\n",
      "{b'mapreduce': 18, b'spark': 359, b'python': 760, b'r': 1181, b'javascript': 1065, b'sql': 520}\n",
      "3991pping 1315 of 5306\n",
      "{b'mapreduce': 18, b'spark': 362, b'python': 763, b'r': 1186, b'javascript': 1069, b'sql': 523}\n",
      "3986pping 1320 of 5306\n",
      "{b'mapreduce': 18, b'spark': 366, b'python': 767, b'r': 1191, b'javascript': 1074, b'sql': 525}\n",
      "3981pping 1325 of 5306\n",
      "{b'mapreduce': 18, b'spark': 369, b'python': 770, b'r': 1196, b'javascript': 1079, b'sql': 527}\n",
      "3976pping 1330 of 5306\n",
      "{b'mapreduce': 18, b'spark': 370, b'python': 773, b'r': 1201, b'javascript': 1084, b'sql': 529}\n",
      "HTTPError:http://www.indeed.com/rc/clk?jk=4c43beedb3153810\n",
      "HTTPError:http://www.indeed.com/rc/clk?jk=a16faf0d686db42c\n",
      "3971pping 1335 of 5306\n",
      "{b'mapreduce': 18, b'spark': 370, b'python': 774, b'r': 1204, b'javascript': 1087, b'sql': 530}\n",
      "3966pping 1340 of 5306\n",
      "{b'mapreduce': 18, b'spark': 373, b'python': 777, b'r': 1209, b'javascript': 1092, b'sql': 531}\n",
      "3961pping 1345 of 5306\n",
      "{b'mapreduce': 18, b'spark': 376, b'python': 781, b'r': 1214, b'javascript': 1097, b'sql': 534}\n",
      "HTTPError:http://www.indeed.com/rc/clk?jk=6f5f8b2be20579b5\n",
      "3951pping 1355 of 5306\n",
      "{b'mapreduce': 19, b'spark': 378, b'python': 786, b'r': 1223, b'javascript': 1106, b'sql': 537}\n",
      "3946pping 1360 of 5306\n",
      "{b'mapreduce': 19, b'spark': 379, b'python': 788, b'r': 1228, b'javascript': 1110, b'sql': 538}\n",
      "3941pping 1365 of 5306\n",
      "{b'mapreduce': 19, b'spark': 382, b'python': 792, b'r': 1233, b'javascript': 1115, b'sql': 541}\n",
      "3936pping 1370 of 5306\n",
      "{b'mapreduce': 19, b'spark': 382, b'python': 795, b'r': 1238, b'javascript': 1119, b'sql': 542}\n",
      "3931pping 1375 of 5306\n",
      "{b'mapreduce': 19, b'spark': 384, b'python': 798, b'r': 1243, b'javascript': 1122, b'sql': 544}\n",
      "3926pping 1380 of 5306\n",
      "{b'mapreduce': 19, b'spark': 386, b'python': 801, b'r': 1248, b'javascript': 1127, b'sql': 546}\n",
      "3921pping 1385 of 5306\n",
      "{b'mapreduce': 19, b'spark': 387, b'python': 806, b'r': 1253, b'javascript': 1132, b'sql': 551}\n",
      "3916pping 1390 of 5306\n",
      "{b'mapreduce': 19, b'spark': 389, b'python': 808, b'r': 1258, b'javascript': 1136, b'sql': 553}\n",
      "HTTPError:http://www.indeed.com/rc/clk?jk=6f2b2085323942f0\n",
      "3911pping 1395 of 5306\n",
      "{b'mapreduce': 20, b'spark': 390, b'python': 810, b'r': 1262, b'javascript': 1140, b'sql': 555}\n",
      "HTTPError:http://www.indeed.com/rc/clk?jk=ae967a0ced83e8ab\n",
      "3901pping 1405 of 5306\n",
      "{b'mapreduce': 20, b'spark': 394, b'python': 815, b'r': 1271, b'javascript': 1147, b'sql': 561}\n",
      "3896pping 1410 of 5306\n",
      "{b'mapreduce': 20, b'spark': 395, b'python': 818, b'r': 1276, b'javascript': 1152, b'sql': 561}\n",
      "3891pping 1415 of 5306\n",
      "{b'mapreduce': 20, b'spark': 397, b'python': 821, b'r': 1281, b'javascript': 1157, b'sql': 563}\n",
      "HTTPError:http://www.indeed.com/rc/clk?jk=496647748b39e5fc\n",
      "3886pping 1420 of 5306\n",
      "{b'mapreduce': 21, b'spark': 397, b'python': 822, b'r': 1285, b'javascript': 1160, b'sql': 565}\n",
      "HTTPError:http://www.indeed.com/rc/clk?jk=4866e4ad649fd287\n",
      "HTTPError:http://www.indeed.com/rc/clk?jk=a16faf0d686db42c\n",
      "3881pping 1425 of 5306\n",
      "{b'mapreduce': 22, b'spark': 398, b'python': 825, b'r': 1288, b'javascript': 1163, b'sql': 568}\n",
      "3876pping 1430 of 5306\n",
      "{b'mapreduce': 22, b'spark': 400, b'python': 829, b'r': 1293, b'javascript': 1168, b'sql': 570}\n",
      "HTTPError:http://www.indeed.com/rc/clk?jk=1305b20cbc76f898\n",
      "3871pping 1435 of 5306\n",
      "{b'mapreduce': 22, b'spark': 401, b'python': 831, b'r': 1297, b'javascript': 1171, b'sql': 571}\n",
      "HTTPError:http://www.indeed.com/rc/clk?jk=1c6fdbee037c9d41\n",
      "3866pping 1440 of 5306\n",
      "{b'mapreduce': 22, b'spark': 401, b'python': 834, b'r': 1301, b'javascript': 1175, b'sql': 575}\n",
      "HTTPError:http://www.indeed.com/rc/clk?jk=47e6b45ce0d5c2d8\n",
      "3861pping 1445 of 5306\n",
      "{b'mapreduce': 22, b'spark': 402, b'python': 836, b'r': 1305, b'javascript': 1179, b'sql': 576}\n",
      "3856pping 1450 of 5306\n",
      "{b'mapreduce': 22, b'spark': 403, b'python': 839, b'r': 1310, b'javascript': 1183, b'sql': 578}\n",
      "HTTPError:http://www.indeed.com/rc/clk?jk=44601fe19a4e4a60\n",
      "3851pping 1455 of 5306\n",
      "{b'mapreduce': 23, b'spark': 405, b'python': 842, b'r': 1314, b'javascript': 1187, b'sql': 580}\n",
      "HTTPError:http://www.indeed.com/rc/clk?jk=e00378226255ba4a\n",
      "3846pping 1460 of 5306\n",
      "{b'mapreduce': 23, b'spark': 406, b'python': 844, b'r': 1318, b'javascript': 1190, b'sql': 581}\n",
      "HTTPError:http://www.indeed.com/rc/clk?jk=87ff26c812014475\n",
      "HTTPError:http://www.indeed.com/rc/clk?jk=0b6ddeab7b882be7\n",
      "3836pping 1470 of 5306\n",
      "{b'mapreduce': 24, b'spark': 408, b'python': 848, b'r': 1326, b'javascript': 1195, b'sql': 584}\n",
      "3831pping 1475 of 5306\n",
      "{b'mapreduce': 24, b'spark': 410, b'python': 851, b'r': 1331, b'javascript': 1200, b'sql': 587}\n",
      "HTTPError:http://www.indeed.com/rc/clk?jk=f4153e00b954e8e3\n",
      "HTTPError:http://www.indeed.com/rc/clk?jk=755568719870c49c\n",
      "3826pping 1480 of 5306\n",
      "{b'mapreduce': 24, b'spark': 410, b'python': 851, b'r': 1334, b'javascript': 1203, b'sql': 588}\n",
      "HTTPError:http://www.indeed.com/rc/clk?jk=746799aa80cedbfe\n",
      "3821pping 1485 of 5306\n",
      "{b'mapreduce': 24, b'spark': 411, b'python': 854, b'r': 1338, b'javascript': 1207, b'sql': 591}\n",
      "3816pping 1490 of 5306\n",
      "{b'mapreduce': 24, b'spark': 413, b'python': 859, b'r': 1343, b'javascript': 1212, b'sql': 594}\n",
      "3811pping 1495 of 5306\n",
      "{b'mapreduce': 24, b'spark': 415, b'python': 863, b'r': 1348, b'javascript': 1217, b'sql': 595}\n",
      "3806pping 1500 of 5306\n",
      "{b'mapreduce': 24, b'spark': 415, b'python': 865, b'r': 1353, b'javascript': 1220, b'sql': 597}\n",
      "3801pping 1505 of 5306\n",
      "{b'mapreduce': 24, b'spark': 417, b'python': 868, b'r': 1358, b'javascript': 1224, b'sql': 599}\n",
      "3796pping 1510 of 5306\n",
      "{b'mapreduce': 24, b'spark': 418, b'python': 871, b'r': 1363, b'javascript': 1229, b'sql': 600}\n",
      "HTTPError:http://www.indeed.com/rc/clk?jk=a6d9aa5d681afa5d\n",
      "HTTPError:http://www.indeed.com/rc/clk?jk=2ee24088e309cfba\n",
      "3791pping 1515 of 5306\n",
      "{b'mapreduce': 24, b'spark': 418, b'python': 874, b'r': 1366, b'javascript': 1232, b'sql': 603}\n",
      "URLError:http://www.indeed.com/rc/clk?jk=de0d418920f3632b\n",
      "3786pping 1520 of 5306\n",
      "{b'mapreduce': 25, b'spark': 418, b'python': 875, b'r': 1370, b'javascript': 1236, b'sql': 605}\n",
      "3781pping 1525 of 5306\n",
      "{b'mapreduce': 25, b'spark': 421, b'python': 879, b'r': 1375, b'javascript': 1241, b'sql': 608}\n",
      "3776pping 1530 of 5306\n",
      "{b'mapreduce': 25, b'spark': 422, b'python': 881, b'r': 1380, b'javascript': 1246, b'sql': 610}\n",
      "3771pping 1535 of 5306\n",
      "{b'mapreduce': 25, b'spark': 423, b'python': 884, b'r': 1385, b'javascript': 1250, b'sql': 612}\n",
      "3766pping 1540 of 5306\n",
      "{b'mapreduce': 26, b'spark': 427, b'python': 888, b'r': 1390, b'javascript': 1255, b'sql': 616}\n",
      "3761pping 1545 of 5306\n",
      "{b'mapreduce': 26, b'spark': 428, b'python': 891, b'r': 1395, b'javascript': 1260, b'sql': 616}\n"
     ]
    },
    {
     "name": "stdout",
     "output_type": "stream",
     "text": [
      "3756pping 1550 of 5306\n",
      "{b'mapreduce': 26, b'spark': 430, b'python': 894, b'r': 1400, b'javascript': 1264, b'sql': 618}\n",
      "Scrapping 1552 of 5306\r"
     ]
    },
    {
     "ename": "KeyboardInterrupt",
     "evalue": "",
     "output_type": "error",
     "traceback": [
      "\u001b[0;31m---------------------------------------------------------------------------\u001b[0m",
      "\u001b[0;31mKeyboardInterrupt\u001b[0m                         Traceback (most recent call last)",
      "\u001b[0;32m<ipython-input-294-4d0f38604610>\u001b[0m in \u001b[0;36m<module>\u001b[0;34m\u001b[0m\n\u001b[1;32m      7\u001b[0m \u001b[0;34m\u001b[0m\u001b[0m\n\u001b[1;32m      8\u001b[0m     \u001b[0;32mtry\u001b[0m\u001b[0;34m:\u001b[0m\u001b[0;34m\u001b[0m\u001b[0m\n\u001b[0;32m----> 9\u001b[0;31m         \u001b[0mhtml_page\u001b[0m \u001b[0;34m=\u001b[0m \u001b[0murlopen\u001b[0m\u001b[0;34m(\u001b[0m\u001b[0mlink\u001b[0m\u001b[0;34m)\u001b[0m\u001b[0;34m.\u001b[0m\u001b[0mread\u001b[0m\u001b[0;34m(\u001b[0m\u001b[0;34m)\u001b[0m\u001b[0;34m\u001b[0m\u001b[0m\n\u001b[0m\u001b[1;32m     10\u001b[0m     \u001b[0;32mexcept\u001b[0m \u001b[0mHTTPError\u001b[0m\u001b[0;34m:\u001b[0m\u001b[0;34m\u001b[0m\u001b[0m\n\u001b[1;32m     11\u001b[0m         \u001b[0mprint\u001b[0m \u001b[0;34m(\u001b[0m\u001b[0;34m\"HTTPError:\"\u001b[0m \u001b[0;34m+\u001b[0m \u001b[0mlink\u001b[0m\u001b[0;34m)\u001b[0m\u001b[0;34m\u001b[0m\u001b[0m\n",
      "\u001b[0;32m/usr/local/Cellar/python/3.7.0/Frameworks/Python.framework/Versions/3.7/lib/python3.7/urllib/request.py\u001b[0m in \u001b[0;36murlopen\u001b[0;34m(url, data, timeout, cafile, capath, cadefault, context)\u001b[0m\n\u001b[1;32m    220\u001b[0m     \u001b[0;32melse\u001b[0m\u001b[0;34m:\u001b[0m\u001b[0;34m\u001b[0m\u001b[0m\n\u001b[1;32m    221\u001b[0m         \u001b[0mopener\u001b[0m \u001b[0;34m=\u001b[0m \u001b[0m_opener\u001b[0m\u001b[0;34m\u001b[0m\u001b[0m\n\u001b[0;32m--> 222\u001b[0;31m     \u001b[0;32mreturn\u001b[0m \u001b[0mopener\u001b[0m\u001b[0;34m.\u001b[0m\u001b[0mopen\u001b[0m\u001b[0;34m(\u001b[0m\u001b[0murl\u001b[0m\u001b[0;34m,\u001b[0m \u001b[0mdata\u001b[0m\u001b[0;34m,\u001b[0m \u001b[0mtimeout\u001b[0m\u001b[0;34m)\u001b[0m\u001b[0;34m\u001b[0m\u001b[0m\n\u001b[0m\u001b[1;32m    223\u001b[0m \u001b[0;34m\u001b[0m\u001b[0m\n\u001b[1;32m    224\u001b[0m \u001b[0;32mdef\u001b[0m \u001b[0minstall_opener\u001b[0m\u001b[0;34m(\u001b[0m\u001b[0mopener\u001b[0m\u001b[0;34m)\u001b[0m\u001b[0;34m:\u001b[0m\u001b[0;34m\u001b[0m\u001b[0m\n",
      "\u001b[0;32m/usr/local/Cellar/python/3.7.0/Frameworks/Python.framework/Versions/3.7/lib/python3.7/urllib/request.py\u001b[0m in \u001b[0;36mopen\u001b[0;34m(self, fullurl, data, timeout)\u001b[0m\n\u001b[1;32m    529\u001b[0m         \u001b[0;32mfor\u001b[0m \u001b[0mprocessor\u001b[0m \u001b[0;32min\u001b[0m \u001b[0mself\u001b[0m\u001b[0;34m.\u001b[0m\u001b[0mprocess_response\u001b[0m\u001b[0;34m.\u001b[0m\u001b[0mget\u001b[0m\u001b[0;34m(\u001b[0m\u001b[0mprotocol\u001b[0m\u001b[0;34m,\u001b[0m \u001b[0;34m[\u001b[0m\u001b[0;34m]\u001b[0m\u001b[0;34m)\u001b[0m\u001b[0;34m:\u001b[0m\u001b[0;34m\u001b[0m\u001b[0m\n\u001b[1;32m    530\u001b[0m             \u001b[0mmeth\u001b[0m \u001b[0;34m=\u001b[0m \u001b[0mgetattr\u001b[0m\u001b[0;34m(\u001b[0m\u001b[0mprocessor\u001b[0m\u001b[0;34m,\u001b[0m \u001b[0mmeth_name\u001b[0m\u001b[0;34m)\u001b[0m\u001b[0;34m\u001b[0m\u001b[0m\n\u001b[0;32m--> 531\u001b[0;31m             \u001b[0mresponse\u001b[0m \u001b[0;34m=\u001b[0m \u001b[0mmeth\u001b[0m\u001b[0;34m(\u001b[0m\u001b[0mreq\u001b[0m\u001b[0;34m,\u001b[0m \u001b[0mresponse\u001b[0m\u001b[0;34m)\u001b[0m\u001b[0;34m\u001b[0m\u001b[0m\n\u001b[0m\u001b[1;32m    532\u001b[0m \u001b[0;34m\u001b[0m\u001b[0m\n\u001b[1;32m    533\u001b[0m         \u001b[0;32mreturn\u001b[0m \u001b[0mresponse\u001b[0m\u001b[0;34m\u001b[0m\u001b[0m\n",
      "\u001b[0;32m/usr/local/Cellar/python/3.7.0/Frameworks/Python.framework/Versions/3.7/lib/python3.7/urllib/request.py\u001b[0m in \u001b[0;36mhttp_response\u001b[0;34m(self, request, response)\u001b[0m\n\u001b[1;32m    639\u001b[0m         \u001b[0;32mif\u001b[0m \u001b[0;32mnot\u001b[0m \u001b[0;34m(\u001b[0m\u001b[0;36m200\u001b[0m \u001b[0;34m<=\u001b[0m \u001b[0mcode\u001b[0m \u001b[0;34m<\u001b[0m \u001b[0;36m300\u001b[0m\u001b[0;34m)\u001b[0m\u001b[0;34m:\u001b[0m\u001b[0;34m\u001b[0m\u001b[0m\n\u001b[1;32m    640\u001b[0m             response = self.parent.error(\n\u001b[0;32m--> 641\u001b[0;31m                 'http', request, response, code, msg, hdrs)\n\u001b[0m\u001b[1;32m    642\u001b[0m \u001b[0;34m\u001b[0m\u001b[0m\n\u001b[1;32m    643\u001b[0m         \u001b[0;32mreturn\u001b[0m \u001b[0mresponse\u001b[0m\u001b[0;34m\u001b[0m\u001b[0m\n",
      "\u001b[0;32m/usr/local/Cellar/python/3.7.0/Frameworks/Python.framework/Versions/3.7/lib/python3.7/urllib/request.py\u001b[0m in \u001b[0;36merror\u001b[0;34m(self, proto, *args)\u001b[0m\n\u001b[1;32m    561\u001b[0m             \u001b[0mhttp_err\u001b[0m \u001b[0;34m=\u001b[0m \u001b[0;36m0\u001b[0m\u001b[0;34m\u001b[0m\u001b[0m\n\u001b[1;32m    562\u001b[0m         \u001b[0margs\u001b[0m \u001b[0;34m=\u001b[0m \u001b[0;34m(\u001b[0m\u001b[0mdict\u001b[0m\u001b[0;34m,\u001b[0m \u001b[0mproto\u001b[0m\u001b[0;34m,\u001b[0m \u001b[0mmeth_name\u001b[0m\u001b[0;34m)\u001b[0m \u001b[0;34m+\u001b[0m \u001b[0margs\u001b[0m\u001b[0;34m\u001b[0m\u001b[0m\n\u001b[0;32m--> 563\u001b[0;31m         \u001b[0mresult\u001b[0m \u001b[0;34m=\u001b[0m \u001b[0mself\u001b[0m\u001b[0;34m.\u001b[0m\u001b[0m_call_chain\u001b[0m\u001b[0;34m(\u001b[0m\u001b[0;34m*\u001b[0m\u001b[0margs\u001b[0m\u001b[0;34m)\u001b[0m\u001b[0;34m\u001b[0m\u001b[0m\n\u001b[0m\u001b[1;32m    564\u001b[0m         \u001b[0;32mif\u001b[0m \u001b[0mresult\u001b[0m\u001b[0;34m:\u001b[0m\u001b[0;34m\u001b[0m\u001b[0m\n\u001b[1;32m    565\u001b[0m             \u001b[0;32mreturn\u001b[0m \u001b[0mresult\u001b[0m\u001b[0;34m\u001b[0m\u001b[0m\n",
      "\u001b[0;32m/usr/local/Cellar/python/3.7.0/Frameworks/Python.framework/Versions/3.7/lib/python3.7/urllib/request.py\u001b[0m in \u001b[0;36m_call_chain\u001b[0;34m(self, chain, kind, meth_name, *args)\u001b[0m\n\u001b[1;32m    501\u001b[0m         \u001b[0;32mfor\u001b[0m \u001b[0mhandler\u001b[0m \u001b[0;32min\u001b[0m \u001b[0mhandlers\u001b[0m\u001b[0;34m:\u001b[0m\u001b[0;34m\u001b[0m\u001b[0m\n\u001b[1;32m    502\u001b[0m             \u001b[0mfunc\u001b[0m \u001b[0;34m=\u001b[0m \u001b[0mgetattr\u001b[0m\u001b[0;34m(\u001b[0m\u001b[0mhandler\u001b[0m\u001b[0;34m,\u001b[0m \u001b[0mmeth_name\u001b[0m\u001b[0;34m)\u001b[0m\u001b[0;34m\u001b[0m\u001b[0m\n\u001b[0;32m--> 503\u001b[0;31m             \u001b[0mresult\u001b[0m \u001b[0;34m=\u001b[0m \u001b[0mfunc\u001b[0m\u001b[0;34m(\u001b[0m\u001b[0;34m*\u001b[0m\u001b[0margs\u001b[0m\u001b[0;34m)\u001b[0m\u001b[0;34m\u001b[0m\u001b[0m\n\u001b[0m\u001b[1;32m    504\u001b[0m             \u001b[0;32mif\u001b[0m \u001b[0mresult\u001b[0m \u001b[0;32mis\u001b[0m \u001b[0;32mnot\u001b[0m \u001b[0;32mNone\u001b[0m\u001b[0;34m:\u001b[0m\u001b[0;34m\u001b[0m\u001b[0m\n\u001b[1;32m    505\u001b[0m                 \u001b[0;32mreturn\u001b[0m \u001b[0mresult\u001b[0m\u001b[0;34m\u001b[0m\u001b[0m\n",
      "\u001b[0;32m/usr/local/Cellar/python/3.7.0/Frameworks/Python.framework/Versions/3.7/lib/python3.7/urllib/request.py\u001b[0m in \u001b[0;36mhttp_error_302\u001b[0;34m(self, req, fp, code, msg, headers)\u001b[0m\n\u001b[1;32m    753\u001b[0m         \u001b[0mfp\u001b[0m\u001b[0;34m.\u001b[0m\u001b[0mclose\u001b[0m\u001b[0;34m(\u001b[0m\u001b[0;34m)\u001b[0m\u001b[0;34m\u001b[0m\u001b[0m\n\u001b[1;32m    754\u001b[0m \u001b[0;34m\u001b[0m\u001b[0m\n\u001b[0;32m--> 755\u001b[0;31m         \u001b[0;32mreturn\u001b[0m \u001b[0mself\u001b[0m\u001b[0;34m.\u001b[0m\u001b[0mparent\u001b[0m\u001b[0;34m.\u001b[0m\u001b[0mopen\u001b[0m\u001b[0;34m(\u001b[0m\u001b[0mnew\u001b[0m\u001b[0;34m,\u001b[0m \u001b[0mtimeout\u001b[0m\u001b[0;34m=\u001b[0m\u001b[0mreq\u001b[0m\u001b[0;34m.\u001b[0m\u001b[0mtimeout\u001b[0m\u001b[0;34m)\u001b[0m\u001b[0;34m\u001b[0m\u001b[0m\n\u001b[0m\u001b[1;32m    756\u001b[0m \u001b[0;34m\u001b[0m\u001b[0m\n\u001b[1;32m    757\u001b[0m     \u001b[0mhttp_error_301\u001b[0m \u001b[0;34m=\u001b[0m \u001b[0mhttp_error_303\u001b[0m \u001b[0;34m=\u001b[0m \u001b[0mhttp_error_307\u001b[0m \u001b[0;34m=\u001b[0m \u001b[0mhttp_error_302\u001b[0m\u001b[0;34m\u001b[0m\u001b[0m\n",
      "\u001b[0;32m/usr/local/Cellar/python/3.7.0/Frameworks/Python.framework/Versions/3.7/lib/python3.7/urllib/request.py\u001b[0m in \u001b[0;36mopen\u001b[0;34m(self, fullurl, data, timeout)\u001b[0m\n\u001b[1;32m    523\u001b[0m             \u001b[0mreq\u001b[0m \u001b[0;34m=\u001b[0m \u001b[0mmeth\u001b[0m\u001b[0;34m(\u001b[0m\u001b[0mreq\u001b[0m\u001b[0;34m)\u001b[0m\u001b[0;34m\u001b[0m\u001b[0m\n\u001b[1;32m    524\u001b[0m \u001b[0;34m\u001b[0m\u001b[0m\n\u001b[0;32m--> 525\u001b[0;31m         \u001b[0mresponse\u001b[0m \u001b[0;34m=\u001b[0m \u001b[0mself\u001b[0m\u001b[0;34m.\u001b[0m\u001b[0m_open\u001b[0m\u001b[0;34m(\u001b[0m\u001b[0mreq\u001b[0m\u001b[0;34m,\u001b[0m \u001b[0mdata\u001b[0m\u001b[0;34m)\u001b[0m\u001b[0;34m\u001b[0m\u001b[0m\n\u001b[0m\u001b[1;32m    526\u001b[0m \u001b[0;34m\u001b[0m\u001b[0m\n\u001b[1;32m    527\u001b[0m         \u001b[0;31m# post-process response\u001b[0m\u001b[0;34m\u001b[0m\u001b[0;34m\u001b[0m\u001b[0m\n",
      "\u001b[0;32m/usr/local/Cellar/python/3.7.0/Frameworks/Python.framework/Versions/3.7/lib/python3.7/urllib/request.py\u001b[0m in \u001b[0;36m_open\u001b[0;34m(self, req, data)\u001b[0m\n\u001b[1;32m    541\u001b[0m         \u001b[0mprotocol\u001b[0m \u001b[0;34m=\u001b[0m \u001b[0mreq\u001b[0m\u001b[0;34m.\u001b[0m\u001b[0mtype\u001b[0m\u001b[0;34m\u001b[0m\u001b[0m\n\u001b[1;32m    542\u001b[0m         result = self._call_chain(self.handle_open, protocol, protocol +\n\u001b[0;32m--> 543\u001b[0;31m                                   '_open', req)\n\u001b[0m\u001b[1;32m    544\u001b[0m         \u001b[0;32mif\u001b[0m \u001b[0mresult\u001b[0m\u001b[0;34m:\u001b[0m\u001b[0;34m\u001b[0m\u001b[0m\n\u001b[1;32m    545\u001b[0m             \u001b[0;32mreturn\u001b[0m \u001b[0mresult\u001b[0m\u001b[0;34m\u001b[0m\u001b[0m\n",
      "\u001b[0;32m/usr/local/Cellar/python/3.7.0/Frameworks/Python.framework/Versions/3.7/lib/python3.7/urllib/request.py\u001b[0m in \u001b[0;36m_call_chain\u001b[0;34m(self, chain, kind, meth_name, *args)\u001b[0m\n\u001b[1;32m    501\u001b[0m         \u001b[0;32mfor\u001b[0m \u001b[0mhandler\u001b[0m \u001b[0;32min\u001b[0m \u001b[0mhandlers\u001b[0m\u001b[0;34m:\u001b[0m\u001b[0;34m\u001b[0m\u001b[0m\n\u001b[1;32m    502\u001b[0m             \u001b[0mfunc\u001b[0m \u001b[0;34m=\u001b[0m \u001b[0mgetattr\u001b[0m\u001b[0;34m(\u001b[0m\u001b[0mhandler\u001b[0m\u001b[0;34m,\u001b[0m \u001b[0mmeth_name\u001b[0m\u001b[0;34m)\u001b[0m\u001b[0;34m\u001b[0m\u001b[0m\n\u001b[0;32m--> 503\u001b[0;31m             \u001b[0mresult\u001b[0m \u001b[0;34m=\u001b[0m \u001b[0mfunc\u001b[0m\u001b[0;34m(\u001b[0m\u001b[0;34m*\u001b[0m\u001b[0margs\u001b[0m\u001b[0;34m)\u001b[0m\u001b[0;34m\u001b[0m\u001b[0m\n\u001b[0m\u001b[1;32m    504\u001b[0m             \u001b[0;32mif\u001b[0m \u001b[0mresult\u001b[0m \u001b[0;32mis\u001b[0m \u001b[0;32mnot\u001b[0m \u001b[0;32mNone\u001b[0m\u001b[0;34m:\u001b[0m\u001b[0;34m\u001b[0m\u001b[0m\n\u001b[1;32m    505\u001b[0m                 \u001b[0;32mreturn\u001b[0m \u001b[0mresult\u001b[0m\u001b[0;34m\u001b[0m\u001b[0m\n",
      "\u001b[0;32m/usr/local/Cellar/python/3.7.0/Frameworks/Python.framework/Versions/3.7/lib/python3.7/urllib/request.py\u001b[0m in \u001b[0;36mhttps_open\u001b[0;34m(self, req)\u001b[0m\n\u001b[1;32m   1358\u001b[0m         \u001b[0;32mdef\u001b[0m \u001b[0mhttps_open\u001b[0m\u001b[0;34m(\u001b[0m\u001b[0mself\u001b[0m\u001b[0;34m,\u001b[0m \u001b[0mreq\u001b[0m\u001b[0;34m)\u001b[0m\u001b[0;34m:\u001b[0m\u001b[0;34m\u001b[0m\u001b[0m\n\u001b[1;32m   1359\u001b[0m             return self.do_open(http.client.HTTPSConnection, req,\n\u001b[0;32m-> 1360\u001b[0;31m                 context=self._context, check_hostname=self._check_hostname)\n\u001b[0m\u001b[1;32m   1361\u001b[0m \u001b[0;34m\u001b[0m\u001b[0m\n\u001b[1;32m   1362\u001b[0m         \u001b[0mhttps_request\u001b[0m \u001b[0;34m=\u001b[0m \u001b[0mAbstractHTTPHandler\u001b[0m\u001b[0;34m.\u001b[0m\u001b[0mdo_request_\u001b[0m\u001b[0;34m\u001b[0m\u001b[0m\n",
      "\u001b[0;32m/usr/local/Cellar/python/3.7.0/Frameworks/Python.framework/Versions/3.7/lib/python3.7/urllib/request.py\u001b[0m in \u001b[0;36mdo_open\u001b[0;34m(self, http_class, req, **http_conn_args)\u001b[0m\n\u001b[1;32m   1318\u001b[0m             \u001b[0;32mexcept\u001b[0m \u001b[0mOSError\u001b[0m \u001b[0;32mas\u001b[0m \u001b[0merr\u001b[0m\u001b[0;34m:\u001b[0m \u001b[0;31m# timeout error\u001b[0m\u001b[0;34m\u001b[0m\u001b[0m\n\u001b[1;32m   1319\u001b[0m                 \u001b[0;32mraise\u001b[0m \u001b[0mURLError\u001b[0m\u001b[0;34m(\u001b[0m\u001b[0merr\u001b[0m\u001b[0;34m)\u001b[0m\u001b[0;34m\u001b[0m\u001b[0m\n\u001b[0;32m-> 1320\u001b[0;31m             \u001b[0mr\u001b[0m \u001b[0;34m=\u001b[0m \u001b[0mh\u001b[0m\u001b[0;34m.\u001b[0m\u001b[0mgetresponse\u001b[0m\u001b[0;34m(\u001b[0m\u001b[0;34m)\u001b[0m\u001b[0;34m\u001b[0m\u001b[0m\n\u001b[0m\u001b[1;32m   1321\u001b[0m         \u001b[0;32mexcept\u001b[0m\u001b[0;34m:\u001b[0m\u001b[0;34m\u001b[0m\u001b[0m\n\u001b[1;32m   1322\u001b[0m             \u001b[0mh\u001b[0m\u001b[0;34m.\u001b[0m\u001b[0mclose\u001b[0m\u001b[0;34m(\u001b[0m\u001b[0;34m)\u001b[0m\u001b[0;34m\u001b[0m\u001b[0m\n",
      "\u001b[0;32m/usr/local/Cellar/python/3.7.0/Frameworks/Python.framework/Versions/3.7/lib/python3.7/http/client.py\u001b[0m in \u001b[0;36mgetresponse\u001b[0;34m(self)\u001b[0m\n\u001b[1;32m   1319\u001b[0m         \u001b[0;32mtry\u001b[0m\u001b[0;34m:\u001b[0m\u001b[0;34m\u001b[0m\u001b[0m\n\u001b[1;32m   1320\u001b[0m             \u001b[0;32mtry\u001b[0m\u001b[0;34m:\u001b[0m\u001b[0;34m\u001b[0m\u001b[0m\n\u001b[0;32m-> 1321\u001b[0;31m                 \u001b[0mresponse\u001b[0m\u001b[0;34m.\u001b[0m\u001b[0mbegin\u001b[0m\u001b[0;34m(\u001b[0m\u001b[0;34m)\u001b[0m\u001b[0;34m\u001b[0m\u001b[0m\n\u001b[0m\u001b[1;32m   1322\u001b[0m             \u001b[0;32mexcept\u001b[0m \u001b[0mConnectionError\u001b[0m\u001b[0;34m:\u001b[0m\u001b[0;34m\u001b[0m\u001b[0m\n\u001b[1;32m   1323\u001b[0m                 \u001b[0mself\u001b[0m\u001b[0;34m.\u001b[0m\u001b[0mclose\u001b[0m\u001b[0;34m(\u001b[0m\u001b[0;34m)\u001b[0m\u001b[0;34m\u001b[0m\u001b[0m\n",
      "\u001b[0;32m/usr/local/Cellar/python/3.7.0/Frameworks/Python.framework/Versions/3.7/lib/python3.7/http/client.py\u001b[0m in \u001b[0;36mbegin\u001b[0;34m(self)\u001b[0m\n\u001b[1;32m    294\u001b[0m         \u001b[0;31m# read until we get a non-100 response\u001b[0m\u001b[0;34m\u001b[0m\u001b[0;34m\u001b[0m\u001b[0m\n\u001b[1;32m    295\u001b[0m         \u001b[0;32mwhile\u001b[0m \u001b[0;32mTrue\u001b[0m\u001b[0;34m:\u001b[0m\u001b[0;34m\u001b[0m\u001b[0m\n\u001b[0;32m--> 296\u001b[0;31m             \u001b[0mversion\u001b[0m\u001b[0;34m,\u001b[0m \u001b[0mstatus\u001b[0m\u001b[0;34m,\u001b[0m \u001b[0mreason\u001b[0m \u001b[0;34m=\u001b[0m \u001b[0mself\u001b[0m\u001b[0;34m.\u001b[0m\u001b[0m_read_status\u001b[0m\u001b[0;34m(\u001b[0m\u001b[0;34m)\u001b[0m\u001b[0;34m\u001b[0m\u001b[0m\n\u001b[0m\u001b[1;32m    297\u001b[0m             \u001b[0;32mif\u001b[0m \u001b[0mstatus\u001b[0m \u001b[0;34m!=\u001b[0m \u001b[0mCONTINUE\u001b[0m\u001b[0;34m:\u001b[0m\u001b[0;34m\u001b[0m\u001b[0m\n\u001b[1;32m    298\u001b[0m                 \u001b[0;32mbreak\u001b[0m\u001b[0;34m\u001b[0m\u001b[0m\n",
      "\u001b[0;32m/usr/local/Cellar/python/3.7.0/Frameworks/Python.framework/Versions/3.7/lib/python3.7/http/client.py\u001b[0m in \u001b[0;36m_read_status\u001b[0;34m(self)\u001b[0m\n\u001b[1;32m    255\u001b[0m \u001b[0;34m\u001b[0m\u001b[0m\n\u001b[1;32m    256\u001b[0m     \u001b[0;32mdef\u001b[0m \u001b[0m_read_status\u001b[0m\u001b[0;34m(\u001b[0m\u001b[0mself\u001b[0m\u001b[0;34m)\u001b[0m\u001b[0;34m:\u001b[0m\u001b[0;34m\u001b[0m\u001b[0m\n\u001b[0;32m--> 257\u001b[0;31m         \u001b[0mline\u001b[0m \u001b[0;34m=\u001b[0m \u001b[0mstr\u001b[0m\u001b[0;34m(\u001b[0m\u001b[0mself\u001b[0m\u001b[0;34m.\u001b[0m\u001b[0mfp\u001b[0m\u001b[0;34m.\u001b[0m\u001b[0mreadline\u001b[0m\u001b[0;34m(\u001b[0m\u001b[0m_MAXLINE\u001b[0m \u001b[0;34m+\u001b[0m \u001b[0;36m1\u001b[0m\u001b[0;34m)\u001b[0m\u001b[0;34m,\u001b[0m \u001b[0;34m\"iso-8859-1\"\u001b[0m\u001b[0;34m)\u001b[0m\u001b[0;34m\u001b[0m\u001b[0m\n\u001b[0m\u001b[1;32m    258\u001b[0m         \u001b[0;32mif\u001b[0m \u001b[0mlen\u001b[0m\u001b[0;34m(\u001b[0m\u001b[0mline\u001b[0m\u001b[0;34m)\u001b[0m \u001b[0;34m>\u001b[0m \u001b[0m_MAXLINE\u001b[0m\u001b[0;34m:\u001b[0m\u001b[0;34m\u001b[0m\u001b[0m\n\u001b[1;32m    259\u001b[0m             \u001b[0;32mraise\u001b[0m \u001b[0mLineTooLong\u001b[0m\u001b[0;34m(\u001b[0m\u001b[0;34m\"status line\"\u001b[0m\u001b[0;34m)\u001b[0m\u001b[0;34m\u001b[0m\u001b[0m\n",
      "\u001b[0;32m/usr/local/Cellar/python/3.7.0/Frameworks/Python.framework/Versions/3.7/lib/python3.7/socket.py\u001b[0m in \u001b[0;36mreadinto\u001b[0;34m(self, b)\u001b[0m\n\u001b[1;32m    587\u001b[0m         \u001b[0;32mwhile\u001b[0m \u001b[0;32mTrue\u001b[0m\u001b[0;34m:\u001b[0m\u001b[0;34m\u001b[0m\u001b[0m\n\u001b[1;32m    588\u001b[0m             \u001b[0;32mtry\u001b[0m\u001b[0;34m:\u001b[0m\u001b[0;34m\u001b[0m\u001b[0m\n\u001b[0;32m--> 589\u001b[0;31m                 \u001b[0;32mreturn\u001b[0m \u001b[0mself\u001b[0m\u001b[0;34m.\u001b[0m\u001b[0m_sock\u001b[0m\u001b[0;34m.\u001b[0m\u001b[0mrecv_into\u001b[0m\u001b[0;34m(\u001b[0m\u001b[0mb\u001b[0m\u001b[0;34m)\u001b[0m\u001b[0;34m\u001b[0m\u001b[0m\n\u001b[0m\u001b[1;32m    590\u001b[0m             \u001b[0;32mexcept\u001b[0m \u001b[0mtimeout\u001b[0m\u001b[0;34m:\u001b[0m\u001b[0;34m\u001b[0m\u001b[0m\n\u001b[1;32m    591\u001b[0m                 \u001b[0mself\u001b[0m\u001b[0;34m.\u001b[0m\u001b[0m_timeout_occurred\u001b[0m \u001b[0;34m=\u001b[0m \u001b[0;32mTrue\u001b[0m\u001b[0;34m\u001b[0m\u001b[0m\n",
      "\u001b[0;32m/usr/local/Cellar/python/3.7.0/Frameworks/Python.framework/Versions/3.7/lib/python3.7/ssl.py\u001b[0m in \u001b[0;36mrecv_into\u001b[0;34m(self, buffer, nbytes, flags)\u001b[0m\n\u001b[1;32m   1047\u001b[0m                   \u001b[0;34m\"non-zero flags not allowed in calls to recv_into() on %s\"\u001b[0m \u001b[0;34m%\u001b[0m\u001b[0;34m\u001b[0m\u001b[0m\n\u001b[1;32m   1048\u001b[0m                   self.__class__)\n\u001b[0;32m-> 1049\u001b[0;31m             \u001b[0;32mreturn\u001b[0m \u001b[0mself\u001b[0m\u001b[0;34m.\u001b[0m\u001b[0mread\u001b[0m\u001b[0;34m(\u001b[0m\u001b[0mnbytes\u001b[0m\u001b[0;34m,\u001b[0m \u001b[0mbuffer\u001b[0m\u001b[0;34m)\u001b[0m\u001b[0;34m\u001b[0m\u001b[0m\n\u001b[0m\u001b[1;32m   1050\u001b[0m         \u001b[0;32melse\u001b[0m\u001b[0;34m:\u001b[0m\u001b[0;34m\u001b[0m\u001b[0m\n\u001b[1;32m   1051\u001b[0m             \u001b[0;32mreturn\u001b[0m \u001b[0msuper\u001b[0m\u001b[0;34m(\u001b[0m\u001b[0;34m)\u001b[0m\u001b[0;34m.\u001b[0m\u001b[0mrecv_into\u001b[0m\u001b[0;34m(\u001b[0m\u001b[0mbuffer\u001b[0m\u001b[0;34m,\u001b[0m \u001b[0mnbytes\u001b[0m\u001b[0;34m,\u001b[0m \u001b[0mflags\u001b[0m\u001b[0;34m)\u001b[0m\u001b[0;34m\u001b[0m\u001b[0m\n",
      "\u001b[0;32m/usr/local/Cellar/python/3.7.0/Frameworks/Python.framework/Versions/3.7/lib/python3.7/ssl.py\u001b[0m in \u001b[0;36mread\u001b[0;34m(self, len, buffer)\u001b[0m\n\u001b[1;32m    906\u001b[0m         \u001b[0;32mtry\u001b[0m\u001b[0;34m:\u001b[0m\u001b[0;34m\u001b[0m\u001b[0m\n\u001b[1;32m    907\u001b[0m             \u001b[0;32mif\u001b[0m \u001b[0mbuffer\u001b[0m \u001b[0;32mis\u001b[0m \u001b[0;32mnot\u001b[0m \u001b[0;32mNone\u001b[0m\u001b[0;34m:\u001b[0m\u001b[0;34m\u001b[0m\u001b[0m\n\u001b[0;32m--> 908\u001b[0;31m                 \u001b[0;32mreturn\u001b[0m \u001b[0mself\u001b[0m\u001b[0;34m.\u001b[0m\u001b[0m_sslobj\u001b[0m\u001b[0;34m.\u001b[0m\u001b[0mread\u001b[0m\u001b[0;34m(\u001b[0m\u001b[0mlen\u001b[0m\u001b[0;34m,\u001b[0m \u001b[0mbuffer\u001b[0m\u001b[0;34m)\u001b[0m\u001b[0;34m\u001b[0m\u001b[0m\n\u001b[0m\u001b[1;32m    909\u001b[0m             \u001b[0;32melse\u001b[0m\u001b[0;34m:\u001b[0m\u001b[0;34m\u001b[0m\u001b[0m\n\u001b[1;32m    910\u001b[0m                 \u001b[0;32mreturn\u001b[0m \u001b[0mself\u001b[0m\u001b[0;34m.\u001b[0m\u001b[0m_sslobj\u001b[0m\u001b[0;34m.\u001b[0m\u001b[0mread\u001b[0m\u001b[0;34m(\u001b[0m\u001b[0mlen\u001b[0m\u001b[0;34m)\u001b[0m\u001b[0;34m\u001b[0m\u001b[0m\n",
      "\u001b[0;31mKeyboardInterrupt\u001b[0m: "
     ]
    }
   ],
   "source": [
    "counter = 0\n",
    "go_limit=len(job_links_pickled)\n",
    "for elink in job_links_pickled[index:]:\n",
    "    counter +=1  \n",
    "    link = elink.decode()\n",
    "    print('Scrapping '+str(counter)+' of '+str(go_limit), end='\\r')\n",
    "    \n",
    "    try:\n",
    "        html_page = urlopen(link).read()\n",
    "    except HTTPError:\n",
    "        print (\"HTTPError:\" + link)\n",
    "        continue\n",
    "    except URLError:\n",
    "        print (\"URLError:\" + link)\n",
    "        continue\n",
    "    except socket.error as error:\n",
    "        print (\"Connection closed\")\n",
    "        continue\n",
    "\n",
    "    html_text = re.sub(b\"[^a-z.+3]\",b\" \", html_page.lower()) # replace all but the listed characters\n",
    "        \n",
    "    for key in skill_set.keys():\n",
    "        if key in html_text:  \n",
    "            skill_set[key] +=1\n",
    "            \n",
    "    if counter%5 == 0:\n",
    "        print (len(job_links_pickled) - counter - index)\n",
    "        print (skill_set)\n",
    "        with open('data/scraped_links_restart.pkl','wb') as f:\n",
    "            _pickle.dump((skill_set, counter + index - 1),f,1)\n",
    "    \n",
    "    \n"
   ]
  },
  {
   "cell_type": "code",
   "execution_count": null,
   "metadata": {},
   "outputs": [],
   "source": []
  },
  {
   "cell_type": "code",
   "execution_count": 295,
   "metadata": {
    "slideshow": {
     "slide_type": "slide"
    }
   },
   "outputs": [
    {
     "name": "stdout",
     "output_type": "stream",
     "text": [
      "{b'mapreduce': 26, b'spark': 430, b'python': 895, b'r': 1401, b'javascript': 1265, b'sql': 618}\n"
     ]
    }
   ],
   "source": [
    "print(skill_set)"
   ]
  },
  {
   "cell_type": "code",
   "execution_count": 297,
   "metadata": {
    "slideshow": {
     "slide_type": "slide"
    }
   },
   "outputs": [
    {
     "data": {
      "image/png": "[encoded data removed]",
      "text/plain": [
       "<Figure size 432x288 with 1 Axes>"
      ]
     },
     "metadata": {
      "needs_background": "light"
     },
     "output_type": "display_data"
    }
   ],
   "source": [
    "pseries = pd.Series(skill_set)\n",
    "pseries.sort_values(ascending=False)\n",
    "\n",
    "pseries.plot(kind = 'bar')\n",
    "## set the title to Score Comparison\n",
    "plt.title('Data Science Skills')\n",
    "## set the x label\n",
    "plt.xlabel('Skills')\n",
    "## set the y label\n",
    "plt.ylabel('Count')\n",
    "## show the plot\n",
    "plt.show()"
   ]
  },
  {
   "cell_type": "markdown",
   "metadata": {
    "slideshow": {
     "slide_type": "slide"
    }
   },
   "source": [
    "Another Example\n",
    "================\n",
    "\n",
    "Designed by Katharine Jarmul\n",
    "----------------------------\n",
    "\n",
    "https://github.com/kjam/python-web-scraping-tutorial\n",
    "\n",
    "\n"
   ]
  },
  {
   "cell_type": "markdown",
   "metadata": {
    "slideshow": {
     "slide_type": "slide"
    }
   },
   "source": [
    "Scraping Happy Hours\n",
    "====================\n",
    "\n",
    "Scrape the happy hour list of LA for personal preferences\n",
    "\n",
    "http://www.downtownla.com/3_10_happyHours.asp?action=ALL\n",
    "\n",
    "This example is part of her talk about data scraping at PyCon2014. She is a really good speaker and I enjoyed watching her talk. Check it out: http://www.youtube.com/watch?v=p1iX0uxM1w8"
   ]
  },
  {
   "cell_type": "code",
   "execution_count": 300,
   "metadata": {
    "slideshow": {
     "slide_type": "slide"
    }
   },
   "outputs": [
    {
     "ename": "HTTPError",
     "evalue": "HTTP Error 404: Not Found",
     "output_type": "error",
     "traceback": [
      "\u001b[0;31m---------------------------------------------------------------------------\u001b[0m",
      "\u001b[0;31mHTTPError\u001b[0m                                 Traceback (most recent call last)",
      "\u001b[0;32m<ipython-input-300-2d8beca89a6f>\u001b[0m in \u001b[0;36m<module>\u001b[0;34m\u001b[0m\n\u001b[1;32m      4\u001b[0m \u001b[0;31m# First, I'm going to identify the areas of the page I want to look at\u001b[0m\u001b[0;34m\u001b[0m\u001b[0;34m\u001b[0m\u001b[0m\n\u001b[1;32m      5\u001b[0m \u001b[0murl\u001b[0m \u001b[0;34m=\u001b[0m \u001b[0;34m'http://www.downtownla.com/3_10_happyHours.asp?action=ALL'\u001b[0m\u001b[0;34m\u001b[0m\u001b[0m\n\u001b[0;32m----> 6\u001b[0;31m \u001b[0msource\u001b[0m \u001b[0;34m=\u001b[0m \u001b[0murlopen\u001b[0m\u001b[0;34m(\u001b[0m\u001b[0murl\u001b[0m\u001b[0;34m)\u001b[0m\u001b[0;34m.\u001b[0m\u001b[0mread\u001b[0m\u001b[0;34m(\u001b[0m\u001b[0;34m)\u001b[0m\u001b[0;34m\u001b[0m\u001b[0m\n\u001b[0m\u001b[1;32m      7\u001b[0m \u001b[0mtables\u001b[0m \u001b[0;34m=\u001b[0m \u001b[0mbs4\u001b[0m\u001b[0;34m.\u001b[0m\u001b[0mBeautifulSoup\u001b[0m\u001b[0;34m(\u001b[0m\u001b[0msource\u001b[0m\u001b[0;34m)\u001b[0m\u001b[0;34m\u001b[0m\u001b[0m\n",
      "\u001b[0;32m/usr/local/Cellar/python/3.7.0/Frameworks/Python.framework/Versions/3.7/lib/python3.7/urllib/request.py\u001b[0m in \u001b[0;36murlopen\u001b[0;34m(url, data, timeout, cafile, capath, cadefault, context)\u001b[0m\n\u001b[1;32m    220\u001b[0m     \u001b[0;32melse\u001b[0m\u001b[0;34m:\u001b[0m\u001b[0;34m\u001b[0m\u001b[0m\n\u001b[1;32m    221\u001b[0m         \u001b[0mopener\u001b[0m \u001b[0;34m=\u001b[0m \u001b[0m_opener\u001b[0m\u001b[0;34m\u001b[0m\u001b[0m\n\u001b[0;32m--> 222\u001b[0;31m     \u001b[0;32mreturn\u001b[0m \u001b[0mopener\u001b[0m\u001b[0;34m.\u001b[0m\u001b[0mopen\u001b[0m\u001b[0;34m(\u001b[0m\u001b[0murl\u001b[0m\u001b[0;34m,\u001b[0m \u001b[0mdata\u001b[0m\u001b[0;34m,\u001b[0m \u001b[0mtimeout\u001b[0m\u001b[0;34m)\u001b[0m\u001b[0;34m\u001b[0m\u001b[0m\n\u001b[0m\u001b[1;32m    223\u001b[0m \u001b[0;34m\u001b[0m\u001b[0m\n\u001b[1;32m    224\u001b[0m \u001b[0;32mdef\u001b[0m \u001b[0minstall_opener\u001b[0m\u001b[0;34m(\u001b[0m\u001b[0mopener\u001b[0m\u001b[0;34m)\u001b[0m\u001b[0;34m:\u001b[0m\u001b[0;34m\u001b[0m\u001b[0m\n",
      "\u001b[0;32m/usr/local/Cellar/python/3.7.0/Frameworks/Python.framework/Versions/3.7/lib/python3.7/urllib/request.py\u001b[0m in \u001b[0;36mopen\u001b[0;34m(self, fullurl, data, timeout)\u001b[0m\n\u001b[1;32m    529\u001b[0m         \u001b[0;32mfor\u001b[0m \u001b[0mprocessor\u001b[0m \u001b[0;32min\u001b[0m \u001b[0mself\u001b[0m\u001b[0;34m.\u001b[0m\u001b[0mprocess_response\u001b[0m\u001b[0;34m.\u001b[0m\u001b[0mget\u001b[0m\u001b[0;34m(\u001b[0m\u001b[0mprotocol\u001b[0m\u001b[0;34m,\u001b[0m \u001b[0;34m[\u001b[0m\u001b[0;34m]\u001b[0m\u001b[0;34m)\u001b[0m\u001b[0;34m:\u001b[0m\u001b[0;34m\u001b[0m\u001b[0m\n\u001b[1;32m    530\u001b[0m             \u001b[0mmeth\u001b[0m \u001b[0;34m=\u001b[0m \u001b[0mgetattr\u001b[0m\u001b[0;34m(\u001b[0m\u001b[0mprocessor\u001b[0m\u001b[0;34m,\u001b[0m \u001b[0mmeth_name\u001b[0m\u001b[0;34m)\u001b[0m\u001b[0;34m\u001b[0m\u001b[0m\n\u001b[0;32m--> 531\u001b[0;31m             \u001b[0mresponse\u001b[0m \u001b[0;34m=\u001b[0m \u001b[0mmeth\u001b[0m\u001b[0;34m(\u001b[0m\u001b[0mreq\u001b[0m\u001b[0;34m,\u001b[0m \u001b[0mresponse\u001b[0m\u001b[0;34m)\u001b[0m\u001b[0;34m\u001b[0m\u001b[0m\n\u001b[0m\u001b[1;32m    532\u001b[0m \u001b[0;34m\u001b[0m\u001b[0m\n\u001b[1;32m    533\u001b[0m         \u001b[0;32mreturn\u001b[0m \u001b[0mresponse\u001b[0m\u001b[0;34m\u001b[0m\u001b[0m\n",
      "\u001b[0;32m/usr/local/Cellar/python/3.7.0/Frameworks/Python.framework/Versions/3.7/lib/python3.7/urllib/request.py\u001b[0m in \u001b[0;36mhttp_response\u001b[0;34m(self, request, response)\u001b[0m\n\u001b[1;32m    639\u001b[0m         \u001b[0;32mif\u001b[0m \u001b[0;32mnot\u001b[0m \u001b[0;34m(\u001b[0m\u001b[0;36m200\u001b[0m \u001b[0;34m<=\u001b[0m \u001b[0mcode\u001b[0m \u001b[0;34m<\u001b[0m \u001b[0;36m300\u001b[0m\u001b[0;34m)\u001b[0m\u001b[0;34m:\u001b[0m\u001b[0;34m\u001b[0m\u001b[0m\n\u001b[1;32m    640\u001b[0m             response = self.parent.error(\n\u001b[0;32m--> 641\u001b[0;31m                 'http', request, response, code, msg, hdrs)\n\u001b[0m\u001b[1;32m    642\u001b[0m \u001b[0;34m\u001b[0m\u001b[0m\n\u001b[1;32m    643\u001b[0m         \u001b[0;32mreturn\u001b[0m \u001b[0mresponse\u001b[0m\u001b[0;34m\u001b[0m\u001b[0m\n",
      "\u001b[0;32m/usr/local/Cellar/python/3.7.0/Frameworks/Python.framework/Versions/3.7/lib/python3.7/urllib/request.py\u001b[0m in \u001b[0;36merror\u001b[0;34m(self, proto, *args)\u001b[0m\n\u001b[1;32m    561\u001b[0m             \u001b[0mhttp_err\u001b[0m \u001b[0;34m=\u001b[0m \u001b[0;36m0\u001b[0m\u001b[0;34m\u001b[0m\u001b[0m\n\u001b[1;32m    562\u001b[0m         \u001b[0margs\u001b[0m \u001b[0;34m=\u001b[0m \u001b[0;34m(\u001b[0m\u001b[0mdict\u001b[0m\u001b[0;34m,\u001b[0m \u001b[0mproto\u001b[0m\u001b[0;34m,\u001b[0m \u001b[0mmeth_name\u001b[0m\u001b[0;34m)\u001b[0m \u001b[0;34m+\u001b[0m \u001b[0margs\u001b[0m\u001b[0;34m\u001b[0m\u001b[0m\n\u001b[0;32m--> 563\u001b[0;31m         \u001b[0mresult\u001b[0m \u001b[0;34m=\u001b[0m \u001b[0mself\u001b[0m\u001b[0;34m.\u001b[0m\u001b[0m_call_chain\u001b[0m\u001b[0;34m(\u001b[0m\u001b[0;34m*\u001b[0m\u001b[0margs\u001b[0m\u001b[0;34m)\u001b[0m\u001b[0;34m\u001b[0m\u001b[0m\n\u001b[0m\u001b[1;32m    564\u001b[0m         \u001b[0;32mif\u001b[0m \u001b[0mresult\u001b[0m\u001b[0;34m:\u001b[0m\u001b[0;34m\u001b[0m\u001b[0m\n\u001b[1;32m    565\u001b[0m             \u001b[0;32mreturn\u001b[0m \u001b[0mresult\u001b[0m\u001b[0;34m\u001b[0m\u001b[0m\n",
      "\u001b[0;32m/usr/local/Cellar/python/3.7.0/Frameworks/Python.framework/Versions/3.7/lib/python3.7/urllib/request.py\u001b[0m in \u001b[0;36m_call_chain\u001b[0;34m(self, chain, kind, meth_name, *args)\u001b[0m\n\u001b[1;32m    501\u001b[0m         \u001b[0;32mfor\u001b[0m \u001b[0mhandler\u001b[0m \u001b[0;32min\u001b[0m \u001b[0mhandlers\u001b[0m\u001b[0;34m:\u001b[0m\u001b[0;34m\u001b[0m\u001b[0m\n\u001b[1;32m    502\u001b[0m             \u001b[0mfunc\u001b[0m \u001b[0;34m=\u001b[0m \u001b[0mgetattr\u001b[0m\u001b[0;34m(\u001b[0m\u001b[0mhandler\u001b[0m\u001b[0;34m,\u001b[0m \u001b[0mmeth_name\u001b[0m\u001b[0;34m)\u001b[0m\u001b[0;34m\u001b[0m\u001b[0m\n\u001b[0;32m--> 503\u001b[0;31m             \u001b[0mresult\u001b[0m \u001b[0;34m=\u001b[0m \u001b[0mfunc\u001b[0m\u001b[0;34m(\u001b[0m\u001b[0;34m*\u001b[0m\u001b[0margs\u001b[0m\u001b[0;34m)\u001b[0m\u001b[0;34m\u001b[0m\u001b[0m\n\u001b[0m\u001b[1;32m    504\u001b[0m             \u001b[0;32mif\u001b[0m \u001b[0mresult\u001b[0m \u001b[0;32mis\u001b[0m \u001b[0;32mnot\u001b[0m \u001b[0;32mNone\u001b[0m\u001b[0;34m:\u001b[0m\u001b[0;34m\u001b[0m\u001b[0m\n\u001b[1;32m    505\u001b[0m                 \u001b[0;32mreturn\u001b[0m \u001b[0mresult\u001b[0m\u001b[0;34m\u001b[0m\u001b[0m\n",
      "\u001b[0;32m/usr/local/Cellar/python/3.7.0/Frameworks/Python.framework/Versions/3.7/lib/python3.7/urllib/request.py\u001b[0m in \u001b[0;36mhttp_error_302\u001b[0;34m(self, req, fp, code, msg, headers)\u001b[0m\n\u001b[1;32m    753\u001b[0m         \u001b[0mfp\u001b[0m\u001b[0;34m.\u001b[0m\u001b[0mclose\u001b[0m\u001b[0;34m(\u001b[0m\u001b[0;34m)\u001b[0m\u001b[0;34m\u001b[0m\u001b[0m\n\u001b[1;32m    754\u001b[0m \u001b[0;34m\u001b[0m\u001b[0m\n\u001b[0;32m--> 755\u001b[0;31m         \u001b[0;32mreturn\u001b[0m \u001b[0mself\u001b[0m\u001b[0;34m.\u001b[0m\u001b[0mparent\u001b[0m\u001b[0;34m.\u001b[0m\u001b[0mopen\u001b[0m\u001b[0;34m(\u001b[0m\u001b[0mnew\u001b[0m\u001b[0;34m,\u001b[0m \u001b[0mtimeout\u001b[0m\u001b[0;34m=\u001b[0m\u001b[0mreq\u001b[0m\u001b[0;34m.\u001b[0m\u001b[0mtimeout\u001b[0m\u001b[0;34m)\u001b[0m\u001b[0;34m\u001b[0m\u001b[0m\n\u001b[0m\u001b[1;32m    756\u001b[0m \u001b[0;34m\u001b[0m\u001b[0m\n\u001b[1;32m    757\u001b[0m     \u001b[0mhttp_error_301\u001b[0m \u001b[0;34m=\u001b[0m \u001b[0mhttp_error_303\u001b[0m \u001b[0;34m=\u001b[0m \u001b[0mhttp_error_307\u001b[0m \u001b[0;34m=\u001b[0m \u001b[0mhttp_error_302\u001b[0m\u001b[0;34m\u001b[0m\u001b[0m\n",
      "\u001b[0;32m/usr/local/Cellar/python/3.7.0/Frameworks/Python.framework/Versions/3.7/lib/python3.7/urllib/request.py\u001b[0m in \u001b[0;36mopen\u001b[0;34m(self, fullurl, data, timeout)\u001b[0m\n\u001b[1;32m    529\u001b[0m         \u001b[0;32mfor\u001b[0m \u001b[0mprocessor\u001b[0m \u001b[0;32min\u001b[0m \u001b[0mself\u001b[0m\u001b[0;34m.\u001b[0m\u001b[0mprocess_response\u001b[0m\u001b[0;34m.\u001b[0m\u001b[0mget\u001b[0m\u001b[0;34m(\u001b[0m\u001b[0mprotocol\u001b[0m\u001b[0;34m,\u001b[0m \u001b[0;34m[\u001b[0m\u001b[0;34m]\u001b[0m\u001b[0;34m)\u001b[0m\u001b[0;34m:\u001b[0m\u001b[0;34m\u001b[0m\u001b[0m\n\u001b[1;32m    530\u001b[0m             \u001b[0mmeth\u001b[0m \u001b[0;34m=\u001b[0m \u001b[0mgetattr\u001b[0m\u001b[0;34m(\u001b[0m\u001b[0mprocessor\u001b[0m\u001b[0;34m,\u001b[0m \u001b[0mmeth_name\u001b[0m\u001b[0;34m)\u001b[0m\u001b[0;34m\u001b[0m\u001b[0m\n\u001b[0;32m--> 531\u001b[0;31m             \u001b[0mresponse\u001b[0m \u001b[0;34m=\u001b[0m \u001b[0mmeth\u001b[0m\u001b[0;34m(\u001b[0m\u001b[0mreq\u001b[0m\u001b[0;34m,\u001b[0m \u001b[0mresponse\u001b[0m\u001b[0;34m)\u001b[0m\u001b[0;34m\u001b[0m\u001b[0m\n\u001b[0m\u001b[1;32m    532\u001b[0m \u001b[0;34m\u001b[0m\u001b[0m\n\u001b[1;32m    533\u001b[0m         \u001b[0;32mreturn\u001b[0m \u001b[0mresponse\u001b[0m\u001b[0;34m\u001b[0m\u001b[0m\n",
      "\u001b[0;32m/usr/local/Cellar/python/3.7.0/Frameworks/Python.framework/Versions/3.7/lib/python3.7/urllib/request.py\u001b[0m in \u001b[0;36mhttp_response\u001b[0;34m(self, request, response)\u001b[0m\n\u001b[1;32m    639\u001b[0m         \u001b[0;32mif\u001b[0m \u001b[0;32mnot\u001b[0m \u001b[0;34m(\u001b[0m\u001b[0;36m200\u001b[0m \u001b[0;34m<=\u001b[0m \u001b[0mcode\u001b[0m \u001b[0;34m<\u001b[0m \u001b[0;36m300\u001b[0m\u001b[0;34m)\u001b[0m\u001b[0;34m:\u001b[0m\u001b[0;34m\u001b[0m\u001b[0m\n\u001b[1;32m    640\u001b[0m             response = self.parent.error(\n\u001b[0;32m--> 641\u001b[0;31m                 'http', request, response, code, msg, hdrs)\n\u001b[0m\u001b[1;32m    642\u001b[0m \u001b[0;34m\u001b[0m\u001b[0m\n\u001b[1;32m    643\u001b[0m         \u001b[0;32mreturn\u001b[0m \u001b[0mresponse\u001b[0m\u001b[0;34m\u001b[0m\u001b[0m\n",
      "\u001b[0;32m/usr/local/Cellar/python/3.7.0/Frameworks/Python.framework/Versions/3.7/lib/python3.7/urllib/request.py\u001b[0m in \u001b[0;36merror\u001b[0;34m(self, proto, *args)\u001b[0m\n\u001b[1;32m    567\u001b[0m         \u001b[0;32mif\u001b[0m \u001b[0mhttp_err\u001b[0m\u001b[0;34m:\u001b[0m\u001b[0;34m\u001b[0m\u001b[0m\n\u001b[1;32m    568\u001b[0m             \u001b[0margs\u001b[0m \u001b[0;34m=\u001b[0m \u001b[0;34m(\u001b[0m\u001b[0mdict\u001b[0m\u001b[0;34m,\u001b[0m \u001b[0;34m'default'\u001b[0m\u001b[0;34m,\u001b[0m \u001b[0;34m'http_error_default'\u001b[0m\u001b[0;34m)\u001b[0m \u001b[0;34m+\u001b[0m \u001b[0morig_args\u001b[0m\u001b[0;34m\u001b[0m\u001b[0m\n\u001b[0;32m--> 569\u001b[0;31m             \u001b[0;32mreturn\u001b[0m \u001b[0mself\u001b[0m\u001b[0;34m.\u001b[0m\u001b[0m_call_chain\u001b[0m\u001b[0;34m(\u001b[0m\u001b[0;34m*\u001b[0m\u001b[0margs\u001b[0m\u001b[0;34m)\u001b[0m\u001b[0;34m\u001b[0m\u001b[0m\n\u001b[0m\u001b[1;32m    570\u001b[0m \u001b[0;34m\u001b[0m\u001b[0m\n\u001b[1;32m    571\u001b[0m \u001b[0;31m# XXX probably also want an abstract factory that knows when it makes\u001b[0m\u001b[0;34m\u001b[0m\u001b[0;34m\u001b[0m\u001b[0m\n",
      "\u001b[0;32m/usr/local/Cellar/python/3.7.0/Frameworks/Python.framework/Versions/3.7/lib/python3.7/urllib/request.py\u001b[0m in \u001b[0;36m_call_chain\u001b[0;34m(self, chain, kind, meth_name, *args)\u001b[0m\n\u001b[1;32m    501\u001b[0m         \u001b[0;32mfor\u001b[0m \u001b[0mhandler\u001b[0m \u001b[0;32min\u001b[0m \u001b[0mhandlers\u001b[0m\u001b[0;34m:\u001b[0m\u001b[0;34m\u001b[0m\u001b[0m\n\u001b[1;32m    502\u001b[0m             \u001b[0mfunc\u001b[0m \u001b[0;34m=\u001b[0m \u001b[0mgetattr\u001b[0m\u001b[0;34m(\u001b[0m\u001b[0mhandler\u001b[0m\u001b[0;34m,\u001b[0m \u001b[0mmeth_name\u001b[0m\u001b[0;34m)\u001b[0m\u001b[0;34m\u001b[0m\u001b[0m\n\u001b[0;32m--> 503\u001b[0;31m             \u001b[0mresult\u001b[0m \u001b[0;34m=\u001b[0m \u001b[0mfunc\u001b[0m\u001b[0;34m(\u001b[0m\u001b[0;34m*\u001b[0m\u001b[0margs\u001b[0m\u001b[0;34m)\u001b[0m\u001b[0;34m\u001b[0m\u001b[0m\n\u001b[0m\u001b[1;32m    504\u001b[0m             \u001b[0;32mif\u001b[0m \u001b[0mresult\u001b[0m \u001b[0;32mis\u001b[0m \u001b[0;32mnot\u001b[0m \u001b[0;32mNone\u001b[0m\u001b[0;34m:\u001b[0m\u001b[0;34m\u001b[0m\u001b[0m\n\u001b[1;32m    505\u001b[0m                 \u001b[0;32mreturn\u001b[0m \u001b[0mresult\u001b[0m\u001b[0;34m\u001b[0m\u001b[0m\n",
      "\u001b[0;32m/usr/local/Cellar/python/3.7.0/Frameworks/Python.framework/Versions/3.7/lib/python3.7/urllib/request.py\u001b[0m in \u001b[0;36mhttp_error_default\u001b[0;34m(self, req, fp, code, msg, hdrs)\u001b[0m\n\u001b[1;32m    647\u001b[0m \u001b[0;32mclass\u001b[0m \u001b[0mHTTPDefaultErrorHandler\u001b[0m\u001b[0;34m(\u001b[0m\u001b[0mBaseHandler\u001b[0m\u001b[0;34m)\u001b[0m\u001b[0;34m:\u001b[0m\u001b[0;34m\u001b[0m\u001b[0m\n\u001b[1;32m    648\u001b[0m     \u001b[0;32mdef\u001b[0m \u001b[0mhttp_error_default\u001b[0m\u001b[0;34m(\u001b[0m\u001b[0mself\u001b[0m\u001b[0;34m,\u001b[0m \u001b[0mreq\u001b[0m\u001b[0;34m,\u001b[0m \u001b[0mfp\u001b[0m\u001b[0;34m,\u001b[0m \u001b[0mcode\u001b[0m\u001b[0;34m,\u001b[0m \u001b[0mmsg\u001b[0m\u001b[0;34m,\u001b[0m \u001b[0mhdrs\u001b[0m\u001b[0;34m)\u001b[0m\u001b[0;34m:\u001b[0m\u001b[0;34m\u001b[0m\u001b[0m\n\u001b[0;32m--> 649\u001b[0;31m         \u001b[0;32mraise\u001b[0m \u001b[0mHTTPError\u001b[0m\u001b[0;34m(\u001b[0m\u001b[0mreq\u001b[0m\u001b[0;34m.\u001b[0m\u001b[0mfull_url\u001b[0m\u001b[0;34m,\u001b[0m \u001b[0mcode\u001b[0m\u001b[0;34m,\u001b[0m \u001b[0mmsg\u001b[0m\u001b[0;34m,\u001b[0m \u001b[0mhdrs\u001b[0m\u001b[0;34m,\u001b[0m \u001b[0mfp\u001b[0m\u001b[0;34m)\u001b[0m\u001b[0;34m\u001b[0m\u001b[0m\n\u001b[0m\u001b[1;32m    650\u001b[0m \u001b[0;34m\u001b[0m\u001b[0m\n\u001b[1;32m    651\u001b[0m \u001b[0;32mclass\u001b[0m \u001b[0mHTTPRedirectHandler\u001b[0m\u001b[0;34m(\u001b[0m\u001b[0mBaseHandler\u001b[0m\u001b[0;34m)\u001b[0m\u001b[0;34m:\u001b[0m\u001b[0;34m\u001b[0m\u001b[0m\n",
      "\u001b[0;31mHTTPError\u001b[0m: HTTP Error 404: Not Found"
     ]
    }
   ],
   "source": [
    "stuff_i_like = ['burger', 'sushi', 'sweet potato fries', 'BBQ','beer']\n",
    "found_happy_hours = []\n",
    "my_happy_hours = []\n",
    "# First, I'm going to identify the areas of the page I want to look at\n",
    "url = 'http://www.downtownla.com/3_10_happyHours.asp?action=ALL'\n",
    "source = urlopen(url).read()\n",
    "tables = bs4.BeautifulSoup(source)"
   ]
  },
  {
   "cell_type": "code",
   "execution_count": null,
   "metadata": {
    "slideshow": {
     "slide_type": "slide"
    }
   },
   "outputs": [],
   "source": [
    "# Then, I'm going to sort out the *exact* parts of the page\n",
    "# that match what I'm looking for...\n",
    "for t in tables.findAll('p', {'class': 'calendar_EventTitle'}):\n",
    "    text = t.text\n",
    "    for s in t.findNextSiblings():\n",
    "        text += '\\n' + s.text\n",
    "    found_happy_hours.append(text)\n",
    "\n",
    "print \"The scraper found %d happy hours!\" % len(found_happy_hours)"
   ]
  },
  {
   "cell_type": "code",
   "execution_count": null,
   "metadata": {
    "slideshow": {
     "slide_type": "slide"
    }
   },
   "outputs": [],
   "source": [
    "# Now I'm going to loop through the food I like\n",
    "# and see if any of the happy hour descriptions match\n",
    "for food in stuff_i_like:\n",
    "    for hh in found_happy_hours:\n",
    "        # checking for text AND making sure I don't have duplicates\n",
    "        if food in hh and hh not in my_happy_hours:\n",
    "            print \"YAY! I found some %s!\" % food\n",
    "            my_happy_hours.append(hh)\n",
    "\n",
    "print \"I think you might like %d of them, yipeeeee!\" % len(my_happy_hours)"
   ]
  },
  {
   "cell_type": "code",
   "execution_count": null,
   "metadata": {
    "slideshow": {
     "slide_type": "slide"
    }
   },
   "outputs": [],
   "source": [
    "# Now, let's make a mail message we can read:\n",
    "message = 'Hey Katharine,\\n\\n\\n'\n",
    "message += 'OMG, I found some stuff for you in Downtown, take a look.\\n\\n'\n",
    "message += '==============================\\n'.join(my_happy_hours)\n",
    "message = message.encode('utf-8')\n",
    "# To read more about encoding:\n",
    "# http://diveintopython.org/xml_processing/unicode.html\n",
    "message = message.replace('\\t', '').replace('\\r', '')\n",
    "message += '\\n\\nXOXO,\\n Your Py Script'\n",
    "\n",
    "#print message"
   ]
  },
  {
   "cell_type": "markdown",
   "metadata": {
    "slideshow": {
     "slide_type": "slide"
    }
   },
   "source": [
    "Getting Data with an API\n",
    "=========================\n",
    "\n",
    "* API: application programming interface\n",
    "* some sites try to make your life easier\n",
    "* Twitter, New York Times, ImDB, rotten Tomatoes, Yelp, ..."
   ]
  },
  {
   "cell_type": "markdown",
   "metadata": {
    "slideshow": {
     "slide_type": "slide"
    }
   },
   "source": [
    "Rotten Tomatoes\n",
    "===============\n",
    "\n",
    "![The Wizard of Oz](images/wiz_oz.png \"The wizard of Oz\")\n",
    "\n",
    "http://www.rottentomatoes.com/top/\n"
   ]
  },
  {
   "cell_type": "markdown",
   "metadata": {
    "slideshow": {
     "slide_type": "slide"
    }
   },
   "source": [
    "API keys\n",
    "=========\n",
    "\n",
    "* required for data access\n",
    "* identifies application (you)\n",
    "* monitors usage\n",
    "* limits rates"
   ]
  },
  {
   "cell_type": "markdown",
   "metadata": {
    "slideshow": {
     "slide_type": "slide"
    }
   },
   "source": [
    "Rotten Tomatoes Key\n",
    "===================\n",
    "\n",
    "http://developer.rottentomatoes.com/member/register"
   ]
  },
  {
   "cell_type": "code",
   "execution_count": null,
   "metadata": {},
   "outputs": [],
   "source": [
    "import json\n",
    "import requests\n",
    "\n",
    "api_key = rottenTomatoes_key()\n",
    "\n",
    "url = 'http://api.rottentomatoes.com/api/public/v1.0/lists/dvds/top_rentals.json?apikey=' + api_key\n",
    "data = urllib2.urlopen(url).read()\n",
    "#print data"
   ]
  },
  {
   "cell_type": "markdown",
   "metadata": {
    "slideshow": {
     "slide_type": "slide"
    }
   },
   "source": [
    "JSON\n",
    "======\n",
    "\n",
    "* JavaScript Object Notation\n",
    "* human readable\n",
    "* transmit attribute-value pairs"
   ]
  },
  {
   "cell_type": "code",
   "execution_count": null,
   "metadata": {
    "slideshow": {
     "slide_type": "slide"
    }
   },
   "outputs": [],
   "source": [
    "a = {'a': 1, 'b':2}\n",
    "s = json.dumps(a)\n",
    "a2 = json.loads(s)\n",
    "\n",
    "## a is a dictionary\n",
    "print a\n",
    "## vs s is a string containing a in JSON encoding\n",
    "print s\n",
    "## reading back the keys are now in unicode\n",
    "print a2"
   ]
  },
  {
   "cell_type": "code",
   "execution_count": null,
   "metadata": {
    "slideshow": {
     "slide_type": "slide"
    }
   },
   "outputs": [],
   "source": [
    "## create dictionary from JSON \n",
    "dataDict = json.loads(data)\n",
    "\n",
    "## expore dictionary\n",
    "print dataDict.keys()\n",
    "\n",
    "## there is a key named `movies` containing a list of movies as a value\n",
    "movies = dataDict['movies']\n",
    "\n",
    "## each element of the list `movies` is a dictionary\n",
    "print movies[0].keys()\n",
    "\n",
    "## one of the keys is called `ratings`\n",
    "## the value is yet another dictionary\n",
    "print movies[0]['ratings'].keys()\n",
    "\n",
    "## so we made it all the way to find the critics score\n",
    "print movies[0]['ratings']['critics_score']\n"
   ]
  },
  {
   "cell_type": "markdown",
   "metadata": {
    "slideshow": {
     "slide_type": "slide"
    }
   },
   "source": [
    "Quiz\n",
    "=====\n",
    "\n",
    "* build a list with critics scores\n",
    "* build a list with audience scores"
   ]
  },
  {
   "cell_type": "code",
   "execution_count": null,
   "metadata": {
    "slideshow": {
     "slide_type": "slide"
    }
   },
   "outputs": [],
   "source": [
    "# critics scores list\n",
    "\n",
    "\n",
    "# audience scores list\n"
   ]
  },
  {
   "cell_type": "markdown",
   "metadata": {
    "slideshow": {
     "slide_type": "skip"
    }
   },
   "source": [
    "The following code shows how to create a pandas data frame with the data we gathered from the webpage.\n",
    "Beware of the `set_index()` function in pandas. Per default it does not change the actual data frame! You need to either reassign the output or set the `inplace` argument to `True`."
   ]
  },
  {
   "cell_type": "code",
   "execution_count": null,
   "metadata": {
    "slideshow": {
     "slide_type": "slide"
    }
   },
   "outputs": [],
   "source": [
    "## create pandas data frame with critics and audience score\n",
    "scores = pd.DataFrame(data=[critics_scores, audience_scores]).transpose()\n",
    "scores.columns = ['critics', 'audience']\n",
    "\n",
    "## also create a list with all movie titles\n",
    "movie_titles = [m['title'] for m in movies]\n",
    "\n",
    "## set index of dataFrame BEWARE of inplace!\n",
    "scores.set_index([movie_titles])\n",
    "\n",
    "## the line above does not changes scores!\n",
    "## You need to either reassign\n",
    "\n",
    "scores = scores.set_index([movie_titles])\n",
    "\n",
    "## or set the inplace argument to True\n",
    "scores.set_index([movie_titles], inplace=True)\n",
    "scores.head(3)"
   ]
  },
  {
   "cell_type": "code",
   "execution_count": null,
   "metadata": {
    "slideshow": {
     "slide_type": "slide"
    }
   },
   "outputs": [],
   "source": [
    "## create a bar plot with the data\n",
    "## notice that we are using the data frame itself and call its plot function\n",
    "scores.plot(kind = 'bar')\n",
    "\n",
    "## set the title to Score Comparison\n",
    "plt.title('Score Comparison')\n",
    "\n",
    "## set the x label\n",
    "plt.xlabel('Movies')\n",
    "\n",
    "## set the y label\n",
    "plt.ylabel('Scores')"
   ]
  },
  {
   "cell_type": "code",
   "execution_count": null,
   "metadata": {
    "slideshow": {
     "slide_type": "slide"
    }
   },
   "outputs": [],
   "source": [
    "## show the plot\n",
    "plt.show()"
   ]
  },
  {
   "cell_type": "markdown",
   "metadata": {
    "slideshow": {
     "slide_type": "slide"
    }
   },
   "source": [
    "Twitter Example:\n",
    "================\n",
    "\n",
    "* API a bit more complicated\n",
    "* libraries make life easier\n",
    "* python-twitter\n",
    "\n",
    "https://github.com/bear/python-twitter\n",
    "\n",
    "What we are going to do is scrape Joe's twitter account, and then filter it for the interesting tweets. Defining interesting as tweets that have be re-tweeted at least 10 times. \n"
   ]
  },
  {
   "cell_type": "code",
   "execution_count": null,
   "metadata": {
    "slideshow": {
     "slide_type": "slide"
    }
   },
   "outputs": [],
   "source": [
    "import twitter\n",
    "\n",
    "## define the necessary keys\n",
    "cKey = twitterAPI_key()\n",
    "cSecret = twitterAPI_secret()\n",
    "aKey = twitterAPI_access_token_key()\n",
    "aSecret = twitterAPI_access_token_secret()\n",
    "\n",
    "## create the api object with the twitter-python library\n",
    "api = twitter.Api(consumer_key=cKey, consumer_secret=cSecret, access_token_key=aKey, access_token_secret=aSecret)\n"
   ]
  },
  {
   "cell_type": "code",
   "execution_count": null,
   "metadata": {
    "slideshow": {
     "slide_type": "slide"
    }
   },
   "outputs": [],
   "source": [
    "## get the user timeline with screen_name = 'stat110'\n",
    "twitter_statuses = api.GetUserTimeline(screen_name = 'stat110')\n",
    "\n",
    "## create a data frame\n",
    "## first get a list of panda Series or dict\n",
    "pdSeriesList = [pd.Series(t.AsDict()) for t in twitter_statuses]\n",
    "\n",
    "## then create the data frame\n",
    "data = pd.DataFrame(pdSeriesList)\n",
    "\n",
    "data.head(2)"
   ]
  },
  {
   "cell_type": "code",
   "execution_count": null,
   "metadata": {
    "slideshow": {
     "slide_type": "slide"
    }
   },
   "outputs": [],
   "source": [
    "## filter tweets with enough retweet_count\n",
    "maybe_interesting = data[data.retweet_count>20]\n",
    "\n",
    "## get the text of these tweets\n",
    "tweet_text = maybe_interesting.text\n",
    "\n",
    "## print them out\n",
    "text = tweet_text.values\n",
    "\n",
    "for t in text:\n",
    "    print '######'\n",
    "    print t"
   ]
  },
  {
   "cell_type": "markdown",
   "metadata": {
    "slideshow": {
     "slide_type": "skip"
    }
   },
   "source": [
    "Extracting columns:\n",
    "===================\n",
    "\n",
    "__Warning:__ The returned column `tweet_text` is a `view` on the data\n",
    "    \n",
    "* it is not a copy\n",
    "* you change the Series => you change the DataFrame\n",
    "\n",
    "Below is another example of such a view:"
   ]
  },
  {
   "cell_type": "code",
   "execution_count": null,
   "metadata": {
    "slideshow": {
     "slide_type": "skip"
    }
   },
   "outputs": [],
   "source": [
    "## create a view for favorite_count on maybe_interesting\n",
    "view = maybe_interesting['favorite_count']\n",
    "print '-----------------'\n",
    "print \"This is view:\"\n",
    "print view\n",
    "## change a value\n",
    "view[8] = 9999\n",
    "\n",
    "## look at original frame\n",
    "print '-----------------'\n",
    "print \"This is view after changing view[8]\"\n",
    "print view\n",
    "\n",
    "print '-----------------'\n",
    "print \"This is maybe_interesting after changing view[8]\"\n",
    "print \"It changed too!\"\n",
    "print maybe_interesting['favorite_count']\n",
    "\n",
    "## to avoid this you can use copy\n",
    "independent_data = maybe_interesting['favorite_count'].copy()\n",
    "independent_data[10] = 999\n",
    "print '-----------------'\n",
    "print \"This is independent_data after changed at 10:\"\n",
    "print independent_data\n",
    "print '-----------------'\n",
    "print \"This is maybe_interesting after changing independent_data:\"\n",
    "print \"It did not change because we only changed a copy of it\"\n",
    "print maybe_interesting['favorite_count']"
   ]
  },
  {
   "cell_type": "markdown",
   "metadata": {
    "collapsed": true,
    "slideshow": {
     "slide_type": "slide"
    }
   },
   "source": [
    "What we covered today:\n",
    "============\n",
    "\n",
    "* Pandas data frames\n",
    "* Guidelines for friendly scraping\n",
    "* Scraping html sites\n",
    "* Scraping with Api's\n",
    "* Basic data cleanup\n"
   ]
  },
  {
   "cell_type": "markdown",
   "metadata": {
    "slideshow": {
     "slide_type": "slide"
    }
   },
   "source": [
    "Further material\n",
    "================\n",
    "\n",
    "* I highly recommend Katharine Jarmul's scraping tutorials\n",
    "* For example [this one](https://www.youtube.com/watch?v=p1iX0uxM1w8)\n",
    "* Pandas has extensive [documentation](http://pandas.pydata.org/pandas-docs/stable/)\n",
    "* Especially the [tem minutes to pandas chapter](http://pandas.pydata.org/pandas-docs/stable/10min.html)\n",
    "\n",
    "* [Greg Reda](http://www.gregreda.com/2013/10/26/using-pandas-on-the-movielens-dataset/) did a lot more pandas examples for the movie lens data set"
   ]
  }
 ],
 "metadata": {
  "celltoolbar": "Slideshow",
  "kernelspec": {
   "display_name": "Python 3",
   "language": "python",
   "name": "python3"
  },
  "language_info": {
   "codemirror_mode": {
    "name": "ipython",
    "version": 3
   },
   "file_extension": ".py",
   "mimetype": "text/x-python",
   "name": "python",
   "nbconvert_exporter": "python",
   "pygments_lexer": "ipython3",
   "version": "3.7.0"
  }
 },
 "nbformat": 4,
 "nbformat_minor": 1
}
